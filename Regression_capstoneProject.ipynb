{
  "nbformat": 4,
  "nbformat_minor": 0,
  "metadata": {
    "colab": {
      "provenance": [],
      "authorship_tag": "ABX9TyOTNpEM0+hontHhEy60T99R",
      "include_colab_link": true
    },
    "kernelspec": {
      "name": "python3",
      "display_name": "Python 3"
    },
    "language_info": {
      "name": "python"
    }
  },
  "cells": [
    {
      "cell_type": "markdown",
      "metadata": {
        "id": "view-in-github",
        "colab_type": "text"
      },
      "source": [
        "<a href=\"https://colab.research.google.com/github/swati512040/Retail_Sales_Prediction/blob/main/Regression_capstoneProject.ipynb\" target=\"_parent\"><img src=\"https://colab.research.google.com/assets/colab-badge.svg\" alt=\"Open In Colab\"/></a>"
      ]
    },
    {
      "cell_type": "markdown",
      "source": [
        "# **Project Name**    - **RETAIL SALES PREDICTION**\n",
        "\n"
      ],
      "metadata": {
        "id": "vncDsAP0Gaoa"
      }
    },
    {
      "cell_type": "markdown",
      "source": [
        "##### **Project Type**    - Regression\n",
        "##### **Contribution**    - Individual\n",
        "##### **Team Member-** SWATI KULKARNI\n"
      ],
      "metadata": {
        "id": "beRrZCGUAJYm"
      }
    },
    {
      "cell_type": "markdown",
      "source": [
        "# **Project Summary -**"
      ],
      "metadata": {
        "id": "FJNUwmbgGyua"
      }
    },
    {
      "cell_type": "markdown",
      "source": [
        "Rossman Sales Prediction data is a data set that contain historical sales data for a retail store chain. The data includes information about the store, such as Competitior’s Detail, type, holiday’s, as well as number of the customers and sales transaction, such as the date, time, and amount of sale on each day.\n",
        "\n",
        "After understanding the data and getting variables, we first gathered and clean the data, and handled the null values and finally for getting better results we merged two datasets on inner join after that we have also typecasted the needed features into required format in order to visualize them properly. We performed EDA analysis of  different types of graphs by taking diffrent features and we gathered many good insights from it that helped us to make future decisions in implementing different ML Models .Then using further Feature Engineering we saw heatmap of different features. Under the umbrella of feature engineering we have also defined two codes for outliers detection and outliers treatment with the help of IQR technique and capped all the outliers of continous features in 25-75 percentile. Also, we have noticed that some of the features were categorical in nature and ML model can not understand the language of alphabets(strings). So, we have encoded them into numericals using One-Hot Encoding technique as they were unordered in nature.\n",
        "\n",
        "At last we splited the dataset into training and testing sets. Next, we choose various linear and non linear supervised machine learning algorithms and use the training data to train the model. Finally, we evaluated the model's performance on the testing data to see how well it is able to predict the sales for the real time data. For this task we used many machine learning algorithms, including linear regression,random forests. In the beginning as our data is not perfectly linearly dependent , we have achieved r2 score of 0.95 even after using regularization techniques i.e Lasso, Ridge in linear regression model. We knew that complex model do not have underlying statistical assumptions so we were expecting more significant results in higher comlex model."
      ],
      "metadata": {
        "id": "F6v_1wHtG2nS"
      }
    },
    {
      "cell_type": "markdown",
      "source": [
        "# **GitHub Link -**"
      ],
      "metadata": {
        "id": "w6K7xa23Elo4"
      }
    },
    {
      "cell_type": "markdown",
      "source": [
        "https://github.com/sahoomrutyunjaya12345/Retail_Sales_Prediction.git"
      ],
      "metadata": {
        "id": "h1o69JH3Eqqn"
      }
    },
    {
      "cell_type": "markdown",
      "source": [
        "# **Problem Statement**\n"
      ],
      "metadata": {
        "id": "yQaldy8SH6Dl"
      }
    },
    {
      "cell_type": "markdown",
      "source": [
        "**Rossmann operates over 3,000 drug stores in 7 European countries. Currently, Rossmann store managers are tasked with predicting their daily sales for up to six weeks in advance. Store sales are influenced by many factors, including promotions, competition, school and state holidays, seasonality, and locality. With thousands of individual managers predicting sales based on their unique circumstances, the accuracy of results can be quite varied. You are provided with historical sales data for 1,115 Rossmann stores. The task is to forecast the \"Sales\" column for the test set. Note that some stores in the dataset were temporarily closed for refurbishment.**"
      ],
      "metadata": {
        "id": "DpeJGUA3kjGy"
      }
    },
    {
      "cell_type": "markdown",
      "source": [
        "# **General Guidelines** : -  "
      ],
      "metadata": {
        "id": "mDgbUHAGgjLW"
      }
    },
    {
      "cell_type": "markdown",
      "source": [
        "1.   Well-structured, formatted, and commented code is required.\n",
        "2.   Exception Handling, Production Grade Code & Deployment Ready Code will be a plus. Those students will be awarded some additional credits.\n",
        "     \n",
        "     The additional credits will have advantages over other students during Star Student selection.\n",
        "       \n",
        "             [ Note: - Deployment Ready Code is defined as, the whole .ipynb notebook should be executable in one go\n",
        "                       without a single error logged. ]\n",
        "\n",
        "3.   Each and every logic should have proper comments.\n",
        "4. You may add as many number of charts you want. Make Sure for each and every chart the following format should be answered.\n",
        "        \n",
        "\n",
        "```\n",
        "# Chart visualization code\n",
        "```\n",
        "            \n",
        "\n",
        "*   Why did you pick the specific chart?\n",
        "*   What is/are the insight(s) found from the chart?\n",
        "* Will the gained insights help creating a positive business impact?\n",
        "Are there any insights that lead to negative growth? Justify with specific reason.\n",
        "\n",
        "5. You have to create at least 15 logical & meaningful charts having important insights.\n",
        "\n",
        "\n",
        "[ Hints : - Do the Vizualization in  a structured way while following \"UBM\" Rule.\n",
        "\n",
        "U - Univariate Analysis,\n",
        "\n",
        "B - Bivariate Analysis (Numerical - Categorical, Numerical - Numerical, Categorical - Categorical)\n",
        "\n",
        "M - Multivariate Analysis\n",
        " ]\n",
        "\n",
        "\n",
        "\n",
        "\n",
        "\n",
        "6. You may add more ml algorithms for model creation. Make sure for each and every algorithm, the following format should be answered.\n",
        "\n",
        "\n",
        "*   Explain the ML Model used and it's performance using Evaluation metric Score Chart.\n",
        "\n",
        "\n",
        "*   Cross- Validation & Hyperparameter Tuning\n",
        "\n",
        "*   Have you seen any improvement? Note down the improvement with updates Evaluation metric Score Chart.\n",
        "\n",
        "*   Explain each evaluation metric's indication towards business and the business impact pf the ML model used.\n",
        "\n",
        "\n",
        "\n",
        "\n",
        "\n",
        "\n",
        "\n",
        "\n",
        "\n",
        "\n",
        "\n",
        "\n",
        "\n",
        "\n",
        "\n",
        "\n",
        "\n",
        "\n"
      ],
      "metadata": {
        "id": "ZrxVaUj-hHfC"
      }
    },
    {
      "cell_type": "markdown",
      "source": [
        "# ***Let's Begin !***"
      ],
      "metadata": {
        "id": "O_i_v8NEhb9l"
      }
    },
    {
      "cell_type": "markdown",
      "source": [
        "## ***1. Know Your Data***"
      ],
      "metadata": {
        "id": "HhfV-JJviCcP"
      }
    },
    {
      "cell_type": "markdown",
      "source": [
        "### Import Libraries"
      ],
      "metadata": {
        "id": "Y3lxredqlCYt"
      }
    },
    {
      "cell_type": "code",
      "source": [
        "# Import Libraries\n",
        "import numpy as np\n",
        "import pandas as pd\n",
        "import matplotlib.pyplot as plt\n",
        "%matplotlib inline\n",
        "import seaborn as sns\n",
        "from datetime import datetime\n",
        "import missingno as msno\n",
        "\n",
        "# Adding this to ignore future warnings\n",
        "import warnings\n",
        "warnings.filterwarnings(\"ignore\")"
      ],
      "metadata": {
        "id": "M8Vqi-pPk-HR"
      },
      "execution_count": 6,
      "outputs": []
    },
    {
      "cell_type": "markdown",
      "source": [
        "### Dataset Loading"
      ],
      "metadata": {
        "id": "3RnN4peoiCZX"
      }
    },
    {
      "cell_type": "code",
      "source": [
        "# mounting google drive\n",
        "from google.colab import drive\n",
        "drive.mount('/content/drive')"
      ],
      "metadata": {
        "id": "nNjoGsRjsnbS",
        "colab": {
          "base_uri": "https://localhost:8080/"
        },
        "outputId": "81d69072-c6a0-4b86-c906-2de134132a38"
      },
      "execution_count": 7,
      "outputs": [
        {
          "output_type": "stream",
          "name": "stdout",
          "text": [
            "Drive already mounted at /content/drive; to attempt to forcibly remount, call drive.mount(\"/content/drive\", force_remount=True).\n"
          ]
        }
      ]
    },
    {
      "cell_type": "code",
      "source": [
        "# Load Dataset\n",
        "rossmann_df = pd.read_csv(\"/content/drive/MyDrive/Regression Capstone project/Rossmann Stores Data.csv\")\n",
        "store_df = pd.read_csv(\"/content/drive/MyDrive/Regression Capstone project/store.csv\")"
      ],
      "metadata": {
        "id": "4CkvbW_SlZ_R"
      },
      "execution_count": 8,
      "outputs": []
    },
    {
      "cell_type": "markdown",
      "source": [
        "### Dataset First View"
      ],
      "metadata": {
        "id": "x71ZqKXriCWQ"
      }
    },
    {
      "cell_type": "code",
      "source": [
        "# Dataset First Look of rossmann_df\n",
        "rossmann_df.head()"
      ],
      "metadata": {
        "id": "LWNFOSvLl09H",
        "colab": {
          "base_uri": "https://localhost:8080/",
          "height": 206
        },
        "outputId": "37f6b73e-4257-4548-f75e-3b30f94c7a79"
      },
      "execution_count": 9,
      "outputs": [
        {
          "output_type": "execute_result",
          "data": {
            "text/plain": [
              "   Store  DayOfWeek        Date  Sales  Customers  Open  Promo StateHoliday  \\\n",
              "0      1          5  2015-07-31   5263        555     1      1            0   \n",
              "1      2          5  2015-07-31   6064        625     1      1            0   \n",
              "2      3          5  2015-07-31   8314        821     1      1            0   \n",
              "3      4          5  2015-07-31  13995       1498     1      1            0   \n",
              "4      5          5  2015-07-31   4822        559     1      1            0   \n",
              "\n",
              "   SchoolHoliday  \n",
              "0              1  \n",
              "1              1  \n",
              "2              1  \n",
              "3              1  \n",
              "4              1  "
            ],
            "text/html": [
              "\n",
              "  <div id=\"df-cc5f12a3-c3c7-4cb1-903e-68e155ca9851\" class=\"colab-df-container\">\n",
              "    <div>\n",
              "<style scoped>\n",
              "    .dataframe tbody tr th:only-of-type {\n",
              "        vertical-align: middle;\n",
              "    }\n",
              "\n",
              "    .dataframe tbody tr th {\n",
              "        vertical-align: top;\n",
              "    }\n",
              "\n",
              "    .dataframe thead th {\n",
              "        text-align: right;\n",
              "    }\n",
              "</style>\n",
              "<table border=\"1\" class=\"dataframe\">\n",
              "  <thead>\n",
              "    <tr style=\"text-align: right;\">\n",
              "      <th></th>\n",
              "      <th>Store</th>\n",
              "      <th>DayOfWeek</th>\n",
              "      <th>Date</th>\n",
              "      <th>Sales</th>\n",
              "      <th>Customers</th>\n",
              "      <th>Open</th>\n",
              "      <th>Promo</th>\n",
              "      <th>StateHoliday</th>\n",
              "      <th>SchoolHoliday</th>\n",
              "    </tr>\n",
              "  </thead>\n",
              "  <tbody>\n",
              "    <tr>\n",
              "      <th>0</th>\n",
              "      <td>1</td>\n",
              "      <td>5</td>\n",
              "      <td>2015-07-31</td>\n",
              "      <td>5263</td>\n",
              "      <td>555</td>\n",
              "      <td>1</td>\n",
              "      <td>1</td>\n",
              "      <td>0</td>\n",
              "      <td>1</td>\n",
              "    </tr>\n",
              "    <tr>\n",
              "      <th>1</th>\n",
              "      <td>2</td>\n",
              "      <td>5</td>\n",
              "      <td>2015-07-31</td>\n",
              "      <td>6064</td>\n",
              "      <td>625</td>\n",
              "      <td>1</td>\n",
              "      <td>1</td>\n",
              "      <td>0</td>\n",
              "      <td>1</td>\n",
              "    </tr>\n",
              "    <tr>\n",
              "      <th>2</th>\n",
              "      <td>3</td>\n",
              "      <td>5</td>\n",
              "      <td>2015-07-31</td>\n",
              "      <td>8314</td>\n",
              "      <td>821</td>\n",
              "      <td>1</td>\n",
              "      <td>1</td>\n",
              "      <td>0</td>\n",
              "      <td>1</td>\n",
              "    </tr>\n",
              "    <tr>\n",
              "      <th>3</th>\n",
              "      <td>4</td>\n",
              "      <td>5</td>\n",
              "      <td>2015-07-31</td>\n",
              "      <td>13995</td>\n",
              "      <td>1498</td>\n",
              "      <td>1</td>\n",
              "      <td>1</td>\n",
              "      <td>0</td>\n",
              "      <td>1</td>\n",
              "    </tr>\n",
              "    <tr>\n",
              "      <th>4</th>\n",
              "      <td>5</td>\n",
              "      <td>5</td>\n",
              "      <td>2015-07-31</td>\n",
              "      <td>4822</td>\n",
              "      <td>559</td>\n",
              "      <td>1</td>\n",
              "      <td>1</td>\n",
              "      <td>0</td>\n",
              "      <td>1</td>\n",
              "    </tr>\n",
              "  </tbody>\n",
              "</table>\n",
              "</div>\n",
              "    <div class=\"colab-df-buttons\">\n",
              "\n",
              "  <div class=\"colab-df-container\">\n",
              "    <button class=\"colab-df-convert\" onclick=\"convertToInteractive('df-cc5f12a3-c3c7-4cb1-903e-68e155ca9851')\"\n",
              "            title=\"Convert this dataframe to an interactive table.\"\n",
              "            style=\"display:none;\">\n",
              "\n",
              "  <svg xmlns=\"http://www.w3.org/2000/svg\" height=\"24px\" viewBox=\"0 -960 960 960\">\n",
              "    <path d=\"M120-120v-720h720v720H120Zm60-500h600v-160H180v160Zm220 220h160v-160H400v160Zm0 220h160v-160H400v160ZM180-400h160v-160H180v160Zm440 0h160v-160H620v160ZM180-180h160v-160H180v160Zm440 0h160v-160H620v160Z\"/>\n",
              "  </svg>\n",
              "    </button>\n",
              "\n",
              "  <style>\n",
              "    .colab-df-container {\n",
              "      display:flex;\n",
              "      gap: 12px;\n",
              "    }\n",
              "\n",
              "    .colab-df-convert {\n",
              "      background-color: #E8F0FE;\n",
              "      border: none;\n",
              "      border-radius: 50%;\n",
              "      cursor: pointer;\n",
              "      display: none;\n",
              "      fill: #1967D2;\n",
              "      height: 32px;\n",
              "      padding: 0 0 0 0;\n",
              "      width: 32px;\n",
              "    }\n",
              "\n",
              "    .colab-df-convert:hover {\n",
              "      background-color: #E2EBFA;\n",
              "      box-shadow: 0px 1px 2px rgba(60, 64, 67, 0.3), 0px 1px 3px 1px rgba(60, 64, 67, 0.15);\n",
              "      fill: #174EA6;\n",
              "    }\n",
              "\n",
              "    .colab-df-buttons div {\n",
              "      margin-bottom: 4px;\n",
              "    }\n",
              "\n",
              "    [theme=dark] .colab-df-convert {\n",
              "      background-color: #3B4455;\n",
              "      fill: #D2E3FC;\n",
              "    }\n",
              "\n",
              "    [theme=dark] .colab-df-convert:hover {\n",
              "      background-color: #434B5C;\n",
              "      box-shadow: 0px 1px 3px 1px rgba(0, 0, 0, 0.15);\n",
              "      filter: drop-shadow(0px 1px 2px rgba(0, 0, 0, 0.3));\n",
              "      fill: #FFFFFF;\n",
              "    }\n",
              "  </style>\n",
              "\n",
              "    <script>\n",
              "      const buttonEl =\n",
              "        document.querySelector('#df-cc5f12a3-c3c7-4cb1-903e-68e155ca9851 button.colab-df-convert');\n",
              "      buttonEl.style.display =\n",
              "        google.colab.kernel.accessAllowed ? 'block' : 'none';\n",
              "\n",
              "      async function convertToInteractive(key) {\n",
              "        const element = document.querySelector('#df-cc5f12a3-c3c7-4cb1-903e-68e155ca9851');\n",
              "        const dataTable =\n",
              "          await google.colab.kernel.invokeFunction('convertToInteractive',\n",
              "                                                    [key], {});\n",
              "        if (!dataTable) return;\n",
              "\n",
              "        const docLinkHtml = 'Like what you see? Visit the ' +\n",
              "          '<a target=\"_blank\" href=https://colab.research.google.com/notebooks/data_table.ipynb>data table notebook</a>'\n",
              "          + ' to learn more about interactive tables.';\n",
              "        element.innerHTML = '';\n",
              "        dataTable['output_type'] = 'display_data';\n",
              "        await google.colab.output.renderOutput(dataTable, element);\n",
              "        const docLink = document.createElement('div');\n",
              "        docLink.innerHTML = docLinkHtml;\n",
              "        element.appendChild(docLink);\n",
              "      }\n",
              "    </script>\n",
              "  </div>\n",
              "\n",
              "\n",
              "<div id=\"df-8d6b9944-4ea3-4ac0-bc24-ed8ff459138d\">\n",
              "  <button class=\"colab-df-quickchart\" onclick=\"quickchart('df-8d6b9944-4ea3-4ac0-bc24-ed8ff459138d')\"\n",
              "            title=\"Suggest charts.\"\n",
              "            style=\"display:none;\">\n",
              "\n",
              "<svg xmlns=\"http://www.w3.org/2000/svg\" height=\"24px\"viewBox=\"0 0 24 24\"\n",
              "     width=\"24px\">\n",
              "    <g>\n",
              "        <path d=\"M19 3H5c-1.1 0-2 .9-2 2v14c0 1.1.9 2 2 2h14c1.1 0 2-.9 2-2V5c0-1.1-.9-2-2-2zM9 17H7v-7h2v7zm4 0h-2V7h2v10zm4 0h-2v-4h2v4z\"/>\n",
              "    </g>\n",
              "</svg>\n",
              "  </button>\n",
              "\n",
              "<style>\n",
              "  .colab-df-quickchart {\n",
              "      --bg-color: #E8F0FE;\n",
              "      --fill-color: #1967D2;\n",
              "      --hover-bg-color: #E2EBFA;\n",
              "      --hover-fill-color: #174EA6;\n",
              "      --disabled-fill-color: #AAA;\n",
              "      --disabled-bg-color: #DDD;\n",
              "  }\n",
              "\n",
              "  [theme=dark] .colab-df-quickchart {\n",
              "      --bg-color: #3B4455;\n",
              "      --fill-color: #D2E3FC;\n",
              "      --hover-bg-color: #434B5C;\n",
              "      --hover-fill-color: #FFFFFF;\n",
              "      --disabled-bg-color: #3B4455;\n",
              "      --disabled-fill-color: #666;\n",
              "  }\n",
              "\n",
              "  .colab-df-quickchart {\n",
              "    background-color: var(--bg-color);\n",
              "    border: none;\n",
              "    border-radius: 50%;\n",
              "    cursor: pointer;\n",
              "    display: none;\n",
              "    fill: var(--fill-color);\n",
              "    height: 32px;\n",
              "    padding: 0;\n",
              "    width: 32px;\n",
              "  }\n",
              "\n",
              "  .colab-df-quickchart:hover {\n",
              "    background-color: var(--hover-bg-color);\n",
              "    box-shadow: 0 1px 2px rgba(60, 64, 67, 0.3), 0 1px 3px 1px rgba(60, 64, 67, 0.15);\n",
              "    fill: var(--button-hover-fill-color);\n",
              "  }\n",
              "\n",
              "  .colab-df-quickchart-complete:disabled,\n",
              "  .colab-df-quickchart-complete:disabled:hover {\n",
              "    background-color: var(--disabled-bg-color);\n",
              "    fill: var(--disabled-fill-color);\n",
              "    box-shadow: none;\n",
              "  }\n",
              "\n",
              "  .colab-df-spinner {\n",
              "    border: 2px solid var(--fill-color);\n",
              "    border-color: transparent;\n",
              "    border-bottom-color: var(--fill-color);\n",
              "    animation:\n",
              "      spin 1s steps(1) infinite;\n",
              "  }\n",
              "\n",
              "  @keyframes spin {\n",
              "    0% {\n",
              "      border-color: transparent;\n",
              "      border-bottom-color: var(--fill-color);\n",
              "      border-left-color: var(--fill-color);\n",
              "    }\n",
              "    20% {\n",
              "      border-color: transparent;\n",
              "      border-left-color: var(--fill-color);\n",
              "      border-top-color: var(--fill-color);\n",
              "    }\n",
              "    30% {\n",
              "      border-color: transparent;\n",
              "      border-left-color: var(--fill-color);\n",
              "      border-top-color: var(--fill-color);\n",
              "      border-right-color: var(--fill-color);\n",
              "    }\n",
              "    40% {\n",
              "      border-color: transparent;\n",
              "      border-right-color: var(--fill-color);\n",
              "      border-top-color: var(--fill-color);\n",
              "    }\n",
              "    60% {\n",
              "      border-color: transparent;\n",
              "      border-right-color: var(--fill-color);\n",
              "    }\n",
              "    80% {\n",
              "      border-color: transparent;\n",
              "      border-right-color: var(--fill-color);\n",
              "      border-bottom-color: var(--fill-color);\n",
              "    }\n",
              "    90% {\n",
              "      border-color: transparent;\n",
              "      border-bottom-color: var(--fill-color);\n",
              "    }\n",
              "  }\n",
              "</style>\n",
              "\n",
              "  <script>\n",
              "    async function quickchart(key) {\n",
              "      const quickchartButtonEl =\n",
              "        document.querySelector('#' + key + ' button');\n",
              "      quickchartButtonEl.disabled = true;  // To prevent multiple clicks.\n",
              "      quickchartButtonEl.classList.add('colab-df-spinner');\n",
              "      try {\n",
              "        const charts = await google.colab.kernel.invokeFunction(\n",
              "            'suggestCharts', [key], {});\n",
              "      } catch (error) {\n",
              "        console.error('Error during call to suggestCharts:', error);\n",
              "      }\n",
              "      quickchartButtonEl.classList.remove('colab-df-spinner');\n",
              "      quickchartButtonEl.classList.add('colab-df-quickchart-complete');\n",
              "    }\n",
              "    (() => {\n",
              "      let quickchartButtonEl =\n",
              "        document.querySelector('#df-8d6b9944-4ea3-4ac0-bc24-ed8ff459138d button');\n",
              "      quickchartButtonEl.style.display =\n",
              "        google.colab.kernel.accessAllowed ? 'block' : 'none';\n",
              "    })();\n",
              "  </script>\n",
              "</div>\n",
              "    </div>\n",
              "  </div>\n"
            ]
          },
          "metadata": {},
          "execution_count": 9
        }
      ]
    },
    {
      "cell_type": "code",
      "source": [
        "# Dataset First Look of Store_df\n",
        "store_df.head()"
      ],
      "metadata": {
        "id": "IUe1sxC_t5zW",
        "colab": {
          "base_uri": "https://localhost:8080/",
          "height": 206
        },
        "outputId": "8a6d0444-f88a-4978-cccd-b8915a68bb9e"
      },
      "execution_count": 10,
      "outputs": [
        {
          "output_type": "execute_result",
          "data": {
            "text/plain": [
              "   Store StoreType Assortment  CompetitionDistance  CompetitionOpenSinceMonth  \\\n",
              "0      1         c          a               1270.0                        9.0   \n",
              "1      2         a          a                570.0                       11.0   \n",
              "2      3         a          a              14130.0                       12.0   \n",
              "3      4         c          c                620.0                        9.0   \n",
              "4      5         a          a              29910.0                        4.0   \n",
              "\n",
              "   CompetitionOpenSinceYear  Promo2  Promo2SinceWeek  Promo2SinceYear  \\\n",
              "0                    2008.0       0              NaN              NaN   \n",
              "1                    2007.0       1             13.0           2010.0   \n",
              "2                    2006.0       1             14.0           2011.0   \n",
              "3                    2009.0       0              NaN              NaN   \n",
              "4                    2015.0       0              NaN              NaN   \n",
              "\n",
              "     PromoInterval  \n",
              "0              NaN  \n",
              "1  Jan,Apr,Jul,Oct  \n",
              "2  Jan,Apr,Jul,Oct  \n",
              "3              NaN  \n",
              "4              NaN  "
            ],
            "text/html": [
              "\n",
              "  <div id=\"df-5b9027b2-e024-4b32-a42f-813f3d316133\" class=\"colab-df-container\">\n",
              "    <div>\n",
              "<style scoped>\n",
              "    .dataframe tbody tr th:only-of-type {\n",
              "        vertical-align: middle;\n",
              "    }\n",
              "\n",
              "    .dataframe tbody tr th {\n",
              "        vertical-align: top;\n",
              "    }\n",
              "\n",
              "    .dataframe thead th {\n",
              "        text-align: right;\n",
              "    }\n",
              "</style>\n",
              "<table border=\"1\" class=\"dataframe\">\n",
              "  <thead>\n",
              "    <tr style=\"text-align: right;\">\n",
              "      <th></th>\n",
              "      <th>Store</th>\n",
              "      <th>StoreType</th>\n",
              "      <th>Assortment</th>\n",
              "      <th>CompetitionDistance</th>\n",
              "      <th>CompetitionOpenSinceMonth</th>\n",
              "      <th>CompetitionOpenSinceYear</th>\n",
              "      <th>Promo2</th>\n",
              "      <th>Promo2SinceWeek</th>\n",
              "      <th>Promo2SinceYear</th>\n",
              "      <th>PromoInterval</th>\n",
              "    </tr>\n",
              "  </thead>\n",
              "  <tbody>\n",
              "    <tr>\n",
              "      <th>0</th>\n",
              "      <td>1</td>\n",
              "      <td>c</td>\n",
              "      <td>a</td>\n",
              "      <td>1270.0</td>\n",
              "      <td>9.0</td>\n",
              "      <td>2008.0</td>\n",
              "      <td>0</td>\n",
              "      <td>NaN</td>\n",
              "      <td>NaN</td>\n",
              "      <td>NaN</td>\n",
              "    </tr>\n",
              "    <tr>\n",
              "      <th>1</th>\n",
              "      <td>2</td>\n",
              "      <td>a</td>\n",
              "      <td>a</td>\n",
              "      <td>570.0</td>\n",
              "      <td>11.0</td>\n",
              "      <td>2007.0</td>\n",
              "      <td>1</td>\n",
              "      <td>13.0</td>\n",
              "      <td>2010.0</td>\n",
              "      <td>Jan,Apr,Jul,Oct</td>\n",
              "    </tr>\n",
              "    <tr>\n",
              "      <th>2</th>\n",
              "      <td>3</td>\n",
              "      <td>a</td>\n",
              "      <td>a</td>\n",
              "      <td>14130.0</td>\n",
              "      <td>12.0</td>\n",
              "      <td>2006.0</td>\n",
              "      <td>1</td>\n",
              "      <td>14.0</td>\n",
              "      <td>2011.0</td>\n",
              "      <td>Jan,Apr,Jul,Oct</td>\n",
              "    </tr>\n",
              "    <tr>\n",
              "      <th>3</th>\n",
              "      <td>4</td>\n",
              "      <td>c</td>\n",
              "      <td>c</td>\n",
              "      <td>620.0</td>\n",
              "      <td>9.0</td>\n",
              "      <td>2009.0</td>\n",
              "      <td>0</td>\n",
              "      <td>NaN</td>\n",
              "      <td>NaN</td>\n",
              "      <td>NaN</td>\n",
              "    </tr>\n",
              "    <tr>\n",
              "      <th>4</th>\n",
              "      <td>5</td>\n",
              "      <td>a</td>\n",
              "      <td>a</td>\n",
              "      <td>29910.0</td>\n",
              "      <td>4.0</td>\n",
              "      <td>2015.0</td>\n",
              "      <td>0</td>\n",
              "      <td>NaN</td>\n",
              "      <td>NaN</td>\n",
              "      <td>NaN</td>\n",
              "    </tr>\n",
              "  </tbody>\n",
              "</table>\n",
              "</div>\n",
              "    <div class=\"colab-df-buttons\">\n",
              "\n",
              "  <div class=\"colab-df-container\">\n",
              "    <button class=\"colab-df-convert\" onclick=\"convertToInteractive('df-5b9027b2-e024-4b32-a42f-813f3d316133')\"\n",
              "            title=\"Convert this dataframe to an interactive table.\"\n",
              "            style=\"display:none;\">\n",
              "\n",
              "  <svg xmlns=\"http://www.w3.org/2000/svg\" height=\"24px\" viewBox=\"0 -960 960 960\">\n",
              "    <path d=\"M120-120v-720h720v720H120Zm60-500h600v-160H180v160Zm220 220h160v-160H400v160Zm0 220h160v-160H400v160ZM180-400h160v-160H180v160Zm440 0h160v-160H620v160ZM180-180h160v-160H180v160Zm440 0h160v-160H620v160Z\"/>\n",
              "  </svg>\n",
              "    </button>\n",
              "\n",
              "  <style>\n",
              "    .colab-df-container {\n",
              "      display:flex;\n",
              "      gap: 12px;\n",
              "    }\n",
              "\n",
              "    .colab-df-convert {\n",
              "      background-color: #E8F0FE;\n",
              "      border: none;\n",
              "      border-radius: 50%;\n",
              "      cursor: pointer;\n",
              "      display: none;\n",
              "      fill: #1967D2;\n",
              "      height: 32px;\n",
              "      padding: 0 0 0 0;\n",
              "      width: 32px;\n",
              "    }\n",
              "\n",
              "    .colab-df-convert:hover {\n",
              "      background-color: #E2EBFA;\n",
              "      box-shadow: 0px 1px 2px rgba(60, 64, 67, 0.3), 0px 1px 3px 1px rgba(60, 64, 67, 0.15);\n",
              "      fill: #174EA6;\n",
              "    }\n",
              "\n",
              "    .colab-df-buttons div {\n",
              "      margin-bottom: 4px;\n",
              "    }\n",
              "\n",
              "    [theme=dark] .colab-df-convert {\n",
              "      background-color: #3B4455;\n",
              "      fill: #D2E3FC;\n",
              "    }\n",
              "\n",
              "    [theme=dark] .colab-df-convert:hover {\n",
              "      background-color: #434B5C;\n",
              "      box-shadow: 0px 1px 3px 1px rgba(0, 0, 0, 0.15);\n",
              "      filter: drop-shadow(0px 1px 2px rgba(0, 0, 0, 0.3));\n",
              "      fill: #FFFFFF;\n",
              "    }\n",
              "  </style>\n",
              "\n",
              "    <script>\n",
              "      const buttonEl =\n",
              "        document.querySelector('#df-5b9027b2-e024-4b32-a42f-813f3d316133 button.colab-df-convert');\n",
              "      buttonEl.style.display =\n",
              "        google.colab.kernel.accessAllowed ? 'block' : 'none';\n",
              "\n",
              "      async function convertToInteractive(key) {\n",
              "        const element = document.querySelector('#df-5b9027b2-e024-4b32-a42f-813f3d316133');\n",
              "        const dataTable =\n",
              "          await google.colab.kernel.invokeFunction('convertToInteractive',\n",
              "                                                    [key], {});\n",
              "        if (!dataTable) return;\n",
              "\n",
              "        const docLinkHtml = 'Like what you see? Visit the ' +\n",
              "          '<a target=\"_blank\" href=https://colab.research.google.com/notebooks/data_table.ipynb>data table notebook</a>'\n",
              "          + ' to learn more about interactive tables.';\n",
              "        element.innerHTML = '';\n",
              "        dataTable['output_type'] = 'display_data';\n",
              "        await google.colab.output.renderOutput(dataTable, element);\n",
              "        const docLink = document.createElement('div');\n",
              "        docLink.innerHTML = docLinkHtml;\n",
              "        element.appendChild(docLink);\n",
              "      }\n",
              "    </script>\n",
              "  </div>\n",
              "\n",
              "\n",
              "<div id=\"df-a68d56f7-7eb4-4bb3-9904-a37333b1b927\">\n",
              "  <button class=\"colab-df-quickchart\" onclick=\"quickchart('df-a68d56f7-7eb4-4bb3-9904-a37333b1b927')\"\n",
              "            title=\"Suggest charts.\"\n",
              "            style=\"display:none;\">\n",
              "\n",
              "<svg xmlns=\"http://www.w3.org/2000/svg\" height=\"24px\"viewBox=\"0 0 24 24\"\n",
              "     width=\"24px\">\n",
              "    <g>\n",
              "        <path d=\"M19 3H5c-1.1 0-2 .9-2 2v14c0 1.1.9 2 2 2h14c1.1 0 2-.9 2-2V5c0-1.1-.9-2-2-2zM9 17H7v-7h2v7zm4 0h-2V7h2v10zm4 0h-2v-4h2v4z\"/>\n",
              "    </g>\n",
              "</svg>\n",
              "  </button>\n",
              "\n",
              "<style>\n",
              "  .colab-df-quickchart {\n",
              "      --bg-color: #E8F0FE;\n",
              "      --fill-color: #1967D2;\n",
              "      --hover-bg-color: #E2EBFA;\n",
              "      --hover-fill-color: #174EA6;\n",
              "      --disabled-fill-color: #AAA;\n",
              "      --disabled-bg-color: #DDD;\n",
              "  }\n",
              "\n",
              "  [theme=dark] .colab-df-quickchart {\n",
              "      --bg-color: #3B4455;\n",
              "      --fill-color: #D2E3FC;\n",
              "      --hover-bg-color: #434B5C;\n",
              "      --hover-fill-color: #FFFFFF;\n",
              "      --disabled-bg-color: #3B4455;\n",
              "      --disabled-fill-color: #666;\n",
              "  }\n",
              "\n",
              "  .colab-df-quickchart {\n",
              "    background-color: var(--bg-color);\n",
              "    border: none;\n",
              "    border-radius: 50%;\n",
              "    cursor: pointer;\n",
              "    display: none;\n",
              "    fill: var(--fill-color);\n",
              "    height: 32px;\n",
              "    padding: 0;\n",
              "    width: 32px;\n",
              "  }\n",
              "\n",
              "  .colab-df-quickchart:hover {\n",
              "    background-color: var(--hover-bg-color);\n",
              "    box-shadow: 0 1px 2px rgba(60, 64, 67, 0.3), 0 1px 3px 1px rgba(60, 64, 67, 0.15);\n",
              "    fill: var(--button-hover-fill-color);\n",
              "  }\n",
              "\n",
              "  .colab-df-quickchart-complete:disabled,\n",
              "  .colab-df-quickchart-complete:disabled:hover {\n",
              "    background-color: var(--disabled-bg-color);\n",
              "    fill: var(--disabled-fill-color);\n",
              "    box-shadow: none;\n",
              "  }\n",
              "\n",
              "  .colab-df-spinner {\n",
              "    border: 2px solid var(--fill-color);\n",
              "    border-color: transparent;\n",
              "    border-bottom-color: var(--fill-color);\n",
              "    animation:\n",
              "      spin 1s steps(1) infinite;\n",
              "  }\n",
              "\n",
              "  @keyframes spin {\n",
              "    0% {\n",
              "      border-color: transparent;\n",
              "      border-bottom-color: var(--fill-color);\n",
              "      border-left-color: var(--fill-color);\n",
              "    }\n",
              "    20% {\n",
              "      border-color: transparent;\n",
              "      border-left-color: var(--fill-color);\n",
              "      border-top-color: var(--fill-color);\n",
              "    }\n",
              "    30% {\n",
              "      border-color: transparent;\n",
              "      border-left-color: var(--fill-color);\n",
              "      border-top-color: var(--fill-color);\n",
              "      border-right-color: var(--fill-color);\n",
              "    }\n",
              "    40% {\n",
              "      border-color: transparent;\n",
              "      border-right-color: var(--fill-color);\n",
              "      border-top-color: var(--fill-color);\n",
              "    }\n",
              "    60% {\n",
              "      border-color: transparent;\n",
              "      border-right-color: var(--fill-color);\n",
              "    }\n",
              "    80% {\n",
              "      border-color: transparent;\n",
              "      border-right-color: var(--fill-color);\n",
              "      border-bottom-color: var(--fill-color);\n",
              "    }\n",
              "    90% {\n",
              "      border-color: transparent;\n",
              "      border-bottom-color: var(--fill-color);\n",
              "    }\n",
              "  }\n",
              "</style>\n",
              "\n",
              "  <script>\n",
              "    async function quickchart(key) {\n",
              "      const quickchartButtonEl =\n",
              "        document.querySelector('#' + key + ' button');\n",
              "      quickchartButtonEl.disabled = true;  // To prevent multiple clicks.\n",
              "      quickchartButtonEl.classList.add('colab-df-spinner');\n",
              "      try {\n",
              "        const charts = await google.colab.kernel.invokeFunction(\n",
              "            'suggestCharts', [key], {});\n",
              "      } catch (error) {\n",
              "        console.error('Error during call to suggestCharts:', error);\n",
              "      }\n",
              "      quickchartButtonEl.classList.remove('colab-df-spinner');\n",
              "      quickchartButtonEl.classList.add('colab-df-quickchart-complete');\n",
              "    }\n",
              "    (() => {\n",
              "      let quickchartButtonEl =\n",
              "        document.querySelector('#df-a68d56f7-7eb4-4bb3-9904-a37333b1b927 button');\n",
              "      quickchartButtonEl.style.display =\n",
              "        google.colab.kernel.accessAllowed ? 'block' : 'none';\n",
              "    })();\n",
              "  </script>\n",
              "</div>\n",
              "    </div>\n",
              "  </div>\n"
            ]
          },
          "metadata": {},
          "execution_count": 10
        }
      ]
    },
    {
      "cell_type": "markdown",
      "source": [
        "### Dataset Rows & Columns count"
      ],
      "metadata": {
        "id": "7hBIi_osiCS2"
      }
    },
    {
      "cell_type": "code",
      "source": [
        "# Dataset Rows & Columns count\n",
        "rossmann_df.shape, store_df.shape"
      ],
      "metadata": {
        "id": "Kllu7SJgmLij",
        "colab": {
          "base_uri": "https://localhost:8080/"
        },
        "outputId": "e5b54bc7-47fa-441c-ade2-6632dc877a11"
      },
      "execution_count": 11,
      "outputs": [
        {
          "output_type": "execute_result",
          "data": {
            "text/plain": [
              "((1017209, 9), (1115, 10))"
            ]
          },
          "metadata": {},
          "execution_count": 11
        }
      ]
    },
    {
      "cell_type": "markdown",
      "source": [
        "### Dataset Information"
      ],
      "metadata": {
        "id": "JlHwYmJAmNHm"
      }
    },
    {
      "cell_type": "code",
      "source": [
        "# Dataset Info of rossmann_df\n",
        "rossmann_df.info()"
      ],
      "metadata": {
        "id": "e9hRXRi6meOf",
        "colab": {
          "base_uri": "https://localhost:8080/"
        },
        "outputId": "e684cc01-9923-4c41-e4ad-c1bd643626f8"
      },
      "execution_count": 12,
      "outputs": [
        {
          "output_type": "stream",
          "name": "stdout",
          "text": [
            "<class 'pandas.core.frame.DataFrame'>\n",
            "RangeIndex: 1017209 entries, 0 to 1017208\n",
            "Data columns (total 9 columns):\n",
            " #   Column         Non-Null Count    Dtype \n",
            "---  ------         --------------    ----- \n",
            " 0   Store          1017209 non-null  int64 \n",
            " 1   DayOfWeek      1017209 non-null  int64 \n",
            " 2   Date           1017209 non-null  object\n",
            " 3   Sales          1017209 non-null  int64 \n",
            " 4   Customers      1017209 non-null  int64 \n",
            " 5   Open           1017209 non-null  int64 \n",
            " 6   Promo          1017209 non-null  int64 \n",
            " 7   StateHoliday   1017209 non-null  object\n",
            " 8   SchoolHoliday  1017209 non-null  int64 \n",
            "dtypes: int64(7), object(2)\n",
            "memory usage: 69.8+ MB\n"
          ]
        }
      ]
    },
    {
      "cell_type": "code",
      "source": [
        "# Dataset Info of store_df\n",
        "store_df.info()"
      ],
      "metadata": {
        "id": "ueKtqMZmurRJ",
        "colab": {
          "base_uri": "https://localhost:8080/"
        },
        "outputId": "8d1476d0-a5eb-4c3b-d287-b522753be831"
      },
      "execution_count": 13,
      "outputs": [
        {
          "output_type": "stream",
          "name": "stdout",
          "text": [
            "<class 'pandas.core.frame.DataFrame'>\n",
            "RangeIndex: 1115 entries, 0 to 1114\n",
            "Data columns (total 10 columns):\n",
            " #   Column                     Non-Null Count  Dtype  \n",
            "---  ------                     --------------  -----  \n",
            " 0   Store                      1115 non-null   int64  \n",
            " 1   StoreType                  1115 non-null   object \n",
            " 2   Assortment                 1115 non-null   object \n",
            " 3   CompetitionDistance        1112 non-null   float64\n",
            " 4   CompetitionOpenSinceMonth  761 non-null    float64\n",
            " 5   CompetitionOpenSinceYear   761 non-null    float64\n",
            " 6   Promo2                     1115 non-null   int64  \n",
            " 7   Promo2SinceWeek            571 non-null    float64\n",
            " 8   Promo2SinceYear            571 non-null    float64\n",
            " 9   PromoInterval              571 non-null    object \n",
            "dtypes: float64(5), int64(2), object(3)\n",
            "memory usage: 87.2+ KB\n"
          ]
        }
      ]
    },
    {
      "cell_type": "markdown",
      "source": [
        "#### Duplicate Values"
      ],
      "metadata": {
        "id": "35m5QtbWiB9F"
      }
    },
    {
      "cell_type": "code",
      "source": [
        "# Dataset duplicate value counts of rossmann_df\n",
        "len(rossmann_df[rossmann_df.duplicated()])"
      ],
      "metadata": {
        "id": "1sLdpKYkmox0",
        "colab": {
          "base_uri": "https://localhost:8080/"
        },
        "outputId": "f7635758-2b29-440a-9c9f-6ae431df0a0a"
      },
      "execution_count": 14,
      "outputs": [
        {
          "output_type": "execute_result",
          "data": {
            "text/plain": [
              "0"
            ]
          },
          "metadata": {},
          "execution_count": 14
        }
      ]
    },
    {
      "cell_type": "code",
      "source": [
        "# Dataset duplicate value counts of store_df\n",
        "len(store_df[store_df.duplicated()])"
      ],
      "metadata": {
        "id": "XqcmcC9G04Ca",
        "colab": {
          "base_uri": "https://localhost:8080/"
        },
        "outputId": "68c6e835-f974-451f-a65e-6eaeee2aca0d"
      },
      "execution_count": 15,
      "outputs": [
        {
          "output_type": "execute_result",
          "data": {
            "text/plain": [
              "0"
            ]
          },
          "metadata": {},
          "execution_count": 15
        }
      ]
    },
    {
      "cell_type": "markdown",
      "source": [
        "#### Missing Values/Null Values"
      ],
      "metadata": {
        "id": "PoPl-ycgm1ru"
      }
    },
    {
      "cell_type": "code",
      "source": [
        "# Missing Values/Null Values Count rossmann_df\n",
        "rossmann_df.isnull().sum()\n"
      ],
      "metadata": {
        "id": "GgHWkxvamxVg",
        "colab": {
          "base_uri": "https://localhost:8080/"
        },
        "outputId": "3ba09ad9-885e-4294-ab27-dd5487c51f2d"
      },
      "execution_count": 16,
      "outputs": [
        {
          "output_type": "execute_result",
          "data": {
            "text/plain": [
              "Store            0\n",
              "DayOfWeek        0\n",
              "Date             0\n",
              "Sales            0\n",
              "Customers        0\n",
              "Open             0\n",
              "Promo            0\n",
              "StateHoliday     0\n",
              "SchoolHoliday    0\n",
              "dtype: int64"
            ]
          },
          "metadata": {},
          "execution_count": 16
        }
      ]
    },
    {
      "cell_type": "code",
      "source": [
        "#  Missing Values/Null Values Count of store_df\n",
        "store_df.isnull().sum()"
      ],
      "metadata": {
        "id": "g6C2M3VN2ywJ",
        "colab": {
          "base_uri": "https://localhost:8080/"
        },
        "outputId": "941de928-5795-4fac-ff3a-6647f5824cda"
      },
      "execution_count": 17,
      "outputs": [
        {
          "output_type": "execute_result",
          "data": {
            "text/plain": [
              "Store                          0\n",
              "StoreType                      0\n",
              "Assortment                     0\n",
              "CompetitionDistance            3\n",
              "CompetitionOpenSinceMonth    354\n",
              "CompetitionOpenSinceYear     354\n",
              "Promo2                         0\n",
              "Promo2SinceWeek              544\n",
              "Promo2SinceYear              544\n",
              "PromoInterval                544\n",
              "dtype: int64"
            ]
          },
          "metadata": {},
          "execution_count": 17
        }
      ]
    },
    {
      "cell_type": "code",
      "source": [
        "# Visualizing the missing values\n",
        "msno.bar(rossmann_df,figsize=(10,5), color=\"tab:blue\")"
      ],
      "metadata": {
        "id": "3q5wnI3om9sJ",
        "colab": {
          "base_uri": "https://localhost:8080/",
          "height": 668
        },
        "outputId": "98290de2-2a87-49e1-fe0e-41dfea966375"
      },
      "execution_count": 18,
      "outputs": [
        {
          "output_type": "execute_result",
          "data": {
            "text/plain": [
              "<Axes: >"
            ]
          },
          "metadata": {},
          "execution_count": 18
        },
        {
          "output_type": "display_data",
          "data": {
            "text/plain": [
              "<Figure size 1000x500 with 3 Axes>"
            ],
            "image/png": "[encoded data removed]"
          },
          "metadata": {}
        }
      ]
    },
    {
      "cell_type": "code",
      "source": [
        "# Visualizing the missing values\n",
        "msno.bar(store_df,figsize=(10,5), color=\"tab:green\")"
      ],
      "metadata": {
        "id": "LSyFVKE0-fz7",
        "colab": {
          "base_uri": "https://localhost:8080/",
          "height": 757
        },
        "outputId": "b83f3cf8-7482-4a2f-f7e5-e683a5669716"
      },
      "execution_count": 19,
      "outputs": [
        {
          "output_type": "execute_result",
          "data": {
            "text/plain": [
              "<Axes: >"
            ]
          },
          "metadata": {},
          "execution_count": 19
        },
        {
          "output_type": "display_data",
          "data": {
            "text/plain": [
              "<Figure size 1000x500 with 3 Axes>"
            ],
            "image/png": "[encoded data removed]"
          },
          "metadata": {}
        }
      ]
    },
    {
      "cell_type": "markdown",
      "source": [
        "### What did you know about your dataset?"
      ],
      "metadata": {
        "id": "H0kj-8xxnORC"
      }
    },
    {
      "cell_type": "markdown",
      "source": [
        "From above operation we understand about these datasets such as\n",
        "\n",
        "1. **rossmann dataset** have **1017209 rows and 9 columns** and it doesn't have any null values.\n",
        "2. **store dataset** have **1115 rows and 10 columns** and **store dataset** have null values in total **six features** viz. CompetitionDistance,CompetitionOpenSinceMonth, CompetitionOpenSinceYear, Promo2SinceWeek,Promo2SinceYear and PromoInterval.\n",
        "3. There are ** no duplicate** values present in both **rossmann and store** datasets."
      ],
      "metadata": {
        "id": "gfoNAAC-nUe_"
      }
    },
    {
      "cell_type": "markdown",
      "source": [
        "## ***2. Understanding Your Variables***"
      ],
      "metadata": {
        "id": "nA9Y7ga8ng1Z"
      }
    },
    {
      "cell_type": "code",
      "source": [
        "# Dataset Columns\n",
        "rossmann_df.columns"
      ],
      "metadata": {
        "id": "j7xfkqrt5Ag5",
        "colab": {
          "base_uri": "https://localhost:8080/"
        },
        "outputId": "7473133d-12f0-4ae8-8a2e-aa8ed791162b"
      },
      "execution_count": 20,
      "outputs": [
        {
          "output_type": "execute_result",
          "data": {
            "text/plain": [
              "Index(['Store', 'DayOfWeek', 'Date', 'Sales', 'Customers', 'Open', 'Promo',\n",
              "       'StateHoliday', 'SchoolHoliday'],\n",
              "      dtype='object')"
            ]
          },
          "metadata": {},
          "execution_count": 20
        }
      ]
    },
    {
      "cell_type": "code",
      "source": [
        "store_df.columns"
      ],
      "metadata": {
        "id": "SJpIPFcdEi30",
        "colab": {
          "base_uri": "https://localhost:8080/"
        },
        "outputId": "27a9bdc5-6884-4019-8976-94953411cdd0"
      },
      "execution_count": 21,
      "outputs": [
        {
          "output_type": "execute_result",
          "data": {
            "text/plain": [
              "Index(['Store', 'StoreType', 'Assortment', 'CompetitionDistance',\n",
              "       'CompetitionOpenSinceMonth', 'CompetitionOpenSinceYear', 'Promo2',\n",
              "       'Promo2SinceWeek', 'Promo2SinceYear', 'PromoInterval'],\n",
              "      dtype='object')"
            ]
          },
          "metadata": {},
          "execution_count": 21
        }
      ]
    },
    {
      "cell_type": "code",
      "source": [
        "# Dataset Describe\n",
        "rossmann_df.describe(include=\"all\")"
      ],
      "metadata": {
        "id": "DnOaZdaE5Q5t",
        "colab": {
          "base_uri": "https://localhost:8080/",
          "height": 394
        },
        "outputId": "549c3a62-59f5-4127-9e34-9913181ff282"
      },
      "execution_count": 22,
      "outputs": [
        {
          "output_type": "execute_result",
          "data": {
            "text/plain": [
              "               Store     DayOfWeek        Date         Sales     Customers  \\\n",
              "count   1.017209e+06  1.017209e+06     1017209  1.017209e+06  1.017209e+06   \n",
              "unique           NaN           NaN         942           NaN           NaN   \n",
              "top              NaN           NaN  2015-07-31           NaN           NaN   \n",
              "freq             NaN           NaN        1115           NaN           NaN   \n",
              "mean    5.584297e+02  3.998341e+00         NaN  5.773819e+03  6.331459e+02   \n",
              "std     3.219087e+02  1.997391e+00         NaN  3.849926e+03  4.644117e+02   \n",
              "min     1.000000e+00  1.000000e+00         NaN  0.000000e+00  0.000000e+00   \n",
              "25%     2.800000e+02  2.000000e+00         NaN  3.727000e+03  4.050000e+02   \n",
              "50%     5.580000e+02  4.000000e+00         NaN  5.744000e+03  6.090000e+02   \n",
              "75%     8.380000e+02  6.000000e+00         NaN  7.856000e+03  8.370000e+02   \n",
              "max     1.115000e+03  7.000000e+00         NaN  4.155100e+04  7.388000e+03   \n",
              "\n",
              "                Open         Promo StateHoliday  SchoolHoliday  \n",
              "count   1.017209e+06  1.017209e+06      1017209   1.017209e+06  \n",
              "unique           NaN           NaN            5            NaN  \n",
              "top              NaN           NaN            0            NaN  \n",
              "freq             NaN           NaN       855087            NaN  \n",
              "mean    8.301067e-01  3.815145e-01          NaN   1.786467e-01  \n",
              "std     3.755392e-01  4.857586e-01          NaN   3.830564e-01  \n",
              "min     0.000000e+00  0.000000e+00          NaN   0.000000e+00  \n",
              "25%     1.000000e+00  0.000000e+00          NaN   0.000000e+00  \n",
              "50%     1.000000e+00  0.000000e+00          NaN   0.000000e+00  \n",
              "75%     1.000000e+00  1.000000e+00          NaN   0.000000e+00  \n",
              "max     1.000000e+00  1.000000e+00          NaN   1.000000e+00  "
            ],
            "text/html": [
              "\n",
              "  <div id=\"df-5dc6bca7-dc72-460a-848e-59c71f7b4825\" class=\"colab-df-container\">\n",
              "    <div>\n",
              "<style scoped>\n",
              "    .dataframe tbody tr th:only-of-type {\n",
              "        vertical-align: middle;\n",
              "    }\n",
              "\n",
              "    .dataframe tbody tr th {\n",
              "        vertical-align: top;\n",
              "    }\n",
              "\n",
              "    .dataframe thead th {\n",
              "        text-align: right;\n",
              "    }\n",
              "</style>\n",
              "<table border=\"1\" class=\"dataframe\">\n",
              "  <thead>\n",
              "    <tr style=\"text-align: right;\">\n",
              "      <th></th>\n",
              "      <th>Store</th>\n",
              "      <th>DayOfWeek</th>\n",
              "      <th>Date</th>\n",
              "      <th>Sales</th>\n",
              "      <th>Customers</th>\n",
              "      <th>Open</th>\n",
              "      <th>Promo</th>\n",
              "      <th>StateHoliday</th>\n",
              "      <th>SchoolHoliday</th>\n",
              "    </tr>\n",
              "  </thead>\n",
              "  <tbody>\n",
              "    <tr>\n",
              "      <th>count</th>\n",
              "      <td>1.017209e+06</td>\n",
              "      <td>1.017209e+06</td>\n",
              "      <td>1017209</td>\n",
              "      <td>1.017209e+06</td>\n",
              "      <td>1.017209e+06</td>\n",
              "      <td>1.017209e+06</td>\n",
              "      <td>1.017209e+06</td>\n",
              "      <td>1017209</td>\n",
              "      <td>1.017209e+06</td>\n",
              "    </tr>\n",
              "    <tr>\n",
              "      <th>unique</th>\n",
              "      <td>NaN</td>\n",
              "      <td>NaN</td>\n",
              "      <td>942</td>\n",
              "      <td>NaN</td>\n",
              "      <td>NaN</td>\n",
              "      <td>NaN</td>\n",
              "      <td>NaN</td>\n",
              "      <td>5</td>\n",
              "      <td>NaN</td>\n",
              "    </tr>\n",
              "    <tr>\n",
              "      <th>top</th>\n",
              "      <td>NaN</td>\n",
              "      <td>NaN</td>\n",
              "      <td>2015-07-31</td>\n",
              "      <td>NaN</td>\n",
              "      <td>NaN</td>\n",
              "      <td>NaN</td>\n",
              "      <td>NaN</td>\n",
              "      <td>0</td>\n",
              "      <td>NaN</td>\n",
              "    </tr>\n",
              "    <tr>\n",
              "      <th>freq</th>\n",
              "      <td>NaN</td>\n",
              "      <td>NaN</td>\n",
              "      <td>1115</td>\n",
              "      <td>NaN</td>\n",
              "      <td>NaN</td>\n",
              "      <td>NaN</td>\n",
              "      <td>NaN</td>\n",
              "      <td>855087</td>\n",
              "      <td>NaN</td>\n",
              "    </tr>\n",
              "    <tr>\n",
              "      <th>mean</th>\n",
              "      <td>5.584297e+02</td>\n",
              "      <td>3.998341e+00</td>\n",
              "      <td>NaN</td>\n",
              "      <td>5.773819e+03</td>\n",
              "      <td>6.331459e+02</td>\n",
              "      <td>8.301067e-01</td>\n",
              "      <td>3.815145e-01</td>\n",
              "      <td>NaN</td>\n",
              "      <td>1.786467e-01</td>\n",
              "    </tr>\n",
              "    <tr>\n",
              "      <th>std</th>\n",
              "      <td>3.219087e+02</td>\n",
              "      <td>1.997391e+00</td>\n",
              "      <td>NaN</td>\n",
              "      <td>3.849926e+03</td>\n",
              "      <td>4.644117e+02</td>\n",
              "      <td>3.755392e-01</td>\n",
              "      <td>4.857586e-01</td>\n",
              "      <td>NaN</td>\n",
              "      <td>3.830564e-01</td>\n",
              "    </tr>\n",
              "    <tr>\n",
              "      <th>min</th>\n",
              "      <td>1.000000e+00</td>\n",
              "      <td>1.000000e+00</td>\n",
              "      <td>NaN</td>\n",
              "      <td>0.000000e+00</td>\n",
              "      <td>0.000000e+00</td>\n",
              "      <td>0.000000e+00</td>\n",
              "      <td>0.000000e+00</td>\n",
              "      <td>NaN</td>\n",
              "      <td>0.000000e+00</td>\n",
              "    </tr>\n",
              "    <tr>\n",
              "      <th>25%</th>\n",
              "      <td>2.800000e+02</td>\n",
              "      <td>2.000000e+00</td>\n",
              "      <td>NaN</td>\n",
              "      <td>3.727000e+03</td>\n",
              "      <td>4.050000e+02</td>\n",
              "      <td>1.000000e+00</td>\n",
              "      <td>0.000000e+00</td>\n",
              "      <td>NaN</td>\n",
              "      <td>0.000000e+00</td>\n",
              "    </tr>\n",
              "    <tr>\n",
              "      <th>50%</th>\n",
              "      <td>5.580000e+02</td>\n",
              "      <td>4.000000e+00</td>\n",
              "      <td>NaN</td>\n",
              "      <td>5.744000e+03</td>\n",
              "      <td>6.090000e+02</td>\n",
              "      <td>1.000000e+00</td>\n",
              "      <td>0.000000e+00</td>\n",
              "      <td>NaN</td>\n",
              "      <td>0.000000e+00</td>\n",
              "    </tr>\n",
              "    <tr>\n",
              "      <th>75%</th>\n",
              "      <td>8.380000e+02</td>\n",
              "      <td>6.000000e+00</td>\n",
              "      <td>NaN</td>\n",
              "      <td>7.856000e+03</td>\n",
              "      <td>8.370000e+02</td>\n",
              "      <td>1.000000e+00</td>\n",
              "      <td>1.000000e+00</td>\n",
              "      <td>NaN</td>\n",
              "      <td>0.000000e+00</td>\n",
              "    </tr>\n",
              "    <tr>\n",
              "      <th>max</th>\n",
              "      <td>1.115000e+03</td>\n",
              "      <td>7.000000e+00</td>\n",
              "      <td>NaN</td>\n",
              "      <td>4.155100e+04</td>\n",
              "      <td>7.388000e+03</td>\n",
              "      <td>1.000000e+00</td>\n",
              "      <td>1.000000e+00</td>\n",
              "      <td>NaN</td>\n",
              "      <td>1.000000e+00</td>\n",
              "    </tr>\n",
              "  </tbody>\n",
              "</table>\n",
              "</div>\n",
              "    <div class=\"colab-df-buttons\">\n",
              "\n",
              "  <div class=\"colab-df-container\">\n",
              "    <button class=\"colab-df-convert\" onclick=\"convertToInteractive('df-5dc6bca7-dc72-460a-848e-59c71f7b4825')\"\n",
              "            title=\"Convert this dataframe to an interactive table.\"\n",
              "            style=\"display:none;\">\n",
              "\n",
              "  <svg xmlns=\"http://www.w3.org/2000/svg\" height=\"24px\" viewBox=\"0 -960 960 960\">\n",
              "    <path d=\"M120-120v-720h720v720H120Zm60-500h600v-160H180v160Zm220 220h160v-160H400v160Zm0 220h160v-160H400v160ZM180-400h160v-160H180v160Zm440 0h160v-160H620v160ZM180-180h160v-160H180v160Zm440 0h160v-160H620v160Z\"/>\n",
              "  </svg>\n",
              "    </button>\n",
              "\n",
              "  <style>\n",
              "    .colab-df-container {\n",
              "      display:flex;\n",
              "      gap: 12px;\n",
              "    }\n",
              "\n",
              "    .colab-df-convert {\n",
              "      background-color: #E8F0FE;\n",
              "      border: none;\n",
              "      border-radius: 50%;\n",
              "      cursor: pointer;\n",
              "      display: none;\n",
              "      fill: #1967D2;\n",
              "      height: 32px;\n",
              "      padding: 0 0 0 0;\n",
              "      width: 32px;\n",
              "    }\n",
              "\n",
              "    .colab-df-convert:hover {\n",
              "      background-color: #E2EBFA;\n",
              "      box-shadow: 0px 1px 2px rgba(60, 64, 67, 0.3), 0px 1px 3px 1px rgba(60, 64, 67, 0.15);\n",
              "      fill: #174EA6;\n",
              "    }\n",
              "\n",
              "    .colab-df-buttons div {\n",
              "      margin-bottom: 4px;\n",
              "    }\n",
              "\n",
              "    [theme=dark] .colab-df-convert {\n",
              "      background-color: #3B4455;\n",
              "      fill: #D2E3FC;\n",
              "    }\n",
              "\n",
              "    [theme=dark] .colab-df-convert:hover {\n",
              "      background-color: #434B5C;\n",
              "      box-shadow: 0px 1px 3px 1px rgba(0, 0, 0, 0.15);\n",
              "      filter: drop-shadow(0px 1px 2px rgba(0, 0, 0, 0.3));\n",
              "      fill: #FFFFFF;\n",
              "    }\n",
              "  </style>\n",
              "\n",
              "    <script>\n",
              "      const buttonEl =\n",
              "        document.querySelector('#df-5dc6bca7-dc72-460a-848e-59c71f7b4825 button.colab-df-convert');\n",
              "      buttonEl.style.display =\n",
              "        google.colab.kernel.accessAllowed ? 'block' : 'none';\n",
              "\n",
              "      async function convertToInteractive(key) {\n",
              "        const element = document.querySelector('#df-5dc6bca7-dc72-460a-848e-59c71f7b4825');\n",
              "        const dataTable =\n",
              "          await google.colab.kernel.invokeFunction('convertToInteractive',\n",
              "                                                    [key], {});\n",
              "        if (!dataTable) return;\n",
              "\n",
              "        const docLinkHtml = 'Like what you see? Visit the ' +\n",
              "          '<a target=\"_blank\" href=https://colab.research.google.com/notebooks/data_table.ipynb>data table notebook</a>'\n",
              "          + ' to learn more about interactive tables.';\n",
              "        element.innerHTML = '';\n",
              "        dataTable['output_type'] = 'display_data';\n",
              "        await google.colab.output.renderOutput(dataTable, element);\n",
              "        const docLink = document.createElement('div');\n",
              "        docLink.innerHTML = docLinkHtml;\n",
              "        element.appendChild(docLink);\n",
              "      }\n",
              "    </script>\n",
              "  </div>\n",
              "\n",
              "\n",
              "<div id=\"df-b1fe5145-035c-4ea2-8fdd-9a2ace592219\">\n",
              "  <button class=\"colab-df-quickchart\" onclick=\"quickchart('df-b1fe5145-035c-4ea2-8fdd-9a2ace592219')\"\n",
              "            title=\"Suggest charts.\"\n",
              "            style=\"display:none;\">\n",
              "\n",
              "<svg xmlns=\"http://www.w3.org/2000/svg\" height=\"24px\"viewBox=\"0 0 24 24\"\n",
              "     width=\"24px\">\n",
              "    <g>\n",
              "        <path d=\"M19 3H5c-1.1 0-2 .9-2 2v14c0 1.1.9 2 2 2h14c1.1 0 2-.9 2-2V5c0-1.1-.9-2-2-2zM9 17H7v-7h2v7zm4 0h-2V7h2v10zm4 0h-2v-4h2v4z\"/>\n",
              "    </g>\n",
              "</svg>\n",
              "  </button>\n",
              "\n",
              "<style>\n",
              "  .colab-df-quickchart {\n",
              "      --bg-color: #E8F0FE;\n",
              "      --fill-color: #1967D2;\n",
              "      --hover-bg-color: #E2EBFA;\n",
              "      --hover-fill-color: #174EA6;\n",
              "      --disabled-fill-color: #AAA;\n",
              "      --disabled-bg-color: #DDD;\n",
              "  }\n",
              "\n",
              "  [theme=dark] .colab-df-quickchart {\n",
              "      --bg-color: #3B4455;\n",
              "      --fill-color: #D2E3FC;\n",
              "      --hover-bg-color: #434B5C;\n",
              "      --hover-fill-color: #FFFFFF;\n",
              "      --disabled-bg-color: #3B4455;\n",
              "      --disabled-fill-color: #666;\n",
              "  }\n",
              "\n",
              "  .colab-df-quickchart {\n",
              "    background-color: var(--bg-color);\n",
              "    border: none;\n",
              "    border-radius: 50%;\n",
              "    cursor: pointer;\n",
              "    display: none;\n",
              "    fill: var(--fill-color);\n",
              "    height: 32px;\n",
              "    padding: 0;\n",
              "    width: 32px;\n",
              "  }\n",
              "\n",
              "  .colab-df-quickchart:hover {\n",
              "    background-color: var(--hover-bg-color);\n",
              "    box-shadow: 0 1px 2px rgba(60, 64, 67, 0.3), 0 1px 3px 1px rgba(60, 64, 67, 0.15);\n",
              "    fill: var(--button-hover-fill-color);\n",
              "  }\n",
              "\n",
              "  .colab-df-quickchart-complete:disabled,\n",
              "  .colab-df-quickchart-complete:disabled:hover {\n",
              "    background-color: var(--disabled-bg-color);\n",
              "    fill: var(--disabled-fill-color);\n",
              "    box-shadow: none;\n",
              "  }\n",
              "\n",
              "  .colab-df-spinner {\n",
              "    border: 2px solid var(--fill-color);\n",
              "    border-color: transparent;\n",
              "    border-bottom-color: var(--fill-color);\n",
              "    animation:\n",
              "      spin 1s steps(1) infinite;\n",
              "  }\n",
              "\n",
              "  @keyframes spin {\n",
              "    0% {\n",
              "      border-color: transparent;\n",
              "      border-bottom-color: var(--fill-color);\n",
              "      border-left-color: var(--fill-color);\n",
              "    }\n",
              "    20% {\n",
              "      border-color: transparent;\n",
              "      border-left-color: var(--fill-color);\n",
              "      border-top-color: var(--fill-color);\n",
              "    }\n",
              "    30% {\n",
              "      border-color: transparent;\n",
              "      border-left-color: var(--fill-color);\n",
              "      border-top-color: var(--fill-color);\n",
              "      border-right-color: var(--fill-color);\n",
              "    }\n",
              "    40% {\n",
              "      border-color: transparent;\n",
              "      border-right-color: var(--fill-color);\n",
              "      border-top-color: var(--fill-color);\n",
              "    }\n",
              "    60% {\n",
              "      border-color: transparent;\n",
              "      border-right-color: var(--fill-color);\n",
              "    }\n",
              "    80% {\n",
              "      border-color: transparent;\n",
              "      border-right-color: var(--fill-color);\n",
              "      border-bottom-color: var(--fill-color);\n",
              "    }\n",
              "    90% {\n",
              "      border-color: transparent;\n",
              "      border-bottom-color: var(--fill-color);\n",
              "    }\n",
              "  }\n",
              "</style>\n",
              "\n",
              "  <script>\n",
              "    async function quickchart(key) {\n",
              "      const quickchartButtonEl =\n",
              "        document.querySelector('#' + key + ' button');\n",
              "      quickchartButtonEl.disabled = true;  // To prevent multiple clicks.\n",
              "      quickchartButtonEl.classList.add('colab-df-spinner');\n",
              "      try {\n",
              "        const charts = await google.colab.kernel.invokeFunction(\n",
              "            'suggestCharts', [key], {});\n",
              "      } catch (error) {\n",
              "        console.error('Error during call to suggestCharts:', error);\n",
              "      }\n",
              "      quickchartButtonEl.classList.remove('colab-df-spinner');\n",
              "      quickchartButtonEl.classList.add('colab-df-quickchart-complete');\n",
              "    }\n",
              "    (() => {\n",
              "      let quickchartButtonEl =\n",
              "        document.querySelector('#df-b1fe5145-035c-4ea2-8fdd-9a2ace592219 button');\n",
              "      quickchartButtonEl.style.display =\n",
              "        google.colab.kernel.accessAllowed ? 'block' : 'none';\n",
              "    })();\n",
              "  </script>\n",
              "</div>\n",
              "    </div>\n",
              "  </div>\n"
            ]
          },
          "metadata": {},
          "execution_count": 22
        }
      ]
    },
    {
      "cell_type": "code",
      "source": [
        "store_df.describe(include=\"all\")"
      ],
      "metadata": {
        "id": "QhDwCd3NEt6K",
        "colab": {
          "base_uri": "https://localhost:8080/",
          "height": 414
        },
        "outputId": "949123e7-711a-41d6-d0ae-88d3e939c4d9"
      },
      "execution_count": 23,
      "outputs": [
        {
          "output_type": "execute_result",
          "data": {
            "text/plain": [
              "             Store StoreType Assortment  CompetitionDistance  \\\n",
              "count   1115.00000      1115       1115          1112.000000   \n",
              "unique         NaN         4          3                  NaN   \n",
              "top            NaN         a          a                  NaN   \n",
              "freq           NaN       602        593                  NaN   \n",
              "mean     558.00000       NaN        NaN          5404.901079   \n",
              "std      322.01708       NaN        NaN          7663.174720   \n",
              "min        1.00000       NaN        NaN            20.000000   \n",
              "25%      279.50000       NaN        NaN           717.500000   \n",
              "50%      558.00000       NaN        NaN          2325.000000   \n",
              "75%      836.50000       NaN        NaN          6882.500000   \n",
              "max     1115.00000       NaN        NaN         75860.000000   \n",
              "\n",
              "        CompetitionOpenSinceMonth  CompetitionOpenSinceYear       Promo2  \\\n",
              "count                  761.000000                761.000000  1115.000000   \n",
              "unique                        NaN                       NaN          NaN   \n",
              "top                           NaN                       NaN          NaN   \n",
              "freq                          NaN                       NaN          NaN   \n",
              "mean                     7.224704               2008.668857     0.512108   \n",
              "std                      3.212348                  6.195983     0.500078   \n",
              "min                      1.000000               1900.000000     0.000000   \n",
              "25%                      4.000000               2006.000000     0.000000   \n",
              "50%                      8.000000               2010.000000     1.000000   \n",
              "75%                     10.000000               2013.000000     1.000000   \n",
              "max                     12.000000               2015.000000     1.000000   \n",
              "\n",
              "        Promo2SinceWeek  Promo2SinceYear    PromoInterval  \n",
              "count        571.000000       571.000000              571  \n",
              "unique              NaN              NaN                3  \n",
              "top                 NaN              NaN  Jan,Apr,Jul,Oct  \n",
              "freq                NaN              NaN              335  \n",
              "mean          23.595447      2011.763573              NaN  \n",
              "std           14.141984         1.674935              NaN  \n",
              "min            1.000000      2009.000000              NaN  \n",
              "25%           13.000000      2011.000000              NaN  \n",
              "50%           22.000000      2012.000000              NaN  \n",
              "75%           37.000000      2013.000000              NaN  \n",
              "max           50.000000      2015.000000              NaN  "
            ],
            "text/html": [
              "\n",
              "  <div id=\"df-ddbd74d5-a5e1-4364-9603-0ea46180ddff\" class=\"colab-df-container\">\n",
              "    <div>\n",
              "<style scoped>\n",
              "    .dataframe tbody tr th:only-of-type {\n",
              "        vertical-align: middle;\n",
              "    }\n",
              "\n",
              "    .dataframe tbody tr th {\n",
              "        vertical-align: top;\n",
              "    }\n",
              "\n",
              "    .dataframe thead th {\n",
              "        text-align: right;\n",
              "    }\n",
              "</style>\n",
              "<table border=\"1\" class=\"dataframe\">\n",
              "  <thead>\n",
              "    <tr style=\"text-align: right;\">\n",
              "      <th></th>\n",
              "      <th>Store</th>\n",
              "      <th>StoreType</th>\n",
              "      <th>Assortment</th>\n",
              "      <th>CompetitionDistance</th>\n",
              "      <th>CompetitionOpenSinceMonth</th>\n",
              "      <th>CompetitionOpenSinceYear</th>\n",
              "      <th>Promo2</th>\n",
              "      <th>Promo2SinceWeek</th>\n",
              "      <th>Promo2SinceYear</th>\n",
              "      <th>PromoInterval</th>\n",
              "    </tr>\n",
              "  </thead>\n",
              "  <tbody>\n",
              "    <tr>\n",
              "      <th>count</th>\n",
              "      <td>1115.00000</td>\n",
              "      <td>1115</td>\n",
              "      <td>1115</td>\n",
              "      <td>1112.000000</td>\n",
              "      <td>761.000000</td>\n",
              "      <td>761.000000</td>\n",
              "      <td>1115.000000</td>\n",
              "      <td>571.000000</td>\n",
              "      <td>571.000000</td>\n",
              "      <td>571</td>\n",
              "    </tr>\n",
              "    <tr>\n",
              "      <th>unique</th>\n",
              "      <td>NaN</td>\n",
              "      <td>4</td>\n",
              "      <td>3</td>\n",
              "      <td>NaN</td>\n",
              "      <td>NaN</td>\n",
              "      <td>NaN</td>\n",
              "      <td>NaN</td>\n",
              "      <td>NaN</td>\n",
              "      <td>NaN</td>\n",
              "      <td>3</td>\n",
              "    </tr>\n",
              "    <tr>\n",
              "      <th>top</th>\n",
              "      <td>NaN</td>\n",
              "      <td>a</td>\n",
              "      <td>a</td>\n",
              "      <td>NaN</td>\n",
              "      <td>NaN</td>\n",
              "      <td>NaN</td>\n",
              "      <td>NaN</td>\n",
              "      <td>NaN</td>\n",
              "      <td>NaN</td>\n",
              "      <td>Jan,Apr,Jul,Oct</td>\n",
              "    </tr>\n",
              "    <tr>\n",
              "      <th>freq</th>\n",
              "      <td>NaN</td>\n",
              "      <td>602</td>\n",
              "      <td>593</td>\n",
              "      <td>NaN</td>\n",
              "      <td>NaN</td>\n",
              "      <td>NaN</td>\n",
              "      <td>NaN</td>\n",
              "      <td>NaN</td>\n",
              "      <td>NaN</td>\n",
              "      <td>335</td>\n",
              "    </tr>\n",
              "    <tr>\n",
              "      <th>mean</th>\n",
              "      <td>558.00000</td>\n",
              "      <td>NaN</td>\n",
              "      <td>NaN</td>\n",
              "      <td>5404.901079</td>\n",
              "      <td>7.224704</td>\n",
              "      <td>2008.668857</td>\n",
              "      <td>0.512108</td>\n",
              "      <td>23.595447</td>\n",
              "      <td>2011.763573</td>\n",
              "      <td>NaN</td>\n",
              "    </tr>\n",
              "    <tr>\n",
              "      <th>std</th>\n",
              "      <td>322.01708</td>\n",
              "      <td>NaN</td>\n",
              "      <td>NaN</td>\n",
              "      <td>7663.174720</td>\n",
              "      <td>3.212348</td>\n",
              "      <td>6.195983</td>\n",
              "      <td>0.500078</td>\n",
              "      <td>14.141984</td>\n",
              "      <td>1.674935</td>\n",
              "      <td>NaN</td>\n",
              "    </tr>\n",
              "    <tr>\n",
              "      <th>min</th>\n",
              "      <td>1.00000</td>\n",
              "      <td>NaN</td>\n",
              "      <td>NaN</td>\n",
              "      <td>20.000000</td>\n",
              "      <td>1.000000</td>\n",
              "      <td>1900.000000</td>\n",
              "      <td>0.000000</td>\n",
              "      <td>1.000000</td>\n",
              "      <td>2009.000000</td>\n",
              "      <td>NaN</td>\n",
              "    </tr>\n",
              "    <tr>\n",
              "      <th>25%</th>\n",
              "      <td>279.50000</td>\n",
              "      <td>NaN</td>\n",
              "      <td>NaN</td>\n",
              "      <td>717.500000</td>\n",
              "      <td>4.000000</td>\n",
              "      <td>2006.000000</td>\n",
              "      <td>0.000000</td>\n",
              "      <td>13.000000</td>\n",
              "      <td>2011.000000</td>\n",
              "      <td>NaN</td>\n",
              "    </tr>\n",
              "    <tr>\n",
              "      <th>50%</th>\n",
              "      <td>558.00000</td>\n",
              "      <td>NaN</td>\n",
              "      <td>NaN</td>\n",
              "      <td>2325.000000</td>\n",
              "      <td>8.000000</td>\n",
              "      <td>2010.000000</td>\n",
              "      <td>1.000000</td>\n",
              "      <td>22.000000</td>\n",
              "      <td>2012.000000</td>\n",
              "      <td>NaN</td>\n",
              "    </tr>\n",
              "    <tr>\n",
              "      <th>75%</th>\n",
              "      <td>836.50000</td>\n",
              "      <td>NaN</td>\n",
              "      <td>NaN</td>\n",
              "      <td>6882.500000</td>\n",
              "      <td>10.000000</td>\n",
              "      <td>2013.000000</td>\n",
              "      <td>1.000000</td>\n",
              "      <td>37.000000</td>\n",
              "      <td>2013.000000</td>\n",
              "      <td>NaN</td>\n",
              "    </tr>\n",
              "    <tr>\n",
              "      <th>max</th>\n",
              "      <td>1115.00000</td>\n",
              "      <td>NaN</td>\n",
              "      <td>NaN</td>\n",
              "      <td>75860.000000</td>\n",
              "      <td>12.000000</td>\n",
              "      <td>2015.000000</td>\n",
              "      <td>1.000000</td>\n",
              "      <td>50.000000</td>\n",
              "      <td>2015.000000</td>\n",
              "      <td>NaN</td>\n",
              "    </tr>\n",
              "  </tbody>\n",
              "</table>\n",
              "</div>\n",
              "    <div class=\"colab-df-buttons\">\n",
              "\n",
              "  <div class=\"colab-df-container\">\n",
              "    <button class=\"colab-df-convert\" onclick=\"convertToInteractive('df-ddbd74d5-a5e1-4364-9603-0ea46180ddff')\"\n",
              "            title=\"Convert this dataframe to an interactive table.\"\n",
              "            style=\"display:none;\">\n",
              "\n",
              "  <svg xmlns=\"http://www.w3.org/2000/svg\" height=\"24px\" viewBox=\"0 -960 960 960\">\n",
              "    <path d=\"M120-120v-720h720v720H120Zm60-500h600v-160H180v160Zm220 220h160v-160H400v160Zm0 220h160v-160H400v160ZM180-400h160v-160H180v160Zm440 0h160v-160H620v160ZM180-180h160v-160H180v160Zm440 0h160v-160H620v160Z\"/>\n",
              "  </svg>\n",
              "    </button>\n",
              "\n",
              "  <style>\n",
              "    .colab-df-container {\n",
              "      display:flex;\n",
              "      gap: 12px;\n",
              "    }\n",
              "\n",
              "    .colab-df-convert {\n",
              "      background-color: #E8F0FE;\n",
              "      border: none;\n",
              "      border-radius: 50%;\n",
              "      cursor: pointer;\n",
              "      display: none;\n",
              "      fill: #1967D2;\n",
              "      height: 32px;\n",
              "      padding: 0 0 0 0;\n",
              "      width: 32px;\n",
              "    }\n",
              "\n",
              "    .colab-df-convert:hover {\n",
              "      background-color: #E2EBFA;\n",
              "      box-shadow: 0px 1px 2px rgba(60, 64, 67, 0.3), 0px 1px 3px 1px rgba(60, 64, 67, 0.15);\n",
              "      fill: #174EA6;\n",
              "    }\n",
              "\n",
              "    .colab-df-buttons div {\n",
              "      margin-bottom: 4px;\n",
              "    }\n",
              "\n",
              "    [theme=dark] .colab-df-convert {\n",
              "      background-color: #3B4455;\n",
              "      fill: #D2E3FC;\n",
              "    }\n",
              "\n",
              "    [theme=dark] .colab-df-convert:hover {\n",
              "      background-color: #434B5C;\n",
              "      box-shadow: 0px 1px 3px 1px rgba(0, 0, 0, 0.15);\n",
              "      filter: drop-shadow(0px 1px 2px rgba(0, 0, 0, 0.3));\n",
              "      fill: #FFFFFF;\n",
              "    }\n",
              "  </style>\n",
              "\n",
              "    <script>\n",
              "      const buttonEl =\n",
              "        document.querySelector('#df-ddbd74d5-a5e1-4364-9603-0ea46180ddff button.colab-df-convert');\n",
              "      buttonEl.style.display =\n",
              "        google.colab.kernel.accessAllowed ? 'block' : 'none';\n",
              "\n",
              "      async function convertToInteractive(key) {\n",
              "        const element = document.querySelector('#df-ddbd74d5-a5e1-4364-9603-0ea46180ddff');\n",
              "        const dataTable =\n",
              "          await google.colab.kernel.invokeFunction('convertToInteractive',\n",
              "                                                    [key], {});\n",
              "        if (!dataTable) return;\n",
              "\n",
              "        const docLinkHtml = 'Like what you see? Visit the ' +\n",
              "          '<a target=\"_blank\" href=https://colab.research.google.com/notebooks/data_table.ipynb>data table notebook</a>'\n",
              "          + ' to learn more about interactive tables.';\n",
              "        element.innerHTML = '';\n",
              "        dataTable['output_type'] = 'display_data';\n",
              "        await google.colab.output.renderOutput(dataTable, element);\n",
              "        const docLink = document.createElement('div');\n",
              "        docLink.innerHTML = docLinkHtml;\n",
              "        element.appendChild(docLink);\n",
              "      }\n",
              "    </script>\n",
              "  </div>\n",
              "\n",
              "\n",
              "<div id=\"df-3b3cb483-83c9-4f6d-9988-9cf52eb42ea6\">\n",
              "  <button class=\"colab-df-quickchart\" onclick=\"quickchart('df-3b3cb483-83c9-4f6d-9988-9cf52eb42ea6')\"\n",
              "            title=\"Suggest charts.\"\n",
              "            style=\"display:none;\">\n",
              "\n",
              "<svg xmlns=\"http://www.w3.org/2000/svg\" height=\"24px\"viewBox=\"0 0 24 24\"\n",
              "     width=\"24px\">\n",
              "    <g>\n",
              "        <path d=\"M19 3H5c-1.1 0-2 .9-2 2v14c0 1.1.9 2 2 2h14c1.1 0 2-.9 2-2V5c0-1.1-.9-2-2-2zM9 17H7v-7h2v7zm4 0h-2V7h2v10zm4 0h-2v-4h2v4z\"/>\n",
              "    </g>\n",
              "</svg>\n",
              "  </button>\n",
              "\n",
              "<style>\n",
              "  .colab-df-quickchart {\n",
              "      --bg-color: #E8F0FE;\n",
              "      --fill-color: #1967D2;\n",
              "      --hover-bg-color: #E2EBFA;\n",
              "      --hover-fill-color: #174EA6;\n",
              "      --disabled-fill-color: #AAA;\n",
              "      --disabled-bg-color: #DDD;\n",
              "  }\n",
              "\n",
              "  [theme=dark] .colab-df-quickchart {\n",
              "      --bg-color: #3B4455;\n",
              "      --fill-color: #D2E3FC;\n",
              "      --hover-bg-color: #434B5C;\n",
              "      --hover-fill-color: #FFFFFF;\n",
              "      --disabled-bg-color: #3B4455;\n",
              "      --disabled-fill-color: #666;\n",
              "  }\n",
              "\n",
              "  .colab-df-quickchart {\n",
              "    background-color: var(--bg-color);\n",
              "    border: none;\n",
              "    border-radius: 50%;\n",
              "    cursor: pointer;\n",
              "    display: none;\n",
              "    fill: var(--fill-color);\n",
              "    height: 32px;\n",
              "    padding: 0;\n",
              "    width: 32px;\n",
              "  }\n",
              "\n",
              "  .colab-df-quickchart:hover {\n",
              "    background-color: var(--hover-bg-color);\n",
              "    box-shadow: 0 1px 2px rgba(60, 64, 67, 0.3), 0 1px 3px 1px rgba(60, 64, 67, 0.15);\n",
              "    fill: var(--button-hover-fill-color);\n",
              "  }\n",
              "\n",
              "  .colab-df-quickchart-complete:disabled,\n",
              "  .colab-df-quickchart-complete:disabled:hover {\n",
              "    background-color: var(--disabled-bg-color);\n",
              "    fill: var(--disabled-fill-color);\n",
              "    box-shadow: none;\n",
              "  }\n",
              "\n",
              "  .colab-df-spinner {\n",
              "    border: 2px solid var(--fill-color);\n",
              "    border-color: transparent;\n",
              "    border-bottom-color: var(--fill-color);\n",
              "    animation:\n",
              "      spin 1s steps(1) infinite;\n",
              "  }\n",
              "\n",
              "  @keyframes spin {\n",
              "    0% {\n",
              "      border-color: transparent;\n",
              "      border-bottom-color: var(--fill-color);\n",
              "      border-left-color: var(--fill-color);\n",
              "    }\n",
              "    20% {\n",
              "      border-color: transparent;\n",
              "      border-left-color: var(--fill-color);\n",
              "      border-top-color: var(--fill-color);\n",
              "    }\n",
              "    30% {\n",
              "      border-color: transparent;\n",
              "      border-left-color: var(--fill-color);\n",
              "      border-top-color: var(--fill-color);\n",
              "      border-right-color: var(--fill-color);\n",
              "    }\n",
              "    40% {\n",
              "      border-color: transparent;\n",
              "      border-right-color: var(--fill-color);\n",
              "      border-top-color: var(--fill-color);\n",
              "    }\n",
              "    60% {\n",
              "      border-color: transparent;\n",
              "      border-right-color: var(--fill-color);\n",
              "    }\n",
              "    80% {\n",
              "      border-color: transparent;\n",
              "      border-right-color: var(--fill-color);\n",
              "      border-bottom-color: var(--fill-color);\n",
              "    }\n",
              "    90% {\n",
              "      border-color: transparent;\n",
              "      border-bottom-color: var(--fill-color);\n",
              "    }\n",
              "  }\n",
              "</style>\n",
              "\n",
              "  <script>\n",
              "    async function quickchart(key) {\n",
              "      const quickchartButtonEl =\n",
              "        document.querySelector('#' + key + ' button');\n",
              "      quickchartButtonEl.disabled = true;  // To prevent multiple clicks.\n",
              "      quickchartButtonEl.classList.add('colab-df-spinner');\n",
              "      try {\n",
              "        const charts = await google.colab.kernel.invokeFunction(\n",
              "            'suggestCharts', [key], {});\n",
              "      } catch (error) {\n",
              "        console.error('Error during call to suggestCharts:', error);\n",
              "      }\n",
              "      quickchartButtonEl.classList.remove('colab-df-spinner');\n",
              "      quickchartButtonEl.classList.add('colab-df-quickchart-complete');\n",
              "    }\n",
              "    (() => {\n",
              "      let quickchartButtonEl =\n",
              "        document.querySelector('#df-3b3cb483-83c9-4f6d-9988-9cf52eb42ea6 button');\n",
              "      quickchartButtonEl.style.display =\n",
              "        google.colab.kernel.accessAllowed ? 'block' : 'none';\n",
              "    })();\n",
              "  </script>\n",
              "</div>\n",
              "    </div>\n",
              "  </div>\n"
            ]
          },
          "metadata": {},
          "execution_count": 23
        }
      ]
    },
    {
      "cell_type": "markdown",
      "source": [
        "### Variables Description"
      ],
      "metadata": {
        "id": "PBTbrJXOngz2"
      }
    },
    {
      "cell_type": "markdown",
      "source": [
        "**Rossmann Stores Data.csv** - historical data including Sales\n",
        "\n",
        "**Store.csv** - supplemental information about the stores\n",
        "\n",
        "## Data fields:\n",
        "\n",
        "1. Id - an Id that represents a (Store, Date) duple within the test set\n",
        "\n",
        "2. Store - a unique Id for each store\n",
        "\n",
        "3. Sales - the turnover for any given day (this is what you are predicting)\n",
        "\n",
        "4. Customers - the number of customers on a given day\n",
        "\n",
        "5. Open - an indicator for whether the store was open: 0 = closed, 1 = open\n",
        "\n",
        "6. StateHoliday - indicates a state holiday.\n",
        "\n",
        "7. SchoolHoliday - indicates if the (Store, Date) was affected by the closure of public schools\n",
        "\n",
        "8. StoreType - differentiates between 4 different store models: a, b, c, d\n",
        "\n",
        "9. Assortment - describes an assortment level: a = basic, b = extra, c = extended\n",
        "\n",
        "10. CompetitionDistance - distance in meters to the nearest competitor store\n",
        "\n",
        "11. CompetitionOpenSince[Month/Year] - gives the approximate year and month of the time the nearest competitor was opened\n",
        "\n",
        "12. Promo - indicates whether a store is running a promo on that day\n",
        "\n",
        "13. Promo2 - Promo2 is a continuing and consecutive promotion for some stores: 0 = store is not participating, 1 = store is participating\n",
        "\n",
        "14. Promo2Since[Year/Week] - describes the year and calendar week when the store started participating in Promo2\n",
        "\n",
        "15. PromoInterval - describes the consecutive intervals Promo2 is started, naming the months the promotion is started a new. E.g. \"Feb,May,Aug,Nov\" means each round starts in February, May, August, November of any given year for that store."
      ],
      "metadata": {
        "id": "aJV4KIxSnxay"
      }
    },
    {
      "cell_type": "markdown",
      "source": [
        "### Check Unique Values for each variable."
      ],
      "metadata": {
        "id": "u3PMJOP6ngxN"
      }
    },
    {
      "cell_type": "code",
      "source": [
        "# Check Unique Values for each variable.\n",
        "for i in rossmann_df.columns:\n",
        "  print(\"The Unique Values of', i, 'are:\", rossmann_df[i].unique())"
      ],
      "metadata": {
        "id": "zms12Yq5n-jE",
        "colab": {
          "base_uri": "https://localhost:8080/"
        },
        "outputId": "954e14ea-0cc3-4099-b0dc-171ecd97afaf"
      },
      "execution_count": 24,
      "outputs": [
        {
          "output_type": "stream",
          "name": "stdout",
          "text": [
            "The Unique Values of', i, 'are: [   1    2    3 ... 1113 1114 1115]\n",
            "The Unique Values of', i, 'are: [5 4 3 2 1 7 6]\n",
            "The Unique Values of', i, 'are: ['2015-07-31' '2015-07-30' '2015-07-29' '2015-07-28' '2015-07-27'\n",
            " '2015-07-26' '2015-07-25' '2015-07-24' '2015-07-23' '2015-07-22'\n",
            " '2015-07-21' '2015-07-20' '2015-07-19' '2015-07-18' '2015-07-17'\n",
            " '2015-07-16' '2015-07-15' '2015-07-14' '2015-07-13' '2015-07-12'\n",
            " '2015-07-11' '2015-07-10' '2015-07-09' '2015-07-08' '2015-07-07'\n",
            " '2015-07-06' '2015-07-05' '2015-07-04' '2015-07-03' '2015-07-02'\n",
            " '2015-07-01' '2015-06-30' '2015-06-29' '2015-06-28' '2015-06-27'\n",
            " '2015-06-26' '2015-06-25' '2015-06-24' '2015-06-23' '2015-06-22'\n",
            " '2015-06-21' '2015-06-20' '2015-06-19' '2015-06-18' '2015-06-17'\n",
            " '2015-06-16' '2015-06-15' '2015-06-14' '2015-06-13' '2015-06-12'\n",
            " '2015-06-11' '2015-06-10' '2015-06-09' '2015-06-08' '2015-06-07'\n",
            " '2015-06-06' '2015-06-05' '2015-06-04' '2015-06-03' '2015-06-02'\n",
            " '2015-06-01' '2015-05-31' '2015-05-30' '2015-05-29' '2015-05-28'\n",
            " '2015-05-27' '2015-05-26' '2015-05-25' '2015-05-24' '2015-05-23'\n",
            " '2015-05-22' '2015-05-21' '2015-05-20' '2015-05-19' '2015-05-18'\n",
            " '2015-05-17' '2015-05-16' '2015-05-15' '2015-05-14' '2015-05-13'\n",
            " '2015-05-12' '2015-05-11' '2015-05-10' '2015-05-09' '2015-05-08'\n",
            " '2015-05-07' '2015-05-06' '2015-05-05' '2015-05-04' '2015-05-03'\n",
            " '2015-05-02' '2015-05-01' '2015-04-30' '2015-04-29' '2015-04-28'\n",
            " '2015-04-27' '2015-04-26' '2015-04-25' '2015-04-24' '2015-04-23'\n",
            " '2015-04-22' '2015-04-21' '2015-04-20' '2015-04-19' '2015-04-18'\n",
            " '2015-04-17' '2015-04-16' '2015-04-15' '2015-04-14' '2015-04-13'\n",
            " '2015-04-12' '2015-04-11' '2015-04-10' '2015-04-09' '2015-04-08'\n",
            " '2015-04-07' '2015-04-06' '2015-04-05' '2015-04-04' '2015-04-03'\n",
            " '2015-04-02' '2015-04-01' '2015-03-31' '2015-03-30' '2015-03-29'\n",
            " '2015-03-28' '2015-03-27' '2015-03-26' '2015-03-25' '2015-03-24'\n",
            " '2015-03-23' '2015-03-22' '2015-03-21' '2015-03-20' '2015-03-19'\n",
            " '2015-03-18' '2015-03-17' '2015-03-16' '2015-03-15' '2015-03-14'\n",
            " '2015-03-13' '2015-03-12' '2015-03-11' '2015-03-10' '2015-03-09'\n",
            " '2015-03-08' '2015-03-07' '2015-03-06' '2015-03-05' '2015-03-04'\n",
            " '2015-03-03' '2015-03-02' '2015-03-01' '2015-02-28' '2015-02-27'\n",
            " '2015-02-26' '2015-02-25' '2015-02-24' '2015-02-23' '2015-02-22'\n",
            " '2015-02-21' '2015-02-20' '2015-02-19' '2015-02-18' '2015-02-17'\n",
            " '2015-02-16' '2015-02-15' '2015-02-14' '2015-02-13' '2015-02-12'\n",
            " '2015-02-11' '2015-02-10' '2015-02-09' '2015-02-08' '2015-02-07'\n",
            " '2015-02-06' '2015-02-05' '2015-02-04' '2015-02-03' '2015-02-02'\n",
            " '2015-02-01' '2015-01-31' '2015-01-30' '2015-01-29' '2015-01-28'\n",
            " '2015-01-27' '2015-01-26' '2015-01-25' '2015-01-24' '2015-01-23'\n",
            " '2015-01-22' '2015-01-21' '2015-01-20' '2015-01-19' '2015-01-18'\n",
            " '2015-01-17' '2015-01-16' '2015-01-15' '2015-01-14' '2015-01-13'\n",
            " '2015-01-12' '2015-01-11' '2015-01-10' '2015-01-09' '2015-01-08'\n",
            " '2015-01-07' '2015-01-06' '2015-01-05' '2015-01-04' '2015-01-03'\n",
            " '2015-01-02' '2015-01-01' '2014-12-31' '2014-12-30' '2014-12-29'\n",
            " '2014-12-28' '2014-12-27' '2014-12-26' '2014-12-25' '2014-12-24'\n",
            " '2014-12-23' '2014-12-22' '2014-12-21' '2014-12-20' '2014-12-19'\n",
            " '2014-12-18' '2014-12-17' '2014-12-16' '2014-12-15' '2014-12-14'\n",
            " '2014-12-13' '2014-12-12' '2014-12-11' '2014-12-10' '2014-12-09'\n",
            " '2014-12-08' '2014-12-07' '2014-12-06' '2014-12-05' '2014-12-04'\n",
            " '2014-12-03' '2014-12-02' '2014-12-01' '2014-11-30' '2014-11-29'\n",
            " '2014-11-28' '2014-11-27' '2014-11-26' '2014-11-25' '2014-11-24'\n",
            " '2014-11-23' '2014-11-22' '2014-11-21' '2014-11-20' '2014-11-19'\n",
            " '2014-11-18' '2014-11-17' '2014-11-16' '2014-11-15' '2014-11-14'\n",
            " '2014-11-13' '2014-11-12' '2014-11-11' '2014-11-10' '2014-11-09'\n",
            " '2014-11-08' '2014-11-07' '2014-11-06' '2014-11-05' '2014-11-04'\n",
            " '2014-11-03' '2014-11-02' '2014-11-01' '2014-10-31' '2014-10-30'\n",
            " '2014-10-29' '2014-10-28' '2014-10-27' '2014-10-26' '2014-10-25'\n",
            " '2014-10-24' '2014-10-23' '2014-10-22' '2014-10-21' '2014-10-20'\n",
            " '2014-10-19' '2014-10-18' '2014-10-17' '2014-10-16' '2014-10-15'\n",
            " '2014-10-14' '2014-10-13' '2014-10-12' '2014-10-11' '2014-10-10'\n",
            " '2014-10-09' '2014-10-08' '2014-10-07' '2014-10-06' '2014-10-05'\n",
            " '2014-10-04' '2014-10-03' '2014-10-02' '2014-10-01' '2014-09-30'\n",
            " '2014-09-29' '2014-09-28' '2014-09-27' '2014-09-26' '2014-09-25'\n",
            " '2014-09-24' '2014-09-23' '2014-09-22' '2014-09-21' '2014-09-20'\n",
            " '2014-09-19' '2014-09-18' '2014-09-17' '2014-09-16' '2014-09-15'\n",
            " '2014-09-14' '2014-09-13' '2014-09-12' '2014-09-11' '2014-09-10'\n",
            " '2014-09-09' '2014-09-08' '2014-09-07' '2014-09-06' '2014-09-05'\n",
            " '2014-09-04' '2014-09-03' '2014-09-02' '2014-09-01' '2014-08-31'\n",
            " '2014-08-30' '2014-08-29' '2014-08-28' '2014-08-27' '2014-08-26'\n",
            " '2014-08-25' '2014-08-24' '2014-08-23' '2014-08-22' '2014-08-21'\n",
            " '2014-08-20' '2014-08-19' '2014-08-18' '2014-08-17' '2014-08-16'\n",
            " '2014-08-15' '2014-08-14' '2014-08-13' '2014-08-12' '2014-08-11'\n",
            " '2014-08-10' '2014-08-09' '2014-08-08' '2014-08-07' '2014-08-06'\n",
            " '2014-08-05' '2014-08-04' '2014-08-03' '2014-08-02' '2014-08-01'\n",
            " '2014-07-31' '2014-07-30' '2014-07-29' '2014-07-28' '2014-07-27'\n",
            " '2014-07-26' '2014-07-25' '2014-07-24' '2014-07-23' '2014-07-22'\n",
            " '2014-07-21' '2014-07-20' '2014-07-19' '2014-07-18' '2014-07-17'\n",
            " '2014-07-16' '2014-07-15' '2014-07-14' '2014-07-13' '2014-07-12'\n",
            " '2014-07-11' '2014-07-10' '2014-07-09' '2014-07-08' '2014-07-07'\n",
            " '2014-07-06' '2014-07-05' '2014-07-04' '2014-07-03' '2014-07-02'\n",
            " '2014-07-01' '2014-06-30' '2014-06-29' '2014-06-28' '2014-06-27'\n",
            " '2014-06-26' '2014-06-25' '2014-06-24' '2014-06-23' '2014-06-22'\n",
            " '2014-06-21' '2014-06-20' '2014-06-19' '2014-06-18' '2014-06-17'\n",
            " '2014-06-16' '2014-06-15' '2014-06-14' '2014-06-13' '2014-06-12'\n",
            " '2014-06-11' '2014-06-10' '2014-06-09' '2014-06-08' '2014-06-07'\n",
            " '2014-06-06' '2014-06-05' '2014-06-04' '2014-06-03' '2014-06-02'\n",
            " '2014-06-01' '2014-05-31' '2014-05-30' '2014-05-29' '2014-05-28'\n",
            " '2014-05-27' '2014-05-26' '2014-05-25' '2014-05-24' '2014-05-23'\n",
            " '2014-05-22' '2014-05-21' '2014-05-20' '2014-05-19' '2014-05-18'\n",
            " '2014-05-17' '2014-05-16' '2014-05-15' '2014-05-14' '2014-05-13'\n",
            " '2014-05-12' '2014-05-11' '2014-05-10' '2014-05-09' '2014-05-08'\n",
            " '2014-05-07' '2014-05-06' '2014-05-05' '2014-05-04' '2014-05-03'\n",
            " '2014-05-02' '2014-05-01' '2014-04-30' '2014-04-29' '2014-04-28'\n",
            " '2014-04-27' '2014-04-26' '2014-04-25' '2014-04-24' '2014-04-23'\n",
            " '2014-04-22' '2014-04-21' '2014-04-20' '2014-04-19' '2014-04-18'\n",
            " '2014-04-17' '2014-04-16' '2014-04-15' '2014-04-14' '2014-04-13'\n",
            " '2014-04-12' '2014-04-11' '2014-04-10' '2014-04-09' '2014-04-08'\n",
            " '2014-04-07' '2014-04-06' '2014-04-05' '2014-04-04' '2014-04-03'\n",
            " '2014-04-02' '2014-04-01' '2014-03-31' '2014-03-30' '2014-03-29'\n",
            " '2014-03-28' '2014-03-27' '2014-03-26' '2014-03-25' '2014-03-24'\n",
            " '2014-03-23' '2014-03-22' '2014-03-21' '2014-03-20' '2014-03-19'\n",
            " '2014-03-18' '2014-03-17' '2014-03-16' '2014-03-15' '2014-03-14'\n",
            " '2014-03-13' '2014-03-12' '2014-03-11' '2014-03-10' '2014-03-09'\n",
            " '2014-03-08' '2014-03-07' '2014-03-06' '2014-03-05' '2014-03-04'\n",
            " '2014-03-03' '2014-03-02' '2014-03-01' '2014-02-28' '2014-02-27'\n",
            " '2014-02-26' '2014-02-25' '2014-02-24' '2014-02-23' '2014-02-22'\n",
            " '2014-02-21' '2014-02-20' '2014-02-19' '2014-02-18' '2014-02-17'\n",
            " '2014-02-16' '2014-02-15' '2014-02-14' '2014-02-13' '2014-02-12'\n",
            " '2014-02-11' '2014-02-10' '2014-02-09' '2014-02-08' '2014-02-07'\n",
            " '2014-02-06' '2014-02-05' '2014-02-04' '2014-02-03' '2014-02-02'\n",
            " '2014-02-01' '2014-01-31' '2014-01-30' '2014-01-29' '2014-01-28'\n",
            " '2014-01-27' '2014-01-26' '2014-01-25' '2014-01-24' '2014-01-23'\n",
            " '2014-01-22' '2014-01-21' '2014-01-20' '2014-01-19' '2014-01-18'\n",
            " '2014-01-17' '2014-01-16' '2014-01-15' '2014-01-14' '2014-01-13'\n",
            " '2014-01-12' '2014-01-11' '2014-01-10' '2014-01-09' '2014-01-08'\n",
            " '2014-01-07' '2014-01-06' '2014-01-05' '2014-01-04' '2014-01-03'\n",
            " '2014-01-02' '2014-01-01' '2013-12-31' '2013-12-30' '2013-12-29'\n",
            " '2013-12-28' '2013-12-27' '2013-12-26' '2013-12-25' '2013-12-24'\n",
            " '2013-12-23' '2013-12-22' '2013-12-21' '2013-12-20' '2013-12-19'\n",
            " '2013-12-18' '2013-12-17' '2013-12-16' '2013-12-15' '2013-12-14'\n",
            " '2013-12-13' '2013-12-12' '2013-12-11' '2013-12-10' '2013-12-09'\n",
            " '2013-12-08' '2013-12-07' '2013-12-06' '2013-12-05' '2013-12-04'\n",
            " '2013-12-03' '2013-12-02' '2013-12-01' '2013-11-30' '2013-11-29'\n",
            " '2013-11-28' '2013-11-27' '2013-11-26' '2013-11-25' '2013-11-24'\n",
            " '2013-11-23' '2013-11-22' '2013-11-21' '2013-11-20' '2013-11-19'\n",
            " '2013-11-18' '2013-11-17' '2013-11-16' '2013-11-15' '2013-11-14'\n",
            " '2013-11-13' '2013-11-12' '2013-11-11' '2013-11-10' '2013-11-09'\n",
            " '2013-11-08' '2013-11-07' '2013-11-06' '2013-11-05' '2013-11-04'\n",
            " '2013-11-03' '2013-11-02' '2013-11-01' '2013-10-31' '2013-10-30'\n",
            " '2013-10-29' '2013-10-28' '2013-10-27' '2013-10-26' '2013-10-25'\n",
            " '2013-10-24' '2013-10-23' '2013-10-22' '2013-10-21' '2013-10-20'\n",
            " '2013-10-19' '2013-10-18' '2013-10-17' '2013-10-16' '2013-10-15'\n",
            " '2013-10-14' '2013-10-13' '2013-10-12' '2013-10-11' '2013-10-10'\n",
            " '2013-10-09' '2013-10-08' '2013-10-07' '2013-10-06' '2013-10-05'\n",
            " '2013-10-04' '2013-10-03' '2013-10-02' '2013-10-01' '2013-09-30'\n",
            " '2013-09-29' '2013-09-28' '2013-09-27' '2013-09-26' '2013-09-25'\n",
            " '2013-09-24' '2013-09-23' '2013-09-22' '2013-09-21' '2013-09-20'\n",
            " '2013-09-19' '2013-09-18' '2013-09-17' '2013-09-16' '2013-09-15'\n",
            " '2013-09-14' '2013-09-13' '2013-09-12' '2013-09-11' '2013-09-10'\n",
            " '2013-09-09' '2013-09-08' '2013-09-07' '2013-09-06' '2013-09-05'\n",
            " '2013-09-04' '2013-09-03' '2013-09-02' '2013-09-01' '2013-08-31'\n",
            " '2013-08-30' '2013-08-29' '2013-08-28' '2013-08-27' '2013-08-26'\n",
            " '2013-08-25' '2013-08-24' '2013-08-23' '2013-08-22' '2013-08-21'\n",
            " '2013-08-20' '2013-08-19' '2013-08-18' '2013-08-17' '2013-08-16'\n",
            " '2013-08-15' '2013-08-14' '2013-08-13' '2013-08-12' '2013-08-11'\n",
            " '2013-08-10' '2013-08-09' '2013-08-08' '2013-08-07' '2013-08-06'\n",
            " '2013-08-05' '2013-08-04' '2013-08-03' '2013-08-02' '2013-08-01'\n",
            " '2013-07-31' '2013-07-30' '2013-07-29' '2013-07-28' '2013-07-27'\n",
            " '2013-07-26' '2013-07-25' '2013-07-24' '2013-07-23' '2013-07-22'\n",
            " '2013-07-21' '2013-07-20' '2013-07-19' '2013-07-18' '2013-07-17'\n",
            " '2013-07-16' '2013-07-15' '2013-07-14' '2013-07-13' '2013-07-12'\n",
            " '2013-07-11' '2013-07-10' '2013-07-09' '2013-07-08' '2013-07-07'\n",
            " '2013-07-06' '2013-07-05' '2013-07-04' '2013-07-03' '2013-07-02'\n",
            " '2013-07-01' '2013-06-30' '2013-06-29' '2013-06-28' '2013-06-27'\n",
            " '2013-06-26' '2013-06-25' '2013-06-24' '2013-06-23' '2013-06-22'\n",
            " '2013-06-21' '2013-06-20' '2013-06-19' '2013-06-18' '2013-06-17'\n",
            " '2013-06-16' '2013-06-15' '2013-06-14' '2013-06-13' '2013-06-12'\n",
            " '2013-06-11' '2013-06-10' '2013-06-09' '2013-06-08' '2013-06-07'\n",
            " '2013-06-06' '2013-06-05' '2013-06-04' '2013-06-03' '2013-06-02'\n",
            " '2013-06-01' '2013-05-31' '2013-05-30' '2013-05-29' '2013-05-28'\n",
            " '2013-05-27' '2013-05-26' '2013-05-25' '2013-05-24' '2013-05-23'\n",
            " '2013-05-22' '2013-05-21' '2013-05-20' '2013-05-19' '2013-05-18'\n",
            " '2013-05-17' '2013-05-16' '2013-05-15' '2013-05-14' '2013-05-13'\n",
            " '2013-05-12' '2013-05-11' '2013-05-10' '2013-05-09' '2013-05-08'\n",
            " '2013-05-07' '2013-05-06' '2013-05-05' '2013-05-04' '2013-05-03'\n",
            " '2013-05-02' '2013-05-01' '2013-04-30' '2013-04-29' '2013-04-28'\n",
            " '2013-04-27' '2013-04-26' '2013-04-25' '2013-04-24' '2013-04-23'\n",
            " '2013-04-22' '2013-04-21' '2013-04-20' '2013-04-19' '2013-04-18'\n",
            " '2013-04-17' '2013-04-16' '2013-04-15' '2013-04-14' '2013-04-13'\n",
            " '2013-04-12' '2013-04-11' '2013-04-10' '2013-04-09' '2013-04-08'\n",
            " '2013-04-07' '2013-04-06' '2013-04-05' '2013-04-04' '2013-04-03'\n",
            " '2013-04-02' '2013-04-01' '2013-03-31' '2013-03-30' '2013-03-29'\n",
            " '2013-03-28' '2013-03-27' '2013-03-26' '2013-03-25' '2013-03-24'\n",
            " '2013-03-23' '2013-03-22' '2013-03-21' '2013-03-20' '2013-03-19'\n",
            " '2013-03-18' '2013-03-17' '2013-03-16' '2013-03-15' '2013-03-14'\n",
            " '2013-03-13' '2013-03-12' '2013-03-11' '2013-03-10' '2013-03-09'\n",
            " '2013-03-08' '2013-03-07' '2013-03-06' '2013-03-05' '2013-03-04'\n",
            " '2013-03-03' '2013-03-02' '2013-03-01' '2013-02-28' '2013-02-27'\n",
            " '2013-02-26' '2013-02-25' '2013-02-24' '2013-02-23' '2013-02-22'\n",
            " '2013-02-21' '2013-02-20' '2013-02-19' '2013-02-18' '2013-02-17'\n",
            " '2013-02-16' '2013-02-15' '2013-02-14' '2013-02-13' '2013-02-12'\n",
            " '2013-02-11' '2013-02-10' '2013-02-09' '2013-02-08' '2013-02-07'\n",
            " '2013-02-06' '2013-02-05' '2013-02-04' '2013-02-03' '2013-02-02'\n",
            " '2013-02-01' '2013-01-31' '2013-01-30' '2013-01-29' '2013-01-28'\n",
            " '2013-01-27' '2013-01-26' '2013-01-25' '2013-01-24' '2013-01-23'\n",
            " '2013-01-22' '2013-01-21' '2013-01-20' '2013-01-19' '2013-01-18'\n",
            " '2013-01-17' '2013-01-16' '2013-01-15' '2013-01-14' '2013-01-13'\n",
            " '2013-01-12' '2013-01-11' '2013-01-10' '2013-01-09' '2013-01-08'\n",
            " '2013-01-07' '2013-01-06' '2013-01-05' '2013-01-04' '2013-01-03'\n",
            " '2013-01-02' '2013-01-01']\n",
            "The Unique Values of', i, 'are: [ 5263  6064  8314 ...   660 17815 23303]\n",
            "The Unique Values of', i, 'are: [ 555  625  821 ... 3900   36 4065]\n",
            "The Unique Values of', i, 'are: [1 0]\n",
            "The Unique Values of', i, 'are: [1 0]\n",
            "The Unique Values of', i, 'are: ['0' 'a' 'b' 'c' 0]\n",
            "The Unique Values of', i, 'are: [1 0]\n"
          ]
        }
      ]
    },
    {
      "cell_type": "code",
      "source": [
        "# Check Unique Values for each variable.\n",
        "for i in store_df.columns:\n",
        "  print(\"The Unique Values of', i, 'are:\", store_df[i].unique())"
      ],
      "metadata": {
        "id": "04ZTun7oFu72",
        "colab": {
          "base_uri": "https://localhost:8080/"
        },
        "outputId": "57b43178-10b9-485e-8918-c4502e2cd5ee"
      },
      "execution_count": 25,
      "outputs": [
        {
          "output_type": "stream",
          "name": "stdout",
          "text": [
            "The Unique Values of', i, 'are: [   1    2    3 ... 1113 1114 1115]\n",
            "The Unique Values of', i, 'are: ['c' 'a' 'd' 'b']\n",
            "The Unique Values of', i, 'are: ['a' 'c' 'b']\n",
            "The Unique Values of', i, 'are: [1.270e+03 5.700e+02 1.413e+04 6.200e+02 2.991e+04 3.100e+02 2.400e+04\n",
            " 7.520e+03 2.030e+03 3.160e+03 9.600e+02 1.070e+03 1.300e+03 4.110e+03\n",
            " 3.270e+03 5.000e+01 1.384e+04 3.240e+03 2.340e+03 5.500e+02 1.040e+03\n",
            " 4.060e+03 4.590e+03 4.300e+02 2.300e+03 6.000e+01 1.200e+03 2.170e+03\n",
            " 4.000e+01 9.800e+03 2.910e+03 1.320e+03 2.240e+03 7.660e+03 5.400e+02\n",
            " 4.230e+03 1.090e+03 2.600e+02 1.800e+02 1.180e+03 2.900e+02 4.880e+03\n",
            " 9.710e+03 2.700e+02 1.060e+03 1.801e+04 6.260e+03 1.057e+04 4.500e+02\n",
            " 3.036e+04 7.170e+03 7.200e+02 6.620e+03 4.200e+02 7.340e+03 2.840e+03\n",
            " 5.540e+03 3.500e+02 2.050e+03 3.700e+03 2.256e+04 4.100e+02 2.500e+02\n",
            " 1.130e+03 4.840e+03 1.750e+04 2.200e+03 1.650e+03 3.300e+02 2.244e+04\n",
            " 1.996e+04 3.510e+03 3.320e+03 7.910e+03 2.370e+03 2.239e+04 2.710e+03\n",
            " 1.181e+04 1.870e+03 4.800e+02 5.600e+02 1.069e+04 2.380e+03 2.410e+03\n",
            " 2.400e+02 1.669e+04 1.462e+04 1.890e+03 8.780e+03 8.980e+03 1.514e+04\n",
            " 1.793e+04 2.440e+03 1.500e+02 5.210e+03 3.900e+02 6.190e+03 1.390e+03\n",
            " 1.930e+03 2.190e+03 3.300e+03 4.659e+04 7.890e+03 1.630e+03 2.093e+04\n",
            " 4.510e+03 5.740e+03 6.800e+02 3.450e+03 3.580e+03 2.100e+03 2.290e+03\n",
            " 3.570e+03 5.826e+04 1.676e+04 1.410e+03 7.600e+02 3.370e+03 1.350e+03\n",
            " 2.000e+03 2.460e+03 9.000e+02 9.200e+02 5.190e+03 1.730e+03 2.536e+04\n",
            " 1.700e+03 1.540e+03 2.930e+03 1.657e+04 2.800e+02 8.050e+03 8.540e+03\n",
            " 2.090e+03 2.610e+03 3.183e+04 4.360e+03 1.780e+03 1.624e+04 1.642e+04\n",
            " 3.050e+03 2.020e+03 2.950e+03 1.184e+04 8.530e+03 1.711e+04 2.970e+03\n",
            " 5.340e+03 1.480e+03 1.160e+03 3.720e+03 1.000e+02 1.400e+02 1.254e+04\n",
            " 9.800e+02 2.640e+03 1.100e+02 1.309e+04 4.130e+03 3.770e+03 1.250e+03\n",
            " 1.710e+03 5.800e+03 1.261e+04 9.670e+03 3.560e+03 1.860e+03 1.936e+04\n",
            " 8.500e+02 5.760e+03 1.470e+03 1.100e+03 2.770e+03 5.200e+02 1.697e+04\n",
            " 2.200e+02 3.850e+03 4.210e+03 6.360e+03 2.026e+04 5.140e+03 4.900e+02\n",
            " 5.630e+03 3.800e+02 6.870e+03 3.000e+02 1.168e+04 9.700e+02 1.505e+04\n",
            " 4.030e+03 8.650e+03 1.900e+02 3.150e+03 6.400e+02 1.640e+03 1.000e+03\n",
            " 1.353e+04 2.920e+03 7.930e+03 1.018e+04 1.080e+04 1.741e+04 6.680e+03\n",
            " 3.840e+03 1.357e+04 4.370e+03 5.710e+03 1.420e+03 3.200e+02 6.100e+02\n",
            " 1.110e+03 7.800e+02 6.880e+03 7.100e+02 1.310e+03 4.660e+03 7.000e+01\n",
            " 3.400e+02 3.520e+03 2.233e+04 4.630e+03 8.000e+01 2.719e+04 2.100e+02\n",
            " 1.534e+04 1.140e+03 4.580e+03 3.600e+02 4.520e+03 1.450e+03 1.618e+04\n",
            " 8.480e+03 3.640e+03 2.960e+03 7.840e+03 9.260e+03 2.320e+03 1.864e+04\n",
            " 6.970e+03 1.220e+03 2.260e+03 1.290e+03 1.460e+03 2.740e+03 8.000e+02\n",
            " 6.540e+03 4.150e+03       nan 9.580e+03 1.984e+04 3.863e+04 1.200e+02\n",
            " 1.543e+04 1.950e+03 2.470e+03 5.100e+03 1.866e+04 8.740e+03 1.130e+04\n",
            " 1.416e+04 3.871e+04 9.000e+03 3.140e+03 3.233e+04 8.140e+03 8.400e+03\n",
            " 1.314e+04 1.007e+04 3.130e+03 3.700e+02 6.700e+02 1.840e+03 4.040e+03\n",
            " 9.000e+01 1.060e+04 1.590e+03 2.280e+03 8.080e+03 1.577e+04 1.865e+04\n",
            " 8.090e+03 9.360e+03 1.649e+04 1.490e+03 8.880e+03 5.290e+03 1.500e+03\n",
            " 9.720e+03 8.970e+03 2.060e+03 2.890e+03 2.040e+03 4.490e+03 1.362e+04\n",
            " 6.470e+03 5.870e+03 8.250e+03 1.970e+03 1.112e+04 1.150e+03 1.571e+04\n",
            " 1.600e+02 2.140e+03 6.630e+03 1.800e+03 2.613e+04 1.300e+02 6.690e+03\n",
            " 1.600e+03 4.600e+02 2.120e+03 4.820e+03 1.085e+04 3.620e+03 2.313e+04\n",
            " 5.360e+03 9.200e+03 5.830e+03 4.970e+03 1.080e+03 8.240e+03 5.890e+03\n",
            " 1.560e+03 8.400e+02 8.460e+03 4.460e+03 6.210e+03 6.910e+03 4.650e+03\n",
            " 1.620e+03 3.530e+03 2.880e+03 1.635e+04 1.287e+04 8.100e+02 3.003e+04\n",
            " 1.302e+04 9.100e+02 3.900e+03 2.530e+03 5.000e+02 1.140e+04 1.510e+03\n",
            " 3.970e+03 5.780e+03 1.850e+03 7.586e+04 2.645e+04 3.390e+03 3.405e+04\n",
            " 1.790e+03 4.432e+04 4.160e+03 1.089e+04 3.110e+03 2.039e+04 5.260e+03\n",
            " 5.300e+03 5.030e+03 1.481e+04 8.300e+03 7.700e+02 1.940e+03 7.470e+03\n",
            " 2.550e+03 2.310e+03 1.430e+04 2.180e+03 1.496e+04 6.600e+02 4.680e+03\n",
            " 1.740e+03 1.260e+03 5.470e+03 2.780e+03 1.610e+03 9.900e+02 1.308e+04\n",
            " 8.200e+02 9.070e+03 1.280e+03 4.740e+03 8.260e+03 5.900e+02 4.000e+02\n",
            " 1.126e+04 2.000e+01 2.249e+04 3.330e+03 2.510e+03 6.900e+03 1.861e+04\n",
            " 7.160e+03 4.086e+04 2.062e+04 1.292e+04 1.816e+04 5.950e+03 4.700e+03\n",
            " 6.000e+02 6.500e+02 7.280e+03 5.020e+03 5.800e+02 8.990e+03 3.760e+03\n",
            " 2.330e+03 4.260e+03 3.040e+03 3.000e+03 3.910e+03 1.910e+03 1.210e+03\n",
            " 7.000e+02 1.010e+03 4.270e+03 1.340e+03 2.110e+03 9.230e+03 1.190e+03\n",
            " 4.400e+03 2.270e+03 1.270e+04 2.097e+04 1.700e+02 7.250e+03 1.360e+03\n",
            " 4.400e+02 1.572e+04 3.340e+03 2.540e+03 3.306e+04 1.734e+04 8.220e+03\n",
            " 1.095e+04 1.031e+04 1.837e+04 2.070e+03 2.490e+03 7.300e+02 8.940e+03\n",
            " 9.910e+03 5.440e+03 3.000e+01 4.080e+03 6.920e+03 1.170e+03 1.074e+04\n",
            " 5.100e+02 1.690e+03 2.870e+03 3.350e+03 1.164e+04 2.753e+04 9.790e+03\n",
            " 1.017e+04 7.780e+03 8.040e+03 5.300e+02 2.300e+02 7.420e+03 2.130e+03\n",
            " 1.457e+04 2.000e+02 6.930e+03 7.860e+03 1.680e+03 2.700e+03 1.708e+04\n",
            " 1.517e+04 3.250e+03 4.140e+03 2.850e+03 2.005e+04 1.876e+04 1.504e+04\n",
            " 3.030e+03 3.780e+03 8.300e+02 8.550e+03 7.830e+03 2.900e+03 1.147e+04\n",
            " 4.870e+03 1.207e+04 3.200e+03 8.190e+03 1.532e+04 3.590e+03 5.650e+03\n",
            " 5.900e+03 1.754e+04 4.054e+04 1.399e+04 1.527e+04 3.528e+04 8.600e+02\n",
            " 1.920e+03 5.980e+03 6.400e+03 1.190e+04 4.380e+03 6.710e+03 1.370e+03\n",
            " 1.765e+04 4.330e+03 4.574e+04 3.410e+03 8.670e+03 1.313e+04 1.978e+04\n",
            " 2.390e+03 3.224e+04 2.649e+04 2.543e+04 9.820e+03 2.630e+03 2.064e+04\n",
            " 1.699e+04 6.300e+02 5.390e+03 1.549e+04 3.210e+03 1.530e+03 9.770e+03\n",
            " 1.728e+04 5.090e+03 7.180e+03 9.560e+03 4.833e+04 1.760e+03 2.477e+04\n",
            " 3.870e+03 1.862e+04 1.277e+04 9.640e+03 2.590e+03 2.453e+04 1.621e+04\n",
            " 1.757e+04 7.980e+03 3.290e+03 6.320e+03 5.070e+03 3.470e+03 2.720e+03\n",
            " 1.460e+04 6.890e+03 2.765e+04 8.860e+03 5.000e+03 1.120e+03 9.400e+02\n",
            " 1.404e+04 4.770e+03 3.440e+03 3.020e+03 6.270e+03 2.177e+04 7.400e+02\n",
            " 2.137e+04 1.020e+03 9.680e+03 2.181e+04 1.062e+04 3.860e+03 2.179e+04\n",
            " 2.919e+04 4.570e+03 7.550e+03 1.243e+04 1.970e+04 4.450e+03 1.867e+04\n",
            " 1.937e+04 1.854e+04 3.920e+03 3.170e+03 7.290e+03 1.980e+03 1.248e+04\n",
            " 3.100e+03 7.240e+03 1.871e+04 2.620e+03 6.420e+03 4.700e+02 5.150e+03\n",
            " 1.570e+04 5.460e+03 2.235e+04 2.810e+03 2.820e+03 6.860e+03 1.802e+04\n",
            " 1.670e+03 2.220e+03 1.430e+03 8.700e+02 6.300e+03 1.983e+04 9.430e+03\n",
            " 2.362e+04 9.630e+03 4.180e+03 3.890e+03 4.420e+03 2.193e+04 2.480e+03\n",
            " 3.460e+03 6.560e+03 5.840e+03 2.230e+03 1.964e+04 6.480e+03 4.610e+03\n",
            " 6.330e+03 1.520e+03 3.740e+03 1.990e+03 3.641e+04 7.680e+03 1.375e+04\n",
            " 2.715e+04 1.729e+04 2.699e+04 2.907e+04 3.750e+03 1.317e+04 5.080e+03\n",
            " 1.319e+04 5.350e+03 3.230e+03 3.380e+03 3.430e+03 8.110e+03 6.250e+03\n",
            " 1.202e+04 5.010e+03 1.805e+04 5.380e+03 1.668e+04 1.154e+04 2.210e+03\n",
            " 4.300e+03 5.220e+03 9.990e+03 1.045e+04 6.900e+02 1.830e+03 5.330e+03\n",
            " 1.400e+03 3.490e+03 1.900e+03 1.880e+03]\n",
            "The Unique Values of', i, 'are: [ 9. 11. 12.  4. 10.  8. nan  3.  6.  5.  1.  2.  7.]\n",
            "The Unique Values of', i, 'are: [2008. 2007. 2006. 2009. 2015. 2013. 2014. 2000. 2011.   nan 2010. 2005.\n",
            " 1999. 2003. 2012. 2004. 2002. 1961. 1995. 2001. 1990. 1994. 1900. 1998.]\n",
            "The Unique Values of', i, 'are: [0 1]\n",
            "The Unique Values of', i, 'are: [nan 13. 14.  1. 45. 40. 26. 22.  5.  6. 10. 31. 37.  9. 39. 27. 18. 35.\n",
            " 23. 48. 36. 50. 44. 49. 28.]\n",
            "The Unique Values of', i, 'are: [  nan 2010. 2011. 2012. 2009. 2014. 2015. 2013.]\n",
            "The Unique Values of', i, 'are: [nan 'Jan,Apr,Jul,Oct' 'Feb,May,Aug,Nov' 'Mar,Jun,Sept,Dec']\n"
          ]
        }
      ]
    },
    {
      "cell_type": "markdown",
      "source": [
        "## 3. ***Data Wrangling***"
      ],
      "metadata": {
        "id": "dauF4eBmngu3"
      }
    },
    {
      "cell_type": "markdown",
      "source": [
        "### Data Wrangling Code"
      ],
      "metadata": {
        "id": "bKJF3rekwFvQ"
      }
    },
    {
      "cell_type": "code",
      "source": [
        "# Write your code to make your dataset analysis ready.\n",
        "rossmann_df.isnull().sum(),  rossmann_df.info()"
      ],
      "metadata": {
        "id": "wk-9a2fpoLcV",
        "colab": {
          "base_uri": "https://localhost:8080/"
        },
        "outputId": "2963282d-568c-4353-b091-5a01a91907ae"
      },
      "execution_count": 26,
      "outputs": [
        {
          "output_type": "stream",
          "name": "stdout",
          "text": [
            "<class 'pandas.core.frame.DataFrame'>\n",
            "RangeIndex: 1017209 entries, 0 to 1017208\n",
            "Data columns (total 9 columns):\n",
            " #   Column         Non-Null Count    Dtype \n",
            "---  ------         --------------    ----- \n",
            " 0   Store          1017209 non-null  int64 \n",
            " 1   DayOfWeek      1017209 non-null  int64 \n",
            " 2   Date           1017209 non-null  object\n",
            " 3   Sales          1017209 non-null  int64 \n",
            " 4   Customers      1017209 non-null  int64 \n",
            " 5   Open           1017209 non-null  int64 \n",
            " 6   Promo          1017209 non-null  int64 \n",
            " 7   StateHoliday   1017209 non-null  object\n",
            " 8   SchoolHoliday  1017209 non-null  int64 \n",
            "dtypes: int64(7), object(2)\n",
            "memory usage: 69.8+ MB\n"
          ]
        },
        {
          "output_type": "execute_result",
          "data": {
            "text/plain": [
              "(Store            0\n",
              " DayOfWeek        0\n",
              " Date             0\n",
              " Sales            0\n",
              " Customers        0\n",
              " Open             0\n",
              " Promo            0\n",
              " StateHoliday     0\n",
              " SchoolHoliday    0\n",
              " dtype: int64,\n",
              " None)"
            ]
          },
          "metadata": {},
          "execution_count": 26
        }
      ]
    },
    {
      "cell_type": "code",
      "source": [
        "# Checking null values for store dataset\n",
        "store_df.info(),  store_df.isnull().sum()"
      ],
      "metadata": {
        "id": "hORewfrnfnzS",
        "colab": {
          "base_uri": "https://localhost:8080/"
        },
        "outputId": "da9f35c4-2fed-4996-b3e8-df59354f0dba"
      },
      "execution_count": 27,
      "outputs": [
        {
          "output_type": "stream",
          "name": "stdout",
          "text": [
            "<class 'pandas.core.frame.DataFrame'>\n",
            "RangeIndex: 1115 entries, 0 to 1114\n",
            "Data columns (total 10 columns):\n",
            " #   Column                     Non-Null Count  Dtype  \n",
            "---  ------                     --------------  -----  \n",
            " 0   Store                      1115 non-null   int64  \n",
            " 1   StoreType                  1115 non-null   object \n",
            " 2   Assortment                 1115 non-null   object \n",
            " 3   CompetitionDistance        1112 non-null   float64\n",
            " 4   CompetitionOpenSinceMonth  761 non-null    float64\n",
            " 5   CompetitionOpenSinceYear   761 non-null    float64\n",
            " 6   Promo2                     1115 non-null   int64  \n",
            " 7   Promo2SinceWeek            571 non-null    float64\n",
            " 8   Promo2SinceYear            571 non-null    float64\n",
            " 9   PromoInterval              571 non-null    object \n",
            "dtypes: float64(5), int64(2), object(3)\n",
            "memory usage: 87.2+ KB\n"
          ]
        },
        {
          "output_type": "execute_result",
          "data": {
            "text/plain": [
              "(None,\n",
              " Store                          0\n",
              " StoreType                      0\n",
              " Assortment                     0\n",
              " CompetitionDistance            3\n",
              " CompetitionOpenSinceMonth    354\n",
              " CompetitionOpenSinceYear     354\n",
              " Promo2                         0\n",
              " Promo2SinceWeek              544\n",
              " Promo2SinceYear              544\n",
              " PromoInterval                544\n",
              " dtype: int64)"
            ]
          },
          "metadata": {},
          "execution_count": 27
        }
      ]
    },
    {
      "cell_type": "code",
      "source": [
        "# filling all null values of store dataset with 0\n",
        "\n",
        "store_df.fillna({\"CompetitionDistance\":0},inplace=True)\n",
        "store_df.fillna({\"CompetitionOpenSinceMonth\":0},inplace=True)\n",
        "store_df.fillna({\"CompetitionOpenSinceYear\":0},inplace=True)\n",
        "store_df.fillna({\"Promo2SinceWeek\":0},inplace=True)\n",
        "store_df.fillna({\"Promo2SinceYear\":0},inplace=True)\n",
        "store_df.fillna({\"PromoInterval\":0},inplace=True)"
      ],
      "metadata": {
        "id": "A8Nz4NRYfnfx"
      },
      "execution_count": 28,
      "outputs": []
    },
    {
      "cell_type": "code",
      "source": [
        "# Removing duplicate value from both dataset if any\n",
        "rossmann_df.duplicated().sum()\n",
        "rossmann_df.drop_duplicates(inplace=True)\n",
        "\n",
        "store_df.duplicated().sum()\n",
        "store_df.drop_duplicates(inplace=True)"
      ],
      "metadata": {
        "id": "n9KNT4LsfnEO"
      },
      "execution_count": 29,
      "outputs": []
    },
    {
      "cell_type": "code",
      "source": [
        "# merging two dataset using inner join\n",
        "final_dataset=pd.merge(rossmann_df,store_df,on = \"Store\" ,how=\"inner\")\n",
        "final_dataset.head()"
      ],
      "metadata": {
        "id": "FkqkkdKJfmjV",
        "colab": {
          "base_uri": "https://localhost:8080/",
          "height": 313
        },
        "outputId": "93789822-9ba3-41a8-e8a1-546c6003fc83"
      },
      "execution_count": 30,
      "outputs": [
        {
          "output_type": "execute_result",
          "data": {
            "text/plain": [
              "   Store  DayOfWeek        Date  Sales  Customers  Open  Promo StateHoliday  \\\n",
              "0      1          5  2015-07-31   5263        555     1      1            0   \n",
              "1      1          4  2015-07-30   5020        546     1      1            0   \n",
              "2      1          3  2015-07-29   4782        523     1      1            0   \n",
              "3      1          2  2015-07-28   5011        560     1      1            0   \n",
              "4      1          1  2015-07-27   6102        612     1      1            0   \n",
              "\n",
              "   SchoolHoliday StoreType Assortment  CompetitionDistance  \\\n",
              "0              1         c          a               1270.0   \n",
              "1              1         c          a               1270.0   \n",
              "2              1         c          a               1270.0   \n",
              "3              1         c          a               1270.0   \n",
              "4              1         c          a               1270.0   \n",
              "\n",
              "   CompetitionOpenSinceMonth  CompetitionOpenSinceYear  Promo2  \\\n",
              "0                        9.0                    2008.0       0   \n",
              "1                        9.0                    2008.0       0   \n",
              "2                        9.0                    2008.0       0   \n",
              "3                        9.0                    2008.0       0   \n",
              "4                        9.0                    2008.0       0   \n",
              "\n",
              "   Promo2SinceWeek  Promo2SinceYear PromoInterval  \n",
              "0              0.0              0.0             0  \n",
              "1              0.0              0.0             0  \n",
              "2              0.0              0.0             0  \n",
              "3              0.0              0.0             0  \n",
              "4              0.0              0.0             0  "
            ],
            "text/html": [
              "\n",
              "  <div id=\"df-14009855-9ee2-4eab-b44f-253122ce0cb8\" class=\"colab-df-container\">\n",
              "    <div>\n",
              "<style scoped>\n",
              "    .dataframe tbody tr th:only-of-type {\n",
              "        vertical-align: middle;\n",
              "    }\n",
              "\n",
              "    .dataframe tbody tr th {\n",
              "        vertical-align: top;\n",
              "    }\n",
              "\n",
              "    .dataframe thead th {\n",
              "        text-align: right;\n",
              "    }\n",
              "</style>\n",
              "<table border=\"1\" class=\"dataframe\">\n",
              "  <thead>\n",
              "    <tr style=\"text-align: right;\">\n",
              "      <th></th>\n",
              "      <th>Store</th>\n",
              "      <th>DayOfWeek</th>\n",
              "      <th>Date</th>\n",
              "      <th>Sales</th>\n",
              "      <th>Customers</th>\n",
              "      <th>Open</th>\n",
              "      <th>Promo</th>\n",
              "      <th>StateHoliday</th>\n",
              "      <th>SchoolHoliday</th>\n",
              "      <th>StoreType</th>\n",
              "      <th>Assortment</th>\n",
              "      <th>CompetitionDistance</th>\n",
              "      <th>CompetitionOpenSinceMonth</th>\n",
              "      <th>CompetitionOpenSinceYear</th>\n",
              "      <th>Promo2</th>\n",
              "      <th>Promo2SinceWeek</th>\n",
              "      <th>Promo2SinceYear</th>\n",
              "      <th>PromoInterval</th>\n",
              "    </tr>\n",
              "  </thead>\n",
              "  <tbody>\n",
              "    <tr>\n",
              "      <th>0</th>\n",
              "      <td>1</td>\n",
              "      <td>5</td>\n",
              "      <td>2015-07-31</td>\n",
              "      <td>5263</td>\n",
              "      <td>555</td>\n",
              "      <td>1</td>\n",
              "      <td>1</td>\n",
              "      <td>0</td>\n",
              "      <td>1</td>\n",
              "      <td>c</td>\n",
              "      <td>a</td>\n",
              "      <td>1270.0</td>\n",
              "      <td>9.0</td>\n",
              "      <td>2008.0</td>\n",
              "      <td>0</td>\n",
              "      <td>0.0</td>\n",
              "      <td>0.0</td>\n",
              "      <td>0</td>\n",
              "    </tr>\n",
              "    <tr>\n",
              "      <th>1</th>\n",
              "      <td>1</td>\n",
              "      <td>4</td>\n",
              "      <td>2015-07-30</td>\n",
              "      <td>5020</td>\n",
              "      <td>546</td>\n",
              "      <td>1</td>\n",
              "      <td>1</td>\n",
              "      <td>0</td>\n",
              "      <td>1</td>\n",
              "      <td>c</td>\n",
              "      <td>a</td>\n",
              "      <td>1270.0</td>\n",
              "      <td>9.0</td>\n",
              "      <td>2008.0</td>\n",
              "      <td>0</td>\n",
              "      <td>0.0</td>\n",
              "      <td>0.0</td>\n",
              "      <td>0</td>\n",
              "    </tr>\n",
              "    <tr>\n",
              "      <th>2</th>\n",
              "      <td>1</td>\n",
              "      <td>3</td>\n",
              "      <td>2015-07-29</td>\n",
              "      <td>4782</td>\n",
              "      <td>523</td>\n",
              "      <td>1</td>\n",
              "      <td>1</td>\n",
              "      <td>0</td>\n",
              "      <td>1</td>\n",
              "      <td>c</td>\n",
              "      <td>a</td>\n",
              "      <td>1270.0</td>\n",
              "      <td>9.0</td>\n",
              "      <td>2008.0</td>\n",
              "      <td>0</td>\n",
              "      <td>0.0</td>\n",
              "      <td>0.0</td>\n",
              "      <td>0</td>\n",
              "    </tr>\n",
              "    <tr>\n",
              "      <th>3</th>\n",
              "      <td>1</td>\n",
              "      <td>2</td>\n",
              "      <td>2015-07-28</td>\n",
              "      <td>5011</td>\n",
              "      <td>560</td>\n",
              "      <td>1</td>\n",
              "      <td>1</td>\n",
              "      <td>0</td>\n",
              "      <td>1</td>\n",
              "      <td>c</td>\n",
              "      <td>a</td>\n",
              "      <td>1270.0</td>\n",
              "      <td>9.0</td>\n",
              "      <td>2008.0</td>\n",
              "      <td>0</td>\n",
              "      <td>0.0</td>\n",
              "      <td>0.0</td>\n",
              "      <td>0</td>\n",
              "    </tr>\n",
              "    <tr>\n",
              "      <th>4</th>\n",
              "      <td>1</td>\n",
              "      <td>1</td>\n",
              "      <td>2015-07-27</td>\n",
              "      <td>6102</td>\n",
              "      <td>612</td>\n",
              "      <td>1</td>\n",
              "      <td>1</td>\n",
              "      <td>0</td>\n",
              "      <td>1</td>\n",
              "      <td>c</td>\n",
              "      <td>a</td>\n",
              "      <td>1270.0</td>\n",
              "      <td>9.0</td>\n",
              "      <td>2008.0</td>\n",
              "      <td>0</td>\n",
              "      <td>0.0</td>\n",
              "      <td>0.0</td>\n",
              "      <td>0</td>\n",
              "    </tr>\n",
              "  </tbody>\n",
              "</table>\n",
              "</div>\n",
              "    <div class=\"colab-df-buttons\">\n",
              "\n",
              "  <div class=\"colab-df-container\">\n",
              "    <button class=\"colab-df-convert\" onclick=\"convertToInteractive('df-14009855-9ee2-4eab-b44f-253122ce0cb8')\"\n",
              "            title=\"Convert this dataframe to an interactive table.\"\n",
              "            style=\"display:none;\">\n",
              "\n",
              "  <svg xmlns=\"http://www.w3.org/2000/svg\" height=\"24px\" viewBox=\"0 -960 960 960\">\n",
              "    <path d=\"M120-120v-720h720v720H120Zm60-500h600v-160H180v160Zm220 220h160v-160H400v160Zm0 220h160v-160H400v160ZM180-400h160v-160H180v160Zm440 0h160v-160H620v160ZM180-180h160v-160H180v160Zm440 0h160v-160H620v160Z\"/>\n",
              "  </svg>\n",
              "    </button>\n",
              "\n",
              "  <style>\n",
              "    .colab-df-container {\n",
              "      display:flex;\n",
              "      gap: 12px;\n",
              "    }\n",
              "\n",
              "    .colab-df-convert {\n",
              "      background-color: #E8F0FE;\n",
              "      border: none;\n",
              "      border-radius: 50%;\n",
              "      cursor: pointer;\n",
              "      display: none;\n",
              "      fill: #1967D2;\n",
              "      height: 32px;\n",
              "      padding: 0 0 0 0;\n",
              "      width: 32px;\n",
              "    }\n",
              "\n",
              "    .colab-df-convert:hover {\n",
              "      background-color: #E2EBFA;\n",
              "      box-shadow: 0px 1px 2px rgba(60, 64, 67, 0.3), 0px 1px 3px 1px rgba(60, 64, 67, 0.15);\n",
              "      fill: #174EA6;\n",
              "    }\n",
              "\n",
              "    .colab-df-buttons div {\n",
              "      margin-bottom: 4px;\n",
              "    }\n",
              "\n",
              "    [theme=dark] .colab-df-convert {\n",
              "      background-color: #3B4455;\n",
              "      fill: #D2E3FC;\n",
              "    }\n",
              "\n",
              "    [theme=dark] .colab-df-convert:hover {\n",
              "      background-color: #434B5C;\n",
              "      box-shadow: 0px 1px 3px 1px rgba(0, 0, 0, 0.15);\n",
              "      filter: drop-shadow(0px 1px 2px rgba(0, 0, 0, 0.3));\n",
              "      fill: #FFFFFF;\n",
              "    }\n",
              "  </style>\n",
              "\n",
              "    <script>\n",
              "      const buttonEl =\n",
              "        document.querySelector('#df-14009855-9ee2-4eab-b44f-253122ce0cb8 button.colab-df-convert');\n",
              "      buttonEl.style.display =\n",
              "        google.colab.kernel.accessAllowed ? 'block' : 'none';\n",
              "\n",
              "      async function convertToInteractive(key) {\n",
              "        const element = document.querySelector('#df-14009855-9ee2-4eab-b44f-253122ce0cb8');\n",
              "        const dataTable =\n",
              "          await google.colab.kernel.invokeFunction('convertToInteractive',\n",
              "                                                    [key], {});\n",
              "        if (!dataTable) return;\n",
              "\n",
              "        const docLinkHtml = 'Like what you see? Visit the ' +\n",
              "          '<a target=\"_blank\" href=https://colab.research.google.com/notebooks/data_table.ipynb>data table notebook</a>'\n",
              "          + ' to learn more about interactive tables.';\n",
              "        element.innerHTML = '';\n",
              "        dataTable['output_type'] = 'display_data';\n",
              "        await google.colab.output.renderOutput(dataTable, element);\n",
              "        const docLink = document.createElement('div');\n",
              "        docLink.innerHTML = docLinkHtml;\n",
              "        element.appendChild(docLink);\n",
              "      }\n",
              "    </script>\n",
              "  </div>\n",
              "\n",
              "\n",
              "<div id=\"df-8835adc6-dc44-43d0-8ce6-480f2696a489\">\n",
              "  <button class=\"colab-df-quickchart\" onclick=\"quickchart('df-8835adc6-dc44-43d0-8ce6-480f2696a489')\"\n",
              "            title=\"Suggest charts.\"\n",
              "            style=\"display:none;\">\n",
              "\n",
              "<svg xmlns=\"http://www.w3.org/2000/svg\" height=\"24px\"viewBox=\"0 0 24 24\"\n",
              "     width=\"24px\">\n",
              "    <g>\n",
              "        <path d=\"M19 3H5c-1.1 0-2 .9-2 2v14c0 1.1.9 2 2 2h14c1.1 0 2-.9 2-2V5c0-1.1-.9-2-2-2zM9 17H7v-7h2v7zm4 0h-2V7h2v10zm4 0h-2v-4h2v4z\"/>\n",
              "    </g>\n",
              "</svg>\n",
              "  </button>\n",
              "\n",
              "<style>\n",
              "  .colab-df-quickchart {\n",
              "      --bg-color: #E8F0FE;\n",
              "      --fill-color: #1967D2;\n",
              "      --hover-bg-color: #E2EBFA;\n",
              "      --hover-fill-color: #174EA6;\n",
              "      --disabled-fill-color: #AAA;\n",
              "      --disabled-bg-color: #DDD;\n",
              "  }\n",
              "\n",
              "  [theme=dark] .colab-df-quickchart {\n",
              "      --bg-color: #3B4455;\n",
              "      --fill-color: #D2E3FC;\n",
              "      --hover-bg-color: #434B5C;\n",
              "      --hover-fill-color: #FFFFFF;\n",
              "      --disabled-bg-color: #3B4455;\n",
              "      --disabled-fill-color: #666;\n",
              "  }\n",
              "\n",
              "  .colab-df-quickchart {\n",
              "    background-color: var(--bg-color);\n",
              "    border: none;\n",
              "    border-radius: 50%;\n",
              "    cursor: pointer;\n",
              "    display: none;\n",
              "    fill: var(--fill-color);\n",
              "    height: 32px;\n",
              "    padding: 0;\n",
              "    width: 32px;\n",
              "  }\n",
              "\n",
              "  .colab-df-quickchart:hover {\n",
              "    background-color: var(--hover-bg-color);\n",
              "    box-shadow: 0 1px 2px rgba(60, 64, 67, 0.3), 0 1px 3px 1px rgba(60, 64, 67, 0.15);\n",
              "    fill: var(--button-hover-fill-color);\n",
              "  }\n",
              "\n",
              "  .colab-df-quickchart-complete:disabled,\n",
              "  .colab-df-quickchart-complete:disabled:hover {\n",
              "    background-color: var(--disabled-bg-color);\n",
              "    fill: var(--disabled-fill-color);\n",
              "    box-shadow: none;\n",
              "  }\n",
              "\n",
              "  .colab-df-spinner {\n",
              "    border: 2px solid var(--fill-color);\n",
              "    border-color: transparent;\n",
              "    border-bottom-color: var(--fill-color);\n",
              "    animation:\n",
              "      spin 1s steps(1) infinite;\n",
              "  }\n",
              "\n",
              "  @keyframes spin {\n",
              "    0% {\n",
              "      border-color: transparent;\n",
              "      border-bottom-color: var(--fill-color);\n",
              "      border-left-color: var(--fill-color);\n",
              "    }\n",
              "    20% {\n",
              "      border-color: transparent;\n",
              "      border-left-color: var(--fill-color);\n",
              "      border-top-color: var(--fill-color);\n",
              "    }\n",
              "    30% {\n",
              "      border-color: transparent;\n",
              "      border-left-color: var(--fill-color);\n",
              "      border-top-color: var(--fill-color);\n",
              "      border-right-color: var(--fill-color);\n",
              "    }\n",
              "    40% {\n",
              "      border-color: transparent;\n",
              "      border-right-color: var(--fill-color);\n",
              "      border-top-color: var(--fill-color);\n",
              "    }\n",
              "    60% {\n",
              "      border-color: transparent;\n",
              "      border-right-color: var(--fill-color);\n",
              "    }\n",
              "    80% {\n",
              "      border-color: transparent;\n",
              "      border-right-color: var(--fill-color);\n",
              "      border-bottom-color: var(--fill-color);\n",
              "    }\n",
              "    90% {\n",
              "      border-color: transparent;\n",
              "      border-bottom-color: var(--fill-color);\n",
              "    }\n",
              "  }\n",
              "</style>\n",
              "\n",
              "  <script>\n",
              "    async function quickchart(key) {\n",
              "      const quickchartButtonEl =\n",
              "        document.querySelector('#' + key + ' button');\n",
              "      quickchartButtonEl.disabled = true;  // To prevent multiple clicks.\n",
              "      quickchartButtonEl.classList.add('colab-df-spinner');\n",
              "      try {\n",
              "        const charts = await google.colab.kernel.invokeFunction(\n",
              "            'suggestCharts', [key], {});\n",
              "      } catch (error) {\n",
              "        console.error('Error during call to suggestCharts:', error);\n",
              "      }\n",
              "      quickchartButtonEl.classList.remove('colab-df-spinner');\n",
              "      quickchartButtonEl.classList.add('colab-df-quickchart-complete');\n",
              "    }\n",
              "    (() => {\n",
              "      let quickchartButtonEl =\n",
              "        document.querySelector('#df-8835adc6-dc44-43d0-8ce6-480f2696a489 button');\n",
              "      quickchartButtonEl.style.display =\n",
              "        google.colab.kernel.accessAllowed ? 'block' : 'none';\n",
              "    })();\n",
              "  </script>\n",
              "</div>\n",
              "    </div>\n",
              "  </div>\n"
            ]
          },
          "metadata": {},
          "execution_count": 30
        }
      ]
    },
    {
      "cell_type": "code",
      "source": [
        "# changing dtype into required format from final the datasets\n",
        "final_dataset[\"Date\"]= pd.to_datetime(final_dataset[\"Date\"],format=\"%Y/%m/%d\")\n",
        "final_dataset[\"CompetitionDistance\"]= final_dataset[\"CompetitionDistance\"].astype(int)\n",
        "final_dataset[\"CompetitionOpenSinceMonth\"]= final_dataset[\"CompetitionOpenSinceMonth\"].astype(int)\n",
        "final_dataset[\"CompetitionOpenSinceYear\"]= final_dataset[\"CompetitionOpenSinceYear\"].astype(int)\n",
        "final_dataset[\"Promo2SinceWeek\"]= final_dataset[\"Promo2SinceWeek\"].astype(int)\n",
        "final_dataset[\"Promo2SinceYear\"]= final_dataset[\"Promo2SinceYear\"].astype(int)"
      ],
      "metadata": {
        "id": "nOE5nlnz2AJn"
      },
      "execution_count": 31,
      "outputs": []
    },
    {
      "cell_type": "code",
      "source": [
        "final_dataset.info(),final_dataset.shape"
      ],
      "metadata": {
        "id": "w7WU9_sVt-_o",
        "colab": {
          "base_uri": "https://localhost:8080/"
        },
        "outputId": "97ad6bce-235b-4c0e-e87f-e8835571ccfa"
      },
      "execution_count": 32,
      "outputs": [
        {
          "output_type": "stream",
          "name": "stdout",
          "text": [
            "<class 'pandas.core.frame.DataFrame'>\n",
            "Int64Index: 1017209 entries, 0 to 1017208\n",
            "Data columns (total 18 columns):\n",
            " #   Column                     Non-Null Count    Dtype         \n",
            "---  ------                     --------------    -----         \n",
            " 0   Store                      1017209 non-null  int64         \n",
            " 1   DayOfWeek                  1017209 non-null  int64         \n",
            " 2   Date                       1017209 non-null  datetime64[ns]\n",
            " 3   Sales                      1017209 non-null  int64         \n",
            " 4   Customers                  1017209 non-null  int64         \n",
            " 5   Open                       1017209 non-null  int64         \n",
            " 6   Promo                      1017209 non-null  int64         \n",
            " 7   StateHoliday               1017209 non-null  object        \n",
            " 8   SchoolHoliday              1017209 non-null  int64         \n",
            " 9   StoreType                  1017209 non-null  object        \n",
            " 10  Assortment                 1017209 non-null  object        \n",
            " 11  CompetitionDistance        1017209 non-null  int64         \n",
            " 12  CompetitionOpenSinceMonth  1017209 non-null  int64         \n",
            " 13  CompetitionOpenSinceYear   1017209 non-null  int64         \n",
            " 14  Promo2                     1017209 non-null  int64         \n",
            " 15  Promo2SinceWeek            1017209 non-null  int64         \n",
            " 16  Promo2SinceYear            1017209 non-null  int64         \n",
            " 17  PromoInterval              1017209 non-null  object        \n",
            "dtypes: datetime64[ns](1), int64(13), object(4)\n",
            "memory usage: 147.5+ MB\n"
          ]
        },
        {
          "output_type": "execute_result",
          "data": {
            "text/plain": [
              "(None, (1017209, 18))"
            ]
          },
          "metadata": {},
          "execution_count": 32
        }
      ]
    },
    {
      "cell_type": "markdown",
      "source": [
        "### What all manipulations have you done and insights you found?"
      ],
      "metadata": {
        "id": "MSa1f5Uengrz"
      }
    },
    {
      "cell_type": "markdown",
      "source": [
        "We Checked the null values in both rossmann_df dataset but there is no null values and store_df dataset has some  columns have null values.So we replaced all null values with 0 and after replacing the null values we merged the two datset and also changed the data type of some columns to as per date time and int, for our better understanding . When we are going to check different featues relation between them and visualize them with some charts it will give us a meaningfull and a clear outlook of it."
      ],
      "metadata": {
        "id": "LbyXE7I1olp8"
      }
    },
    {
      "cell_type": "markdown",
      "source": [
        "## ***4. Data Vizualization, Storytelling & Experimenting with charts : Understand the relationships between variables***"
      ],
      "metadata": {
        "id": "GF8Ens_Soomf"
      }
    },
    {
      "cell_type": "markdown",
      "source": [
        "## Chart - 1: Sales vs Frequency"
      ],
      "metadata": {
        "id": "KSlN3yHqYklG"
      }
    },
    {
      "cell_type": "code",
      "source": [
        "# Chart - 2 visualization code\n",
        "plt.figure(figsize=(20,10))\n",
        "\n",
        "\n",
        "plt.subplot(2,2,1)\n",
        "plt.xlabel(\"Sales\")\n",
        "plt.ylabel(\"Frequency\")\n",
        "sns.kdeplot(final_dataset[\"Sales\"], color=\"Blue\",shade=True)\n",
        "plt.title('Density distribution of Sales',size = 15)"
      ],
      "metadata": {
        "id": "R4YgtaqtYklH",
        "colab": {
          "base_uri": "https://localhost:8080/",
          "height": 471
        },
        "outputId": "5ad673cc-2a32-464d-9862-87efcbb41c99"
      },
      "execution_count": 33,
      "outputs": [
        {
          "output_type": "execute_result",
          "data": {
            "text/plain": [
              "Text(0.5, 1.0, 'Density distribution of Sales')"
            ]
          },
          "metadata": {},
          "execution_count": 33
        },
        {
          "output_type": "display_data",
          "data": {
            "text/plain": [
              "<Figure size 2000x1000 with 1 Axes>"
            ],
            "image/png": "[encoded data removed]"
          },
          "metadata": {}
        }
      ]
    },
    {
      "cell_type": "markdown",
      "source": [
        "##### 1. Why did you pick the specific chart?"
      ],
      "metadata": {
        "id": "t6dVpIINYklI"
      }
    },
    {
      "cell_type": "markdown",
      "source": [
        "To Check the frequency of sales happening over this density distribution graph"
      ],
      "metadata": {
        "id": "5aaW0BYyYklI"
      }
    },
    {
      "cell_type": "markdown",
      "source": [
        "##### 2. What is/are the insight(s) found from the chart?"
      ],
      "metadata": {
        "id": "ijmpgYnKYklI"
      }
    },
    {
      "cell_type": "markdown",
      "source": [
        "Here from this graph we found average stores are rightly skewed ."
      ],
      "metadata": {
        "id": "PSx9atu2YklI"
      }
    },
    {
      "cell_type": "markdown",
      "source": [
        "##### 3. Will the gained insights help creating a positive business impact?\n",
        "Are there any insights that lead to negative growth? Justify with specific reason."
      ],
      "metadata": {
        "id": "-JiQyfWJYklI"
      }
    },
    {
      "cell_type": "markdown",
      "source": [
        "We saw from this density distribution graph we found that many stores are located in perfectly and also the sales are average, yes to sustain be competitive."
      ],
      "metadata": {
        "id": "BcBbebzrYklV"
      }
    },
    {
      "cell_type": "markdown",
      "source": [
        "##  Chart - 2: Customers vs Frequency"
      ],
      "metadata": {
        "id": "EM7whBJCYoAo"
      }
    },
    {
      "cell_type": "code",
      "source": [
        "# Chart - 3 visualization code\n",
        "plt.figure(figsize=(20,10))\n",
        "plt.subplot(2,2,3)\n",
        "plt.xlabel(\"Customers\")\n",
        "plt.ylabel(\"Frequency\")\n",
        "sns.kdeplot(final_dataset[\"Customers\"], color=\"green\", shade = True)\n",
        "plt.title('Density distribution of Customers',size = 25)"
      ],
      "metadata": {
        "id": "t6GMdE67YoAp",
        "colab": {
          "base_uri": "https://localhost:8080/",
          "height": 482
        },
        "outputId": "f8000d8c-943a-4d68-c468-3e4f72e4986b"
      },
      "execution_count": 34,
      "outputs": [
        {
          "output_type": "execute_result",
          "data": {
            "text/plain": [
              "Text(0.5, 1.0, 'Density distribution of Customers')"
            ]
          },
          "metadata": {},
          "execution_count": 34
        },
        {
          "output_type": "display_data",
          "data": {
            "text/plain": [
              "<Figure size 2000x1000 with 1 Axes>"
            ],
            "image/png": "[encoded data removed]"
          },
          "metadata": {}
        }
      ]
    },
    {
      "cell_type": "markdown",
      "source": [
        "##### 1. Why did you pick the specific chart?"
      ],
      "metadata": {
        "id": "fge-S5ZAYoAp"
      }
    },
    {
      "cell_type": "markdown",
      "source": [
        "From this density distribution graph based on customer we found how customers are visting to the store."
      ],
      "metadata": {
        "id": "5dBItgRVYoAp"
      }
    },
    {
      "cell_type": "markdown",
      "source": [
        "##### 2. What is/are the insight(s) found from the chart?"
      ],
      "metadata": {
        "id": "85gYPyotYoAp"
      }
    },
    {
      "cell_type": "markdown",
      "source": [
        "From this customer distribution graph we understand average customers are visting to store is 1000."
      ],
      "metadata": {
        "id": "4jstXR6OYoAp"
      }
    },
    {
      "cell_type": "markdown",
      "source": [
        "##### 3. Will the gained insights help creating a positive business impact?\n",
        "Are there any insights that lead to negative growth? Justify with specific reason."
      ],
      "metadata": {
        "id": "RoGjAbkUYoAp"
      }
    },
    {
      "cell_type": "markdown",
      "source": [
        "We saw from this frequency distribution graph on customer we found that there is postive response from customer as the data showinng average customers are 1000. so we understand to be more profit we have to take some hard decision to improve our customer."
      ],
      "metadata": {
        "id": "zfJ8IqMcYoAp"
      }
    },
    {
      "cell_type": "markdown",
      "source": [
        "## Chart - 3: DayOfWeek vs Sales\n"
      ],
      "metadata": {
        "id": "4Of9eVA-YrdM"
      }
    },
    {
      "cell_type": "code",
      "source": [
        "# Chart - 4 visualization code\n",
        "plt.figure(figsize=(16,8))\n",
        "sns.barplot(x=\"DayOfWeek\" ,y = \"Sales\" , data=final_dataset, aspect=2,size=6)"
      ],
      "metadata": {
        "id": "irlUoxc8YrdO",
        "colab": {
          "base_uri": "https://localhost:8080/",
          "height": 1000
        },
        "outputId": "99506a1c-1fe6-43a4-d0a8-b50263d93168"
      },
      "execution_count": 38,
      "outputs": [
        {
          "output_type": "error",
          "ename": "AttributeError",
          "evalue": "ignored",
          "traceback": [
            "\u001b[0;31m---------------------------------------------------------------------------\u001b[0m",
            "\u001b[0;31mAttributeError\u001b[0m                            Traceback (most recent call last)",
            "\u001b[0;32m<ipython-input-38-a2da510ff615>\u001b[0m in \u001b[0;36m<cell line: 3>\u001b[0;34m()\u001b[0m\n\u001b[1;32m      1\u001b[0m \u001b[0;31m# Chart - 4 visualization code\u001b[0m\u001b[0;34m\u001b[0m\u001b[0;34m\u001b[0m\u001b[0m\n\u001b[1;32m      2\u001b[0m \u001b[0mplt\u001b[0m\u001b[0;34m.\u001b[0m\u001b[0mfigure\u001b[0m\u001b[0;34m(\u001b[0m\u001b[0mfigsize\u001b[0m\u001b[0;34m=\u001b[0m\u001b[0;34m(\u001b[0m\u001b[0;36m16\u001b[0m\u001b[0;34m,\u001b[0m\u001b[0;36m8\u001b[0m\u001b[0;34m)\u001b[0m\u001b[0;34m)\u001b[0m\u001b[0;34m\u001b[0m\u001b[0;34m\u001b[0m\u001b[0m\n\u001b[0;32m----> 3\u001b[0;31m \u001b[0msns\u001b[0m\u001b[0;34m.\u001b[0m\u001b[0mbarplot\u001b[0m\u001b[0;34m(\u001b[0m\u001b[0mx\u001b[0m\u001b[0;34m=\u001b[0m\u001b[0;34m\"DayOfWeek\"\u001b[0m \u001b[0;34m,\u001b[0m\u001b[0my\u001b[0m \u001b[0;34m=\u001b[0m \u001b[0;34m\"Sales\"\u001b[0m \u001b[0;34m,\u001b[0m \u001b[0mdata\u001b[0m\u001b[0;34m=\u001b[0m\u001b[0mfinal_dataset\u001b[0m\u001b[0;34m,\u001b[0m \u001b[0maspect\u001b[0m\u001b[0;34m=\u001b[0m\u001b[0;36m2\u001b[0m\u001b[0;34m,\u001b[0m\u001b[0msize\u001b[0m\u001b[0;34m=\u001b[0m\u001b[0;36m6\u001b[0m\u001b[0;34m)\u001b[0m\u001b[0;34m\u001b[0m\u001b[0;34m\u001b[0m\u001b[0m\n\u001b[0m",
            "\u001b[0;32m/usr/local/lib/python3.10/dist-packages/seaborn/categorical.py\u001b[0m in \u001b[0;36mbarplot\u001b[0;34m(data, x, y, hue, order, hue_order, estimator, errorbar, n_boot, units, seed, orient, color, palette, saturation, width, errcolor, errwidth, capsize, dodge, ci, ax, **kwargs)\u001b[0m\n\u001b[1;32m   2761\u001b[0m         \u001b[0max\u001b[0m \u001b[0;34m=\u001b[0m \u001b[0mplt\u001b[0m\u001b[0;34m.\u001b[0m\u001b[0mgca\u001b[0m\u001b[0;34m(\u001b[0m\u001b[0;34m)\u001b[0m\u001b[0;34m\u001b[0m\u001b[0;34m\u001b[0m\u001b[0m\n\u001b[1;32m   2762\u001b[0m \u001b[0;34m\u001b[0m\u001b[0m\n\u001b[0;32m-> 2763\u001b[0;31m     \u001b[0mplotter\u001b[0m\u001b[0;34m.\u001b[0m\u001b[0mplot\u001b[0m\u001b[0;34m(\u001b[0m\u001b[0max\u001b[0m\u001b[0;34m,\u001b[0m \u001b[0mkwargs\u001b[0m\u001b[0;34m)\u001b[0m\u001b[0;34m\u001b[0m\u001b[0;34m\u001b[0m\u001b[0m\n\u001b[0m\u001b[1;32m   2764\u001b[0m     \u001b[0;32mreturn\u001b[0m \u001b[0max\u001b[0m\u001b[0;34m\u001b[0m\u001b[0;34m\u001b[0m\u001b[0m\n\u001b[1;32m   2765\u001b[0m \u001b[0;34m\u001b[0m\u001b[0m\n",
            "\u001b[0;32m/usr/local/lib/python3.10/dist-packages/seaborn/categorical.py\u001b[0m in \u001b[0;36mplot\u001b[0;34m(self, ax, bar_kws)\u001b[0m\n\u001b[1;32m   1584\u001b[0m     \u001b[0;32mdef\u001b[0m \u001b[0mplot\u001b[0m\u001b[0;34m(\u001b[0m\u001b[0mself\u001b[0m\u001b[0;34m,\u001b[0m \u001b[0max\u001b[0m\u001b[0;34m,\u001b[0m \u001b[0mbar_kws\u001b[0m\u001b[0;34m)\u001b[0m\u001b[0;34m:\u001b[0m\u001b[0;34m\u001b[0m\u001b[0;34m\u001b[0m\u001b[0m\n\u001b[1;32m   1585\u001b[0m         \u001b[0;34m\"\"\"Make the plot.\"\"\"\u001b[0m\u001b[0;34m\u001b[0m\u001b[0;34m\u001b[0m\u001b[0m\n\u001b[0;32m-> 1586\u001b[0;31m         \u001b[0mself\u001b[0m\u001b[0;34m.\u001b[0m\u001b[0mdraw_bars\u001b[0m\u001b[0;34m(\u001b[0m\u001b[0max\u001b[0m\u001b[0;34m,\u001b[0m \u001b[0mbar_kws\u001b[0m\u001b[0;34m)\u001b[0m\u001b[0;34m\u001b[0m\u001b[0;34m\u001b[0m\u001b[0m\n\u001b[0m\u001b[1;32m   1587\u001b[0m         \u001b[0mself\u001b[0m\u001b[0;34m.\u001b[0m\u001b[0mannotate_axes\u001b[0m\u001b[0;34m(\u001b[0m\u001b[0max\u001b[0m\u001b[0;34m)\u001b[0m\u001b[0;34m\u001b[0m\u001b[0;34m\u001b[0m\u001b[0m\n\u001b[1;32m   1588\u001b[0m         \u001b[0;32mif\u001b[0m \u001b[0mself\u001b[0m\u001b[0;34m.\u001b[0m\u001b[0morient\u001b[0m \u001b[0;34m==\u001b[0m \u001b[0;34m\"h\"\u001b[0m\u001b[0;34m:\u001b[0m\u001b[0;34m\u001b[0m\u001b[0;34m\u001b[0m\u001b[0m\n",
            "\u001b[0;32m/usr/local/lib/python3.10/dist-packages/seaborn/categorical.py\u001b[0m in \u001b[0;36mdraw_bars\u001b[0;34m(self, ax, kws)\u001b[0m\n\u001b[1;32m   1549\u001b[0m \u001b[0;34m\u001b[0m\u001b[0m\n\u001b[1;32m   1550\u001b[0m             \u001b[0;31m# Draw the bars\u001b[0m\u001b[0;34m\u001b[0m\u001b[0;34m\u001b[0m\u001b[0m\n\u001b[0;32m-> 1551\u001b[0;31m             barfunc(barpos, self.statistic, self.width,\n\u001b[0m\u001b[1;32m   1552\u001b[0m                     color=self.colors, align=\"center\", **kws)\n\u001b[1;32m   1553\u001b[0m \u001b[0;34m\u001b[0m\u001b[0m\n",
            "\u001b[0;32m/usr/local/lib/python3.10/dist-packages/matplotlib/__init__.py\u001b[0m in \u001b[0;36minner\u001b[0;34m(ax, data, *args, **kwargs)\u001b[0m\n\u001b[1;32m   1440\u001b[0m     \u001b[0;32mdef\u001b[0m \u001b[0minner\u001b[0m\u001b[0;34m(\u001b[0m\u001b[0max\u001b[0m\u001b[0;34m,\u001b[0m \u001b[0;34m*\u001b[0m\u001b[0margs\u001b[0m\u001b[0;34m,\u001b[0m \u001b[0mdata\u001b[0m\u001b[0;34m=\u001b[0m\u001b[0;32mNone\u001b[0m\u001b[0;34m,\u001b[0m \u001b[0;34m**\u001b[0m\u001b[0mkwargs\u001b[0m\u001b[0;34m)\u001b[0m\u001b[0;34m:\u001b[0m\u001b[0;34m\u001b[0m\u001b[0;34m\u001b[0m\u001b[0m\n\u001b[1;32m   1441\u001b[0m         \u001b[0;32mif\u001b[0m \u001b[0mdata\u001b[0m \u001b[0;32mis\u001b[0m \u001b[0;32mNone\u001b[0m\u001b[0;34m:\u001b[0m\u001b[0;34m\u001b[0m\u001b[0;34m\u001b[0m\u001b[0m\n\u001b[0;32m-> 1442\u001b[0;31m             \u001b[0;32mreturn\u001b[0m \u001b[0mfunc\u001b[0m\u001b[0;34m(\u001b[0m\u001b[0max\u001b[0m\u001b[0;34m,\u001b[0m \u001b[0;34m*\u001b[0m\u001b[0mmap\u001b[0m\u001b[0;34m(\u001b[0m\u001b[0msanitize_sequence\u001b[0m\u001b[0;34m,\u001b[0m \u001b[0margs\u001b[0m\u001b[0;34m)\u001b[0m\u001b[0;34m,\u001b[0m \u001b[0;34m**\u001b[0m\u001b[0mkwargs\u001b[0m\u001b[0;34m)\u001b[0m\u001b[0;34m\u001b[0m\u001b[0;34m\u001b[0m\u001b[0m\n\u001b[0m\u001b[1;32m   1443\u001b[0m \u001b[0;34m\u001b[0m\u001b[0m\n\u001b[1;32m   1444\u001b[0m         \u001b[0mbound\u001b[0m \u001b[0;34m=\u001b[0m \u001b[0mnew_sig\u001b[0m\u001b[0;34m.\u001b[0m\u001b[0mbind\u001b[0m\u001b[0;34m(\u001b[0m\u001b[0max\u001b[0m\u001b[0;34m,\u001b[0m \u001b[0;34m*\u001b[0m\u001b[0margs\u001b[0m\u001b[0;34m,\u001b[0m \u001b[0;34m**\u001b[0m\u001b[0mkwargs\u001b[0m\u001b[0;34m)\u001b[0m\u001b[0;34m\u001b[0m\u001b[0;34m\u001b[0m\u001b[0m\n",
            "\u001b[0;32m/usr/local/lib/python3.10/dist-packages/matplotlib/axes/_axes.py\u001b[0m in \u001b[0;36mbar\u001b[0;34m(self, x, height, width, bottom, align, **kwargs)\u001b[0m\n\u001b[1;32m   2486\u001b[0m                 \u001b[0mhatch\u001b[0m\u001b[0;34m=\u001b[0m\u001b[0mhtch\u001b[0m\u001b[0;34m,\u001b[0m\u001b[0;34m\u001b[0m\u001b[0;34m\u001b[0m\u001b[0m\n\u001b[1;32m   2487\u001b[0m                 )\n\u001b[0;32m-> 2488\u001b[0;31m             \u001b[0mr\u001b[0m\u001b[0;34m.\u001b[0m\u001b[0m_internal_update\u001b[0m\u001b[0;34m(\u001b[0m\u001b[0mkwargs\u001b[0m\u001b[0;34m)\u001b[0m\u001b[0;34m\u001b[0m\u001b[0;34m\u001b[0m\u001b[0m\n\u001b[0m\u001b[1;32m   2489\u001b[0m             \u001b[0mr\u001b[0m\u001b[0;34m.\u001b[0m\u001b[0mget_path\u001b[0m\u001b[0;34m(\u001b[0m\u001b[0;34m)\u001b[0m\u001b[0;34m.\u001b[0m\u001b[0m_interpolation_steps\u001b[0m \u001b[0;34m=\u001b[0m \u001b[0;36m100\u001b[0m\u001b[0;34m\u001b[0m\u001b[0;34m\u001b[0m\u001b[0m\n\u001b[1;32m   2490\u001b[0m             \u001b[0;32mif\u001b[0m \u001b[0morientation\u001b[0m \u001b[0;34m==\u001b[0m \u001b[0;34m'vertical'\u001b[0m\u001b[0;34m:\u001b[0m\u001b[0;34m\u001b[0m\u001b[0;34m\u001b[0m\u001b[0m\n",
            "\u001b[0;32m/usr/local/lib/python3.10/dist-packages/matplotlib/artist.py\u001b[0m in \u001b[0;36m_internal_update\u001b[0;34m(self, kwargs)\u001b[0m\n\u001b[1;32m   1221\u001b[0m         \u001b[0mThe\u001b[0m \u001b[0mlack\u001b[0m \u001b[0mof\u001b[0m \u001b[0mprenormalization\u001b[0m \u001b[0;32mis\u001b[0m \u001b[0mto\u001b[0m \u001b[0mmaintain\u001b[0m \u001b[0mbackcompatibility\u001b[0m\u001b[0;34m.\u001b[0m\u001b[0;34m\u001b[0m\u001b[0;34m\u001b[0m\u001b[0m\n\u001b[1;32m   1222\u001b[0m         \"\"\"\n\u001b[0;32m-> 1223\u001b[0;31m         return self._update_props(\n\u001b[0m\u001b[1;32m   1224\u001b[0m             \u001b[0mkwargs\u001b[0m\u001b[0;34m,\u001b[0m \u001b[0;34m\"{cls.__name__}.set() got an unexpected keyword argument \"\u001b[0m\u001b[0;34m\u001b[0m\u001b[0;34m\u001b[0m\u001b[0m\n\u001b[1;32m   1225\u001b[0m             \"{prop_name!r}\")\n",
            "\u001b[0;32m/usr/local/lib/python3.10/dist-packages/matplotlib/artist.py\u001b[0m in \u001b[0;36m_update_props\u001b[0;34m(self, props, errfmt)\u001b[0m\n\u001b[1;32m   1195\u001b[0m                     \u001b[0mfunc\u001b[0m \u001b[0;34m=\u001b[0m \u001b[0mgetattr\u001b[0m\u001b[0;34m(\u001b[0m\u001b[0mself\u001b[0m\u001b[0;34m,\u001b[0m \u001b[0;34mf\"set_{k}\"\u001b[0m\u001b[0;34m,\u001b[0m \u001b[0;32mNone\u001b[0m\u001b[0;34m)\u001b[0m\u001b[0;34m\u001b[0m\u001b[0;34m\u001b[0m\u001b[0m\n\u001b[1;32m   1196\u001b[0m                     \u001b[0;32mif\u001b[0m \u001b[0;32mnot\u001b[0m \u001b[0mcallable\u001b[0m\u001b[0;34m(\u001b[0m\u001b[0mfunc\u001b[0m\u001b[0;34m)\u001b[0m\u001b[0;34m:\u001b[0m\u001b[0;34m\u001b[0m\u001b[0;34m\u001b[0m\u001b[0m\n\u001b[0;32m-> 1197\u001b[0;31m                         raise AttributeError(\n\u001b[0m\u001b[1;32m   1198\u001b[0m                             errfmt.format(cls=type(self), prop_name=k))\n\u001b[1;32m   1199\u001b[0m                     \u001b[0mret\u001b[0m\u001b[0;34m.\u001b[0m\u001b[0mappend\u001b[0m\u001b[0;34m(\u001b[0m\u001b[0mfunc\u001b[0m\u001b[0;34m(\u001b[0m\u001b[0mv\u001b[0m\u001b[0;34m)\u001b[0m\u001b[0;34m)\u001b[0m\u001b[0;34m\u001b[0m\u001b[0;34m\u001b[0m\u001b[0m\n",
            "\u001b[0;31mAttributeError\u001b[0m: Rectangle.set() got an unexpected keyword argument 'aspect'"
          ]
        },
        {
          "output_type": "display_data",
          "data": {
            "text/plain": [
              "<Figure size 1600x800 with 1 Axes>"
            ],
            "image/png": "[encoded data removed]"
          },
          "metadata": {}
        }
      ]
    },
    {
      "cell_type": "markdown",
      "source": [
        "##### 1. Why did you pick the specific chart?"
      ],
      "metadata": {
        "id": "iky9q4vBYrdO"
      }
    },
    {
      "cell_type": "markdown",
      "source": [
        "From this graph we understand Sales of every day in a week"
      ],
      "metadata": {
        "id": "aJRCwT6DYrdO"
      }
    },
    {
      "cell_type": "markdown",
      "source": [
        "##### 2. What is/are the insight(s) found from the chart?"
      ],
      "metadata": {
        "id": "F6T5p64dYrdO"
      }
    },
    {
      "cell_type": "markdown",
      "source": [
        "From this plot between Sales and dayofweek,we understand that sales are high on opening days but gradually decreasing and shows that maximum sales is on Monday and sales gradually decreasing to 6th day of week i.e. on saturday and  sales on Sunday is almost near to Zero as on sunday maximum stores are closed."
      ],
      "metadata": {
        "id": "Xx8WAJvtYrdO"
      }
    },
    {
      "cell_type": "markdown",
      "source": [
        "##### 3. Will the gained insights help creating a positive business impact?\n",
        "Are there any insights that lead to negative growth? Justify with specific reason."
      ],
      "metadata": {
        "id": "y-Ehk30pYrdP"
      }
    },
    {
      "cell_type": "markdown",
      "source": [
        "Yes from this we can increase our sales on the day where sales are high by taking different competitive methods."
      ],
      "metadata": {
        "id": "jLNxxz7MYrdP"
      }
    },
    {
      "cell_type": "markdown",
      "source": [
        "## Chart - 4: Open vs Sales"
      ],
      "metadata": {
        "id": "bamQiAODYuh1"
      }
    },
    {
      "cell_type": "code",
      "source": [
        "# Chart - 5 visualization code\n",
        "result=final_dataset.groupby(['Open'],as_index=False).agg({'Sales':\"sum\"})\n",
        "print(result)\n",
        "# plot the result\n",
        "sns.barplot(x = 'Open', y = 'Sales',data=result)"
      ],
      "metadata": {
        "id": "TIJwrbroYuh3"
      },
      "execution_count": null,
      "outputs": []
    },
    {
      "cell_type": "markdown",
      "source": [
        "##### 1. Why did you pick the specific chart?"
      ],
      "metadata": {
        "id": "QHF8YVU7Yuh3"
      }
    },
    {
      "cell_type": "markdown",
      "source": [
        "To understand the sales when store's are open and closed."
      ],
      "metadata": {
        "id": "dcxuIMRPYuh3"
      }
    },
    {
      "cell_type": "markdown",
      "source": [
        "##### 2. What is/are the insight(s) found from the chart?"
      ],
      "metadata": {
        "id": "GwzvFGzlYuh3"
      }
    },
    {
      "cell_type": "markdown",
      "source": [
        "yes when stores are closed there is no sales but when store's are open it's high in sales."
      ],
      "metadata": {
        "id": "uyqkiB8YYuh3"
      }
    },
    {
      "cell_type": "markdown",
      "source": [
        "##### 3. Will the gained insights help creating a positive business impact?\n",
        "Are there any insights that lead to negative growth? Justify with specific reason."
      ],
      "metadata": {
        "id": "qYpmQ266Yuh3"
      }
    },
    {
      "cell_type": "markdown",
      "source": [
        "from this count plot we finally understand how exactly sales are, so we can improve according to that."
      ],
      "metadata": {
        "id": "_WtzZ_hCYuh4"
      }
    },
    {
      "cell_type": "markdown",
      "source": [
        "## Chart - 5: Assortment vs Sales"
      ],
      "metadata": {
        "id": "OH-pJp9IphqM"
      }
    },
    {
      "cell_type": "code",
      "source": [
        "\n",
        "Assort_sale=final_dataset.groupby(['StoreType','Assortment'],as_index=False).agg({'Sales':'count'})\n",
        "sns.barplot(x='StoreType',y='Sales',hue='Assortment',data=Assort_sale)"
      ],
      "metadata": {
        "id": "kuRf4wtuphqN"
      },
      "execution_count": null,
      "outputs": []
    },
    {
      "cell_type": "markdown",
      "source": [
        "##### 1. Why did you pick the specific chart?"
      ],
      "metadata": {
        "id": "bbFf2-_FphqN"
      }
    },
    {
      "cell_type": "markdown",
      "source": [
        "To understand what type of assortment is sold in every store."
      ],
      "metadata": {
        "id": "loh7H2nzphqN"
      }
    },
    {
      "cell_type": "markdown",
      "source": [
        "##### 2. What is/are the insight(s) found from the chart?"
      ],
      "metadata": {
        "id": "_ouA3fa0phqN"
      }
    },
    {
      "cell_type": "markdown",
      "source": [
        "\n",
        "from this bar plot we understand:\n",
        "Store type a has a and c type assortment,\n",
        "Store type b has a and b type assortment,\n",
        "Store type c has a and c type assortment,\n",
        "Store type d has a and c type assortment.\n",
        "Assortment type a is sold more which means their demand is high followed by type c,\n",
        "b has the least sales which might mean they are high quality product and also they are available only in store type b."
      ],
      "metadata": {
        "id": "VECbqPI7phqN"
      }
    },
    {
      "cell_type": "markdown",
      "source": [
        "##### 3. Will the gained insights help creating a positive business impact?\n",
        "Are there any insights that lead to negative growth? Justify with specific reason."
      ],
      "metadata": {
        "id": "Seke61FWphqN"
      }
    },
    {
      "cell_type": "markdown",
      "source": [
        "This plot givees us  details about which type of assortment is highly sold in which type of store."
      ],
      "metadata": {
        "id": "DW4_bGpfphqN"
      }
    },
    {
      "cell_type": "markdown",
      "source": [
        "## Chart - 6: Customers vs Sales"
      ],
      "metadata": {
        "id": "PIIx-8_IphqN"
      }
    },
    {
      "cell_type": "code",
      "source": [
        "# Chart - 7 visualization code\n",
        "plt.figure(figsize=(6,7))\n",
        "sns.scatterplot(final_dataset['Customers'],final_dataset['Sales'])"
      ],
      "metadata": {
        "id": "lqAIGUfyphqO"
      },
      "execution_count": null,
      "outputs": []
    },
    {
      "cell_type": "markdown",
      "source": [
        "##### 1. Why did you pick the specific chart?"
      ],
      "metadata": {
        "id": "t27r6nlMphqO"
      }
    },
    {
      "cell_type": "markdown",
      "source": [
        "We chose scatter plot because we wanted to plot the relationship between the number of customers visiting the store and the total sales.They are useful for identifying outliers in the data as well."
      ],
      "metadata": {
        "id": "iv6ro40sphqO"
      }
    },
    {
      "cell_type": "markdown",
      "source": [
        "##### 2. What is/are the insight(s) found from the chart?"
      ],
      "metadata": {
        "id": "r2jJGEOYphqO"
      }
    },
    {
      "cell_type": "markdown",
      "source": [
        "This scatter plot shows a positive correlation between 'Sales' and 'Customers'. As the number of customers increases, the sales also tend to increase. We understood from the above trend that our data shows in a linearly trend between customers and sales."
      ],
      "metadata": {
        "id": "Po6ZPi4hphqO"
      }
    },
    {
      "cell_type": "markdown",
      "source": [
        "##### 3. Will the gained insights help creating a positive business impact?\n",
        "Are there any insights that lead to negative growth? Justify with specific reason."
      ],
      "metadata": {
        "id": "b0JNsNcRphqO"
      }
    },
    {
      "cell_type": "markdown",
      "source": [
        "Customers and sales are directly proportional to each other and are highly correlated. It can help businesses to promote their strategies using marketing campaigns, advertisements to attract more customers ultimately increasing up the sales."
      ],
      "metadata": {
        "id": "xvSq8iUTphqO"
      }
    },
    {
      "cell_type": "markdown",
      "source": [
        "## Chart -7: Promo Vs Sales"
      ],
      "metadata": {
        "id": "BZR9WyysphqO"
      }
    },
    {
      "cell_type": "code",
      "source": [],
      "metadata": {
        "id": "ikbPH2cZ3DpT"
      },
      "execution_count": null,
      "outputs": []
    },
    {
      "cell_type": "code",
      "source": [
        "final_dataset.Promo.value_counts().plot.bar()"
      ],
      "metadata": {
        "id": "TdPTWpAVphqO"
      },
      "execution_count": null,
      "outputs": []
    },
    {
      "cell_type": "code",
      "source": [
        "promo=final_dataset.groupby(['Promo'],as_index=False).agg({'Sales':'mean'})\n",
        "sns.barplot(x=promo.index, y = promo['Sales'])\n",
        "plt.xlabel('Promo')\n"
      ],
      "metadata": {
        "id": "Xt6vOL7DjQrq"
      },
      "execution_count": null,
      "outputs": []
    },
    {
      "cell_type": "code",
      "source": [
        "promo2=final_dataset.groupby(['Promo2'],as_index=False).agg({'Sales':'mean'})\n",
        "sns.barplot(x=promo2.index, y = promo2['Sales'])\n",
        "plt.xlabel('Promo2')"
      ],
      "metadata": {
        "id": "YOrahikyjQWj"
      },
      "execution_count": null,
      "outputs": []
    },
    {
      "cell_type": "markdown",
      "source": [
        "##### 1. Why did you pick the specific chart?"
      ],
      "metadata": {
        "id": "jj7wYXLtphqO"
      }
    },
    {
      "cell_type": "markdown",
      "source": [
        "To Understand the promotion of sales"
      ],
      "metadata": {
        "id": "Ob8u6rCTphqO"
      }
    },
    {
      "cell_type": "markdown",
      "source": [
        "##### 2. What is/are the insight(s) found from the chart?"
      ],
      "metadata": {
        "id": "eZrbJ2SmphqO"
      }
    },
    {
      "cell_type": "markdown",
      "source": [
        "From this barplot between promo vs sales gives us there is promotion occurs for sales to be incresing but in promo2 vs sales there is no promotion occurs."
      ],
      "metadata": {
        "id": "mZtgC_hjphqO"
      }
    },
    {
      "cell_type": "markdown",
      "source": [
        "##### 3. Will the gained insights help creating a positive business impact?\n",
        "Are there any insights that lead to negative growth? Justify with specific reason."
      ],
      "metadata": {
        "id": "rFu4xreNphqO"
      }
    },
    {
      "cell_type": "markdown",
      "source": [
        "This detail information will give us the better idea of how much promotion is going on for our sales or how we will do the promotion for our sales"
      ],
      "metadata": {
        "id": "ey_0qi68phqO"
      }
    },
    {
      "cell_type": "code",
      "source": [
        "final_dataset.columns"
      ],
      "metadata": {
        "id": "wFi9XeKDlU_L"
      },
      "execution_count": null,
      "outputs": []
    },
    {
      "cell_type": "markdown",
      "source": [
        "## Chart - 8: CompetitionOpenSinceYear vs Sales"
      ],
      "metadata": {
        "id": "YJ55k-q6phqO"
      }
    },
    {
      "cell_type": "code",
      "source": [
        "# Chart - 9 visualization code\n",
        "plt.figure(figsize=(15,6))\n",
        "sns.pointplot(x= 'CompetitionOpenSinceYear', y= 'Sales', data=final_dataset)\n",
        "plt.title('Plot between Sales and Competition Open Since year')"
      ],
      "metadata": {
        "id": "B2aS4O1ophqO"
      },
      "execution_count": null,
      "outputs": []
    },
    {
      "cell_type": "markdown",
      "source": [
        "##### 1. Why did you pick the specific chart?"
      ],
      "metadata": {
        "id": "gCFgpxoyphqP"
      }
    },
    {
      "cell_type": "markdown",
      "source": [
        "To understand the average sales for each year since another competitor opened near the store"
      ],
      "metadata": {
        "id": "TVxDimi2phqP"
      }
    },
    {
      "cell_type": "markdown",
      "source": [
        "##### 2. What is/are the insight(s) found from the chart?"
      ],
      "metadata": {
        "id": "OVtJsKN_phqQ"
      }
    },
    {
      "cell_type": "markdown",
      "source": [
        "From this point plot we can tell that Sales are high during the year 1900, as there are very few store were operated, so there is less competition and sales are high. But as year passes, number of stores increased that means competition also increased and this leads to decrease in the sales."
      ],
      "metadata": {
        "id": "ngGi97qjphqQ"
      }
    },
    {
      "cell_type": "markdown",
      "source": [
        "##### 3. Will the gained insights help creating a positive business impact?\n",
        "Are there any insights that lead to negative growth? Justify with specific reason."
      ],
      "metadata": {
        "id": "lssrdh5qphqQ"
      }
    },
    {
      "cell_type": "markdown",
      "source": [
        "Since almost every subsequent year reports sudden drop/rise in the sales, owners need to work on their stockings and marketing tactics. The  reason for this change could be explored more deeply and a good decision to be make for the better performance of sales."
      ],
      "metadata": {
        "id": "tBpY5ekJphqQ"
      }
    },
    {
      "cell_type": "markdown",
      "source": [
        "## Chart - 9: SchoolHoliday vs Sales"
      ],
      "metadata": {
        "id": "U2RJ9gkRphqQ"
      }
    },
    {
      "cell_type": "code",
      "source": [
        "\n",
        "plt.figure(figsize=(15,8))\n",
        "plot_SchoolHoliday_sales = sns.barplot(x=\"SchoolHoliday\", y=\"Sales\", data=final_dataset)\n",
        "plt.title('Boxplot For Sales Values')"
      ],
      "metadata": {
        "id": "GM7a4YP4phqQ"
      },
      "execution_count": null,
      "outputs": []
    },
    {
      "cell_type": "markdown",
      "source": [
        "##### 1. Why did you pick the specific chart?"
      ],
      "metadata": {
        "id": "1M8mcRywphqQ"
      }
    },
    {
      "cell_type": "markdown",
      "source": [
        "To know the count of how many sales were made at stores on school holiday and on non-school holiday"
      ],
      "metadata": {
        "id": "8agQvks0phqQ"
      }
    },
    {
      "cell_type": "markdown",
      "source": [
        "##### 2. What is/are the insight(s) found from the chart?"
      ],
      "metadata": {
        "id": "tgIPom80phqQ"
      }
    },
    {
      "cell_type": "markdown",
      "source": [
        "From this bar plot we can see there is no diffrece in sales,but sales are more on school holidays . It is possible that school holidays are more likely to be associated with families going on vacation or parents taking time off work to spend with their children, which could lead to increase in consumer spendings."
      ],
      "metadata": {
        "id": "Qp13pnNzphqQ"
      }
    },
    {
      "cell_type": "markdown",
      "source": [
        "##### 3. Will the gained insights help creating a positive business impact?\n",
        "Are there any insights that lead to negative growth? Justify with specific reason."
      ],
      "metadata": {
        "id": "JMzcOPDDphqR"
      }
    },
    {
      "cell_type": "markdown",
      "source": [
        "As we can see from the graph, it is not making much difference whether there is school holiday or not. Still, businesses can target school holidays and run more promotional offers."
      ],
      "metadata": {
        "id": "R4Ka1PC2phqR"
      }
    },
    {
      "cell_type": "markdown",
      "source": [
        "## Chart - 10: Understanding promoInterval on Stores"
      ],
      "metadata": {
        "id": "x-EpHcCOp1ci"
      }
    },
    {
      "cell_type": "code",
      "source": [
        "final_dataset.PromoInterval.value_counts()"
      ],
      "metadata": {
        "id": "aQB5X1nHrqeB"
      },
      "execution_count": null,
      "outputs": []
    },
    {
      "cell_type": "code",
      "source": [
        "plt.figure(figsize=(10,8))\n",
        "final_dataset.PromoInterval.value_counts().plot.pie(autopct='%1.1f%%', shadow=True)\n"
      ],
      "metadata": {
        "id": "mAQTIvtqp1cj"
      },
      "execution_count": null,
      "outputs": []
    },
    {
      "cell_type": "markdown",
      "source": [
        "##### 1. Why did you pick the specific chart?"
      ],
      "metadata": {
        "id": "X_VqEhTip1ck"
      }
    },
    {
      "cell_type": "markdown",
      "source": [
        "To understand the promotion interval i.e. when the store is partcipating or not."
      ],
      "metadata": {
        "id": "-vsMzt_np1ck"
      }
    },
    {
      "cell_type": "markdown",
      "source": [
        "##### 2. What is/are the insight(s) found from the chart?"
      ],
      "metadata": {
        "id": "8zGJKyg5p1ck"
      }
    },
    {
      "cell_type": "markdown",
      "source": [
        "As we found from this pie plot there is maximum promotion occurs on jan,apr,jul,oct in this month and there is average 50% stores are not participating for promotion and lowest promotion occurs in mar,jun,sept,dec."
      ],
      "metadata": {
        "id": "ZYdMsrqVp1ck"
      }
    },
    {
      "cell_type": "markdown",
      "source": [
        "##### 3. Will the gained insights help creating a positive business impact?\n",
        "Are there any insights that lead to negative growth? Justify with specific reason."
      ],
      "metadata": {
        "id": "PVzmfK_Ep1ck"
      }
    },
    {
      "cell_type": "markdown",
      "source": [
        "So from this we can understand which month are crucial for promotion and which month are not. So according to that we can make decision for our sales."
      ],
      "metadata": {
        "id": "druuKYZpp1ck"
      }
    },
    {
      "cell_type": "markdown",
      "source": [
        "## Chart - 11: CompetitionDistance vs Sales"
      ],
      "metadata": {
        "id": "n3dbpmDWp1ck"
      }
    },
    {
      "cell_type": "code",
      "source": [
        "\n",
        "plt.figure(figsize=(7,7))\n",
        "sns.scatterplot(final_dataset['CompetitionDistance'],final_dataset['Sales'])"
      ],
      "metadata": {
        "id": "bwevp1tKp1ck"
      },
      "execution_count": null,
      "outputs": []
    },
    {
      "cell_type": "markdown",
      "source": [
        "##### 1. Why did you pick the specific chart?"
      ],
      "metadata": {
        "id": "ylSl6qgtp1ck"
      }
    },
    {
      "cell_type": "markdown",
      "source": [
        "To understand relationship between Cometition distance vs Sales"
      ],
      "metadata": {
        "id": "m2xqNkiQp1ck"
      }
    },
    {
      "cell_type": "markdown",
      "source": [
        "##### 2. What is/are the insight(s) found from the chart?"
      ],
      "metadata": {
        "id": "ZWILFDl5p1ck"
      }
    },
    {
      "cell_type": "markdown",
      "source": [
        "From the above scatter plot we observed that mostly the competitor stores weren't that far from each other and the stores are located near each other saw more sales"
      ],
      "metadata": {
        "id": "x-lUsV2mp1ck"
      }
    },
    {
      "cell_type": "markdown",
      "source": [
        "##### 3. Will the gained insights help creating a positive business impact?\n",
        "Are there any insights that lead to negative growth? Justify with specific reason."
      ],
      "metadata": {
        "id": "M7G43BXep1ck"
      }
    },
    {
      "cell_type": "markdown",
      "source": [
        "As we can see sales are more for closely located stores and stores can continue providing exciting offers and services to attract customers to compete the market."
      ],
      "metadata": {
        "id": "5wwDJXsLp1cl"
      }
    },
    {
      "cell_type": "markdown",
      "source": [
        "## Chart - 12 : Correlation Heatmap"
      ],
      "metadata": {
        "id": "NC_X3p0fY2L0"
      }
    },
    {
      "cell_type": "code",
      "source": [
        "# Correlation Heatmap visualization code\n",
        "corr_data = final_dataset.corr()\n",
        "h, ax = plt.subplots(figsize=(20, 12))\n",
        "sns.heatmap(corr_data, vmax=.8, square=True , cmap=\"Greens\",annot=True);"
      ],
      "metadata": {
        "id": "xyC9zolEZNRQ"
      },
      "execution_count": null,
      "outputs": []
    },
    {
      "cell_type": "markdown",
      "source": [
        "##### 1. Why did you pick the specific chart?"
      ],
      "metadata": {
        "id": "UV0SzAkaZNRQ"
      }
    },
    {
      "cell_type": "markdown",
      "source": [
        "To understand relationship between each features."
      ],
      "metadata": {
        "id": "DVPuT8LYZNRQ"
      }
    },
    {
      "cell_type": "markdown",
      "source": [
        "##### 2. What is/are the insight(s) found from the chart?"
      ],
      "metadata": {
        "id": "YPEH6qLeZNRQ"
      }
    },
    {
      "cell_type": "markdown",
      "source": [
        "from this heatmap we can say:\n",
        "\n",
        "*   Store and Sales are almost negligible correlated\n",
        "*   DayofWeek and Sales are negatively(-0.46) correlated\n",
        "*   Customers and Sales are positively (0.89) correlated.\n",
        "*   Promo and Sales are positively (0.45) correlated.\n",
        "*   Open and Sales are positively(0.68) correlated\n",
        "*   All the other features are negligibly correlated with Sales\n",
        "\n",
        "\n",
        "\n",
        "\n",
        "\n"
      ],
      "metadata": {
        "id": "bfSqtnDqZNRR"
      }
    },
    {
      "cell_type": "markdown",
      "source": [
        "## Chart - 13 - Pair Plot"
      ],
      "metadata": {
        "id": "q29F0dvdveiT"
      }
    },
    {
      "cell_type": "code",
      "source": [
        "# Pair Plot visualization code\n",
        "sns.pairplot(final_dataset)"
      ],
      "metadata": {
        "id": "o58-TEIhveiU"
      },
      "execution_count": null,
      "outputs": []
    },
    {
      "cell_type": "markdown",
      "source": [
        "##### 1. Why did you pick the specific chart?"
      ],
      "metadata": {
        "id": "EXh0U9oCveiU"
      }
    },
    {
      "cell_type": "markdown",
      "source": [
        "From this pair plot we can understand multiple relationship between diffrent features in a single frame and various insights related to the data can be gained in one single look."
      ],
      "metadata": {
        "id": "eMmPjTByveiU"
      }
    },
    {
      "cell_type": "markdown",
      "source": [
        "##### 2. What is/are the insight(s) found from the chart?"
      ],
      "metadata": {
        "id": "22aHeOlLveiV"
      }
    },
    {
      "cell_type": "markdown",
      "source": [
        "Pairplot helped us to visualize the relationship between sales and other variables, such as customers, Promotions, competition, and school holidays Columns."
      ],
      "metadata": {
        "id": "uPQ8RGwHveiV"
      }
    },
    {
      "cell_type": "markdown",
      "source": [
        "## ***5. Feature Engineering & Data Pre-processing***"
      ],
      "metadata": {
        "id": "yLjJCtPM0KBk"
      }
    },
    {
      "cell_type": "markdown",
      "source": [
        "### 1. Handling Missing Values"
      ],
      "metadata": {
        "id": "xiyOF9F70UgQ"
      }
    },
    {
      "cell_type": "code",
      "source": [
        "# Handling Missing Values & Missing Value Imputation\n",
        "final_dataset.isnull().sum()"
      ],
      "metadata": {
        "id": "iRsAHk1K0fpS"
      },
      "execution_count": null,
      "outputs": []
    },
    {
      "cell_type": "markdown",
      "source": [
        "#### What all missing value imputation techniques have you used and why did you use those techniques?"
      ],
      "metadata": {
        "id": "7wuGOrhz0itI"
      }
    },
    {
      "cell_type": "markdown",
      "source": [
        "We have checked the null and duplicate values by isnull(),dupicated() and then replaced the null values of various variables with 0 ."
      ],
      "metadata": {
        "id": "1ixusLtI0pqI"
      }
    },
    {
      "cell_type": "markdown",
      "source": [
        "### 2. Handling Outliers"
      ],
      "metadata": {
        "id": "id1riN9m0vUs"
      }
    },
    {
      "cell_type": "code",
      "source": [
        "# Handling Outliers & Outlier treatments\n",
        "fig, (ax1, ax2) = plt.subplots(1, 2, figsize=(20, 6))\n",
        "ax1.hist(final_dataset['Sales'], bins=30)\n",
        "ax2.boxplot(final_dataset['Sales'])"
      ],
      "metadata": {
        "id": "M6w2CzZf04JK"
      },
      "execution_count": null,
      "outputs": []
    },
    {
      "cell_type": "code",
      "source": [
        "plt.figure(figsize=(10, 6))\n",
        "sns.distplot(final_dataset['Sales'])"
      ],
      "metadata": {
        "id": "Vk5F6KuqFiE7"
      },
      "execution_count": null,
      "outputs": []
    },
    {
      "cell_type": "markdown",
      "source": [
        "Removing Outliers Of Sales Column"
      ],
      "metadata": {
        "id": "FZrgfTDuUecW"
      }
    },
    {
      "cell_type": "code",
      "source": [
        "# assigning continous variable features in new variables so that it makes sense while visulatizing through box plots\n",
        "continous_value_feature= [\"DayOfWeek\", \"Sales\", \"Customers\", \"CompetitionDistance\", \"CompetitionOpenSinceMonth\", \"CompetitionOpenSinceYear\", \"Promo2SinceWeek\", \"Promo2SinceYear\"]\n",
        "numeric_features= ['Store', 'DayOfWeek', 'Sales', 'Customers', 'Open', 'Promo', 'StateHoliday', 'SchoolHoliday', 'CompetitionDistance', 'CompetitionOpenSinceMonth', 'CompetitionOpenSinceYear', 'Promo2', 'Promo2SinceWeek','Promo2SinceYear']\n",
        "categorical_features= [\"Date\", \"StoreType\", \"Assortment\", \"PromoInterval\"]"
      ],
      "metadata": {
        "id": "gCpgiJ7OL93g"
      },
      "execution_count": null,
      "outputs": []
    },
    {
      "cell_type": "code",
      "source": [
        "# Defining the function that treats outliers with the IQR technique\n",
        "def treat_outliers_iqr(data):\n",
        "    # Calculate the first and third quartiles\n",
        "    q1, q3 = np.percentile(data, [25, 75])\n",
        "\n",
        "    # Calculate the interquartile range (IQR)\n",
        "    iqr = q3 - q1\n",
        "\n",
        "    # Identify the outliers\n",
        "    lower_outlier = q1 - (1.5 * iqr)\n",
        "    upper_outlier = q3 + (1.5 * iqr)\n",
        "    outliers = [x for x in data if x < lower_outlier or x > upper_outlier]\n",
        "\n",
        "    # Treat the outliers (e.g., replace with the nearest quartile value)\n",
        "    treated_data = [q1 if x < lower_outlier else q3 if x > upper_outlier else x for x in data]\n",
        "    treated_data_int = [int(absolute) for absolute in treated_data]\n",
        "\n",
        "    return treated_data_int"
      ],
      "metadata": {
        "id": "1xf7Ab4OJgk5"
      },
      "execution_count": null,
      "outputs": []
    },
    {
      "cell_type": "code",
      "source": [
        "#Passing all the feature one by one from the list of continous_value_feature in our above defined function for outlier treatment\n",
        "for feature in continous_value_feature:\n",
        "  final_dataset[feature]= treat_outliers_iqr(final_dataset[feature])"
      ],
      "metadata": {
        "id": "EAxmBaclMSgh"
      },
      "execution_count": null,
      "outputs": []
    },
    {
      "cell_type": "code",
      "source": [
        "#Replotting the box plots and checking outliers still available(if any) in the list of continous_value_feature.\n",
        "plt.figure(figsize=(30,15))\n",
        "for n,column in enumerate(continous_value_feature):\n",
        "  plt.subplot(5, 4, n+1)\n",
        "  sns.boxplot(final_dataset[column])\n",
        "  plt.title(f'{column.title()}',weight='bold')\n",
        "  plt.tight_layout()"
      ],
      "metadata": {
        "id": "dGFbpgF0MQwr"
      },
      "execution_count": null,
      "outputs": []
    },
    {
      "cell_type": "markdown",
      "source": [
        "##### What all outlier treatment techniques have you used and why did you use those techniques?"
      ],
      "metadata": {
        "id": "578E2V7j08f6"
      }
    },
    {
      "cell_type": "markdown",
      "source": [
        "We can see from above Box plot there is no outliers so by using tenchniques like inter quartile range."
      ],
      "metadata": {
        "id": "uGZz5OrT1HH-"
      }
    },
    {
      "cell_type": "markdown",
      "source": [
        "### 3. Categorical Encoding"
      ],
      "metadata": {
        "id": "89xtkJwZ18nB"
      }
    },
    {
      "cell_type": "code",
      "source": [
        "# Encode your categorical columns\n",
        "final_dataset.info()"
      ],
      "metadata": {
        "id": "21JmIYMG2hEo"
      },
      "execution_count": null,
      "outputs": []
    },
    {
      "cell_type": "code",
      "source": [
        "# creating the variable that contains list of \"object\" dtypes\n",
        "obj= [\"StateHoliday\", \"StoreType\", \"Assortment\", \"PromoInterval\"]\n",
        "\n",
        "\n",
        "# checking the unique counts of object dype column which is essential to determine the type of encoding to use in various column\n",
        "for unique in obj:\n",
        "  print(f\"{unique}: \")\n",
        "  print(f\"The unique values are: {final_dataset[unique].unique()}\")\n",
        "  print(f\"Total number of unique values are: {final_dataset[unique].nunique()}\")\n",
        "  print(\"\\n\")"
      ],
      "metadata": {
        "id": "1ZXqjVddO83Z"
      },
      "execution_count": null,
      "outputs": []
    },
    {
      "cell_type": "code",
      "source": [
        "# replacing \"0\" to 0 and a,b,c=1 for our simplicity as they resembles that there is holiday\n",
        "final_dataset[\"StateHoliday\"].replace({\"0\":0, \"a\":1, \"b\":1, \"c\":1}, inplace=True)\n",
        "\n",
        "\n",
        "for unique in obj:\n",
        "  print(f\"{unique}: \")\n",
        "  print(f\"The unique values are: {final_dataset[unique].unique()}\")\n",
        "  print(f\"Total number of unique values are: {final_dataset[unique].nunique()}\")\n",
        "  print(\"\\n\")"
      ],
      "metadata": {
        "id": "-ixa3LoiO8cY"
      },
      "execution_count": null,
      "outputs": []
    },
    {
      "cell_type": "markdown",
      "source": [
        "As our all the categorical columns are nominal in nature(do not have any rank or order) so will use One-Hot Encoding (Type of Nominal encoding) in our senario:"
      ],
      "metadata": {
        "id": "OHKXqKT4QWM9"
      }
    },
    {
      "cell_type": "code",
      "source": [
        "#Lets create a copy of dataframe to avoid blunders with our original dataframe\n",
        "final_dataset_1=final_dataset.copy()"
      ],
      "metadata": {
        "id": "dd5rnibWQVDw"
      },
      "execution_count": null,
      "outputs": []
    },
    {
      "cell_type": "code",
      "source": [
        "# Encode your categorical columns by dropping the first category\n",
        "final_dataset_1= pd.get_dummies(final_dataset, dtype=int, drop_first=True)"
      ],
      "metadata": {
        "id": "pnpfPkHUQUtX"
      },
      "execution_count": null,
      "outputs": []
    },
    {
      "cell_type": "code",
      "source": [
        "final_dataset_1.info()"
      ],
      "metadata": {
        "id": "jcwG-A_iO8Fl"
      },
      "execution_count": null,
      "outputs": []
    },
    {
      "cell_type": "markdown",
      "source": [
        "#### What all categorical encoding techniques have you used & why did you use those techniques?"
      ],
      "metadata": {
        "id": "67NQN5KX2AMe"
      }
    },
    {
      "cell_type": "markdown",
      "source": [
        "We have used one-hot encoding technique to change our categorical features of object type into int type by creating their dummies so that it becomes compatible to feed it into various ML algorithms in future."
      ],
      "metadata": {
        "id": "UDaue5h32n_G"
      }
    },
    {
      "cell_type": "markdown",
      "source": [
        "### 4. Feature Manipulation & Selection"
      ],
      "metadata": {
        "id": "-oLEiFgy-5Pf"
      }
    },
    {
      "cell_type": "markdown",
      "source": [
        "#### 1. Feature Manipulation"
      ],
      "metadata": {
        "id": "C74aWNz2AliB"
      }
    },
    {
      "cell_type": "code",
      "source": [
        "# Manipulate Features to minimize feature correlation and create new features\n",
        "final_dataset_1.head()"
      ],
      "metadata": {
        "id": "h1qC4yhBApWC"
      },
      "execution_count": null,
      "outputs": []
    },
    {
      "cell_type": "code",
      "source": [
        "# Extracting date, month and year from Date feature\n",
        "final_dataset_1[\"Day\"]= final_dataset_1[\"Date\"].dt.day\n",
        "final_dataset_1[\"Month\"]= final_dataset_1[\"Date\"].dt.month\n",
        "final_dataset_1[\"Year\"]= final_dataset_1[\"Date\"].dt.year\n",
        "final_dataset_1[\"Week\"]= final_dataset_1[\"Date\"].dt.week"
      ],
      "metadata": {
        "id": "iWx9wLm6SC1d"
      },
      "execution_count": null,
      "outputs": []
    },
    {
      "cell_type": "code",
      "source": [
        "final_dataset_1.head()"
      ],
      "metadata": {
        "id": "QUEnXFPgSCdG"
      },
      "execution_count": null,
      "outputs": []
    },
    {
      "cell_type": "markdown",
      "source": [
        "#### 2. Feature Selection"
      ],
      "metadata": {
        "id": "2DejudWSA-a0"
      }
    },
    {
      "cell_type": "code",
      "source": [
        "# Select your features wisely to avoid overfitting\n",
        "plt.figure(figsize=(20,15))\n",
        "sns.heatmap(abs(round(final_dataset_1.corr(),3)), annot=True, cmap=plt.cm.CMRmap)"
      ],
      "metadata": {
        "id": "YLhe8UmaBCEE"
      },
      "execution_count": null,
      "outputs": []
    },
    {
      "cell_type": "markdown",
      "source": [
        "##### What all feature selection methods have you used  and why?"
      ],
      "metadata": {
        "id": "pEMng2IbBLp7"
      }
    },
    {
      "cell_type": "markdown",
      "source": [
        "We have plotted the seaborn's scatterplot and seaborn's heatmap to see the relationship of each of the feature with target variable and observed the following correlations:\n",
        "\n",
        "*   Positive Corelation- Customers, Open, Promo, SchoolHoliday, CompetitionOpenSinceYear, Assortment_b, Assortment_c, Month, Year, Week, PromoDuration.\n",
        "\n",
        "*   Negative Corelation- DayOfWeek, StateHoliday, ComptitionDistance, CompetitionOpenSinceMonth, Promo2, Promo2SinceWeek,Promo2SinceYear, 'PromoInterval_Feb,May,Aug,Nov, 'PromoInterval_Jan,Apr,Jul,Oct, PromoInterval_Mar,Jun,Sept,Dec, Day, CompetitionDuration.\n",
        "*   No Corelation- Store, StoreType_c, StoreType_d"
      ],
      "metadata": {
        "id": "rb2Lh6Z8BgGs"
      }
    },
    {
      "cell_type": "markdown",
      "source": [
        "##### Which all features you found important and why?"
      ],
      "metadata": {
        "id": "rAdphbQ9Bhjc"
      }
    },
    {
      "cell_type": "markdown",
      "source": [
        "We have selected\n",
        " \"DayOfWeek\",\"Customers\",\"Promo\",\"StateHoliday\",\"SchoolHoliday\",\"CompetitionDistance\",\"Promo2\",\"StoreType_b\",\"StoreType_c\",\"StoreType_d\",\"Assortment_c\",\"PromoInterval_Feb,May,Aug,Nov\",\"PromoInterval_Mar,Jun,Sept,Dec\",\"Day\",\"CompetitionDuration\" as our final important features as they are highly correlated with the target variable (Sales)"
      ],
      "metadata": {
        "id": "fGgaEstsBnaf"
      }
    },
    {
      "cell_type": "markdown",
      "source": [
        "### 3: Feature Engineering"
      ],
      "metadata": {
        "id": "4HdUyUvwiz2m"
      }
    },
    {
      "cell_type": "code",
      "source": [
        "final_dataset_1.columns"
      ],
      "metadata": {
        "id": "fNexKnfGjg4o"
      },
      "execution_count": null,
      "outputs": []
    },
    {
      "cell_type": "code",
      "source": [
        "numeric_features = ['DayOfWeek', 'Customers', 'Open', 'Promo', 'StateHoliday', 'SchoolHoliday', 'Promo2SinceWeek', 'CompetitionDistance', 'CompetitionOpenSinceMonth', 'CompetitionOpenSinceYear', 'Promo2', 'Promo2SinceYear', 'Promo2SinceWeek']"
      ],
      "metadata": {
        "id": "JQ3XbU0ginCf"
      },
      "execution_count": null,
      "outputs": []
    },
    {
      "cell_type": "code",
      "source": [
        "for col in numeric_features[0:-1]:\n",
        "  fig = plt.figure(figsize=(9,6))\n",
        "  ax = fig.gca()\n",
        "  feature = final_dataset_1[col]\n",
        "  label = final_dataset_1['Sales']\n",
        "  correlation = feature.corr(label)\n",
        "  plt.scatter(x = feature, y=label)\n",
        "  plt.xlabel(col)\n",
        "  plt.ylabel('Sales')\n",
        "  ax.set_title('Sales vs ' + col + '- correlation: ' + str(correlation))\n",
        "  z = np.polyfit(final_dataset_1[col], final_dataset_1['Sales'], 1)\n",
        "  y_hat = np.poly1d(z)(final_dataset_1[col])\n",
        "\n",
        "  plt.plot(final_dataset_1[col], y_hat, \"r--\", lw=1)\n",
        "\n",
        "plt.show()"
      ],
      "metadata": {
        "id": "4lPbl1KajBaI"
      },
      "execution_count": null,
      "outputs": []
    },
    {
      "cell_type": "markdown",
      "metadata": {
        "id": "rMDnDkt2B6du"
      },
      "source": [
        "### 4. Data Scaling"
      ]
    },
    {
      "cell_type": "markdown",
      "metadata": {
        "id": "rySt5CI4ETYj"
      },
      "source": [
        "Before scaling our data let's just seperate our \"x\" and \"y\" variables as we do not have to scale our y variable (Target variable)."
      ]
    },
    {
      "cell_type": "code",
      "execution_count": null,
      "metadata": {
        "id": "TRbjX-I5EqAe"
      },
      "outputs": [],
      "source": [
        "# Separating \"x\" and \"y\" variables\n",
        "x= final_dataset_1[[\"DayOfWeek\", \"Customers\",\"Promo\",\"StateHoliday\",\"SchoolHoliday\",\"CompetitionDistance\",\"Promo2\",\"StoreType_b\",\"StoreType_c\",\"StoreType_d\",\"Assortment_c\",\"PromoInterval_Feb,May,Aug,Nov\",\"PromoInterval_Mar,Jun,Sept,Dec\",\"Day\"]]\n",
        "y= final_dataset_1[['Sales']]\n",
        "print(x.shape)\n",
        "print(y.shape)"
      ]
    },
    {
      "cell_type": "code",
      "execution_count": null,
      "metadata": {
        "id": "dL9LWpySC6x_"
      },
      "outputs": [],
      "source": [
        "# Scaling your data\n",
        "# Importing MinMaxScaler library\n",
        "from sklearn.preprocessing import MinMaxScaler"
      ]
    },
    {
      "cell_type": "code",
      "execution_count": null,
      "metadata": {
        "id": "DwR6U6a8CtrI"
      },
      "outputs": [],
      "source": [
        "# Creating object\n",
        "MinMax_regressor= MinMaxScaler()"
      ]
    },
    {
      "cell_type": "code",
      "execution_count": null,
      "metadata": {
        "id": "g9moZvVLC26g"
      },
      "outputs": [],
      "source": [
        "# Fit and Transform\n",
        "x= MinMax_regressor.fit_transform(x)"
      ]
    },
    {
      "cell_type": "markdown",
      "metadata": {
        "id": "yiiVWRdJDDil"
      },
      "source": [
        "##### Which method have you used to scale you data and why?"
      ]
    },
    {
      "cell_type": "markdown",
      "metadata": {
        "id": "wo23bXec2Brn"
      },
      "source": [
        "We have used MinMaxScaler of sklearn library to scale our data.  This is important for us, as features on different scales can lead to poor performance or slow convergence and it's huge data also.\n",
        "\n",
        "The main reason to use MinMaxScaler is to ensure that all features have the same scale and range of values, which can improve the performance of certain machine learning algorithms. Some of the common reasons to use MinMaxScaler are:\n",
        "\n",
        "### Scaling: MinMaxScaler scales the data to a specific range (usually 0 to 1) to avoid bias in favor of features with higher magnitudes.\n",
        "\n",
        "### Outliers: MinMaxScaler is robust to outliers, meaning that it scales the data to the range of values specified, regardless of the presence of outliers.\n",
        "\n",
        "### Interpretability: MinMaxScaler preserves the interpretability of the data by maintaining the original scale of the features.\n",
        "\n",
        "### Speed: MinMaxScaler is a simple and fast technique that can be applied to large datasets with many features."
      ]
    },
    {
      "cell_type": "markdown",
      "metadata": {
        "id": "BhH2vgX9EjGr"
      },
      "source": [
        "### 5. Data Splitting"
      ]
    },
    {
      "cell_type": "code",
      "execution_count": null,
      "metadata": {
        "id": "0CTyd2UwEyNM"
      },
      "outputs": [],
      "source": [
        "# Split your data to train and test. Choose Splitting ratio wisely.\n",
        "# Importing train_test_split from sklearn\n",
        "from sklearn.model_selection import train_test_split"
      ]
    },
    {
      "cell_type": "code",
      "execution_count": null,
      "metadata": {
        "id": "bjRMKb7RLWuI"
      },
      "outputs": [],
      "source": [
        "# Spliting the dataset\n",
        "x_train, x_test, y_train, y_test = train_test_split(x, y, test_size=0.2, random_state=0)"
      ]
    },
    {
      "cell_type": "code",
      "execution_count": null,
      "metadata": {
        "id": "nMo-HZohLnLJ"
      },
      "outputs": [],
      "source": [
        "# Checking the shape after spliting\n",
        "x_train.shape, x_test.shape, y_train.shape, y_test.shape"
      ]
    },
    {
      "cell_type": "markdown",
      "metadata": {
        "id": "qjKvONjwE8ra"
      },
      "source": [
        "##### What data splitting ratio have you used and why?"
      ]
    },
    {
      "cell_type": "markdown",
      "metadata": {
        "id": "Y2lJ8cobFDb_"
      },
      "source": [
        "Since our dataset is huge and have nearly 10lakh obsevations. So, We have assigned 80% data into train set and 20% into the test set with random_state=0 so that we do not get different observations in every split."
      ]
    },
    {
      "cell_type": "markdown",
      "source": [
        "## ***7. ML Model Implementation***"
      ],
      "metadata": {
        "id": "VfCC591jGiD4"
      }
    },
    {
      "cell_type": "code",
      "source": [
        "final_dataset_1.shape"
      ],
      "metadata": {
        "id": "3F_YbZVTlyX-"
      },
      "execution_count": null,
      "outputs": []
    },
    {
      "cell_type": "code",
      "source": [
        "# Importing essential libraries to check the accuracy\n",
        "from sklearn.metrics import mean_absolute_error\n",
        "from sklearn.metrics import mean_squared_error\n",
        "from sklearn.metrics import r2_score\n",
        "from sklearn.metrics import mean_absolute_percentage_error"
      ],
      "metadata": {
        "id": "KERVUz2Pl7Dt"
      },
      "execution_count": null,
      "outputs": []
    },
    {
      "cell_type": "code",
      "source": [
        "# Defining the function that calculated regression metrics\n",
        "def regression_metrics(y_train_actual,y_train_pred,y_test_actual,y_test_pred):\n",
        "  ## mean_absolute_error\n",
        "  MAE_train= mean_absolute_error(y_train,y_train_pred)\n",
        "  print(\"MAE on train is:\" ,MAE_train)\n",
        "  MAE_test= mean_absolute_error(y_test,y_test_pred)\n",
        "  print(\"MAE on test is:\" ,MAE_test)\n",
        "  print(\"\\n\")\n",
        "\n",
        "  ## mean_squared_error\n",
        "  MSE_train= mean_squared_error(y_train, y_train_pred)\n",
        "  print(\"MSE on train is:\" ,MSE_train)\n",
        "  MSE_test  = mean_squared_error(y_test, y_test_pred)\n",
        "  print(\"MSE on test is:\" ,MSE_test)\n",
        "  print(\"\\n\")\n",
        "\n",
        "  ## root_mean_squared_error\n",
        "  RMSE_train = np.sqrt(MSE_train)\n",
        "  print(\"RMSE on train is:\" ,RMSE_train)\n",
        "  RMSE_test = np.sqrt(MSE_test)\n",
        "  print(\"RMSE on test is:\" ,RMSE_test)\n",
        "  print(\"\\n\")\n",
        "\n",
        "  ## mean_absolute_percentage_error\n",
        "  MAPE_train = mean_absolute_percentage_error(y_train, y_train_pred)*100\n",
        "  print(\"MAPE on train is:\" ,MAPE_train, \" %\")\n",
        "  MAPE_test = mean_absolute_percentage_error(y_test, y_test_pred)*100\n",
        "  print(\"MAPE on test is:\" ,MAPE_test, \" %\")\n",
        "  print(\"\\n\")\n",
        "\n",
        "  ## r2_score\n",
        "  R2_train= r2_score(y_train,y_train_pred)\n",
        "  print(\"R2 score on train is:\" ,R2_train)\n",
        "  R2_test= r2_score(y_test,y_test_pred)\n",
        "  print(\"R2 score on test is:\" ,R2_test)\n",
        "\n"
      ],
      "metadata": {
        "id": "tj76rnNfnanv"
      },
      "execution_count": null,
      "outputs": []
    },
    {
      "cell_type": "code",
      "source": [],
      "metadata": {
        "id": "_ZFcjSjCn3w6"
      },
      "execution_count": null,
      "outputs": []
    },
    {
      "cell_type": "markdown",
      "source": [
        "### ML Model - 1: Linear Regression"
      ],
      "metadata": {
        "id": "OB4l2ZhMeS1U"
      }
    },
    {
      "cell_type": "code",
      "source": [
        "# Importing LinearRegression from sklearn\n",
        "from sklearn.linear_model import LinearRegression"
      ],
      "metadata": {
        "id": "f1v-KTbWoLiX"
      },
      "execution_count": null,
      "outputs": []
    },
    {
      "cell_type": "code",
      "source": [
        "# ML Model - 1 Implementation\n",
        "linear_regressor= LinearRegression()\n",
        "# Fit the Algorithm\n",
        "linear_regressor.fit(x_train,y_train)\n",
        "\n",
        "# Predict on the model\n",
        "y_train_regression_pred= linear_regressor.predict(x_train)\n",
        "y_test_regression_pred= linear_regressor.predict(x_test)"
      ],
      "metadata": {
        "id": "7ebyywQieS1U"
      },
      "execution_count": null,
      "outputs": []
    },
    {
      "cell_type": "code",
      "source": [
        "# Checking the coefficients\n",
        "linear_regressor.coef_"
      ],
      "metadata": {
        "id": "9uMGLPdwore8"
      },
      "execution_count": null,
      "outputs": []
    },
    {
      "cell_type": "code",
      "source": [
        "# Checking the intercept\n",
        "linear_regressor.intercept_"
      ],
      "metadata": {
        "id": "8TG04WIYorCv"
      },
      "execution_count": null,
      "outputs": []
    },
    {
      "cell_type": "markdown",
      "source": [
        "#### 1. Explain the ML Model used and it's performance using Evaluation metric Score Chart."
      ],
      "metadata": {
        "id": "ArJBuiUVfxKd"
      }
    },
    {
      "cell_type": "code",
      "source": [
        "# calculation of evaluation Metric Score\n",
        "regression_metrics(y_train,y_train_regression_pred,y_test,y_test_regression_pred)"
      ],
      "metadata": {
        "id": "rqD5ZohzfxKe"
      },
      "execution_count": null,
      "outputs": []
    },
    {
      "cell_type": "code",
      "source": [
        "plt.figure(figsize=(15,8))\n",
        "plt.scatter(y_test,y_test_regression_pred, c=\"blue\")"
      ],
      "metadata": {
        "id": "57yhpDUWHSMw"
      },
      "execution_count": null,
      "outputs": []
    },
    {
      "cell_type": "code",
      "source": [
        "plt.figure(figsize=(15,10))\n",
        "plt.plot(y_test_regression_pred)\n",
        "plt.plot(np.array(y_test))\n",
        "plt.legend([\"Predicted\",\"Actual\"])\n",
        "plt.xlabel('No of Test Data')\n",
        "plt.show()"
      ],
      "metadata": {
        "id": "QNIfBbN7H_fn"
      },
      "execution_count": null,
      "outputs": []
    },
    {
      "cell_type": "code",
      "source": [
        "# Visualizing evaluation Metric Score chart\n",
        "# Calculating residuals\n",
        "residuals = y_test - y_test_regression_pred\n",
        "Mean= round(np.mean(residuals),2)\n",
        "Median= round(np.median(residuals),2)\n",
        "\n",
        "# Plot residuals\n",
        "plt.figure(figsize=(15,8))\n",
        "plt.scatter(y_test, residuals, c=\"green\")\n",
        "plt.title(\"Residual Plot for Metric Evaluation\")\n",
        "plt.xlabel('Predicted Sales')\n",
        "plt.ylabel('Residual Error')\n",
        "\n",
        "# Add horizontal line at mean value of y\n",
        "plt.axhline(y=np.nanmean(residuals), color='red', linestyle='--', label=Mean[0])\n",
        "plt.axhline(y=np.nanmedian(residuals), color='blue', linestyle='--', label=Median)\n",
        "plt.legend()\n",
        "\n",
        "plt.show()"
      ],
      "metadata": {
        "id": "xOLQ5h3gpXLu"
      },
      "execution_count": null,
      "outputs": []
    },
    {
      "cell_type": "code",
      "source": [
        "fig=plt.figure(figsize=(8,8))\n",
        "\n",
        "sns.distplot(y_test- y_test_regression_pred,bins=20)\n",
        "\n",
        "#Plot Label\n",
        "fig.suptitle('Residual Analysis', fontsize = 20)"
      ],
      "metadata": {
        "id": "v2MGvIa_JUSR"
      },
      "execution_count": null,
      "outputs": []
    },
    {
      "cell_type": "code",
      "source": [
        "### Heteroscadacity\n",
        "plt.scatter(y_test_regression_pred, y_test-y_test_regression_pred)\n",
        "plt.xlabel('Predicted sales')\n",
        "plt.ylabel('residuals')"
      ],
      "metadata": {
        "id": "p9wFmixKJsGv"
      },
      "execution_count": null,
      "outputs": []
    },
    {
      "cell_type": "markdown",
      "source": [
        "We have applied most basic and simple ML model i.e Linear Regression. We have tried to evaluate the most important regression metrics on both the train and test datesets so that we can conclude our ML model. Here form this plot, we can observe that both the r2 scores are very close which explains that on test dataset and our model is on the correct way."
      ],
      "metadata": {
        "id": "j_l2OTiXqN2h"
      }
    },
    {
      "cell_type": "markdown",
      "source": [
        "#### 2. Cross- Validation & Hyperparameter Tuning"
      ],
      "metadata": {
        "id": "4qY1EAkEfxKe"
      }
    },
    {
      "cell_type": "markdown",
      "source": [
        "for Ridge Regression"
      ],
      "metadata": {
        "id": "N01yZF70rqKX"
      }
    },
    {
      "cell_type": "code",
      "source": [
        "# importing ridge regression from sklearn library\n",
        "from sklearn.linear_model import Ridge\n",
        "from sklearn.model_selection import GridSearchCV\n",
        "\n",
        "# Creating Ridge instance\n",
        "ridge= Ridge()\n",
        "\n",
        "# Defining parameters\n",
        "parameters = {\"alpha\": [1e-1,1,5,7,10,11,14,15,16,17], \"max_iter\":[1,2,3]}\n",
        "\n",
        "# Train the model\n",
        "ridgeR = GridSearchCV(ridge, parameters, scoring='neg_mean_squared_error', cv=3)\n",
        "ridgeR.fit(x_train,y_train)\n",
        "\n",
        "# Predict the output\n",
        "y_train_ridge_pred = ridgeR.predict(x_train)\n",
        "y_test_ridge_pred = ridgeR.predict(x_test)\n",
        "\n",
        "# Printing the best parameters obtained by GridSearchCV\n",
        "print(f\"The best alpha value found out to be: {ridgeR.best_params_}\")\n",
        "print(f\"Negative mean square error is: {ridgeR.best_score_}\")"
      ],
      "metadata": {
        "id": "xNR94CEhrniq"
      },
      "execution_count": null,
      "outputs": []
    },
    {
      "cell_type": "code",
      "source": [
        "# Calculating regression metrics for Ridge\n",
        "regression_metrics(y_train,y_train_ridge_pred,y_test,y_test_ridge_pred)"
      ],
      "metadata": {
        "id": "Dy61ujd6fxKe"
      },
      "execution_count": null,
      "outputs": []
    },
    {
      "cell_type": "markdown",
      "source": [
        "For Lasso Regression"
      ],
      "metadata": {
        "id": "B0ERg3OEsjty"
      }
    },
    {
      "cell_type": "code",
      "source": [
        "# import lasso regression from sklearn library\n",
        "from sklearn.linear_model import Lasso\n",
        "from sklearn.model_selection import GridSearchCV\n",
        "\n",
        "# Creating Ridge instance\n",
        "lasso= Lasso()\n",
        "\n",
        "# Defining parameters\n",
        "parameters_lasso = {\"alpha\": [1e-5,1e-4,1e-3,1e-2,1e-1,1,5], \"max_iter\":[7,8,9,10]}\n",
        "\n",
        "# Train the model\n",
        "lassoR = GridSearchCV(lasso, parameters_lasso, scoring='neg_mean_squared_error', cv=5)\n",
        "lassoR.fit(x_train,y_train)\n",
        "\n",
        "# Predict the output\n",
        "y_train_lasso_pred = lassoR.predict(x_train)\n",
        "y_test_lasso_pred = lassoR.predict(x_test)\n",
        "\n",
        "# Printing the best parameters obtained by GridSearchCV\n",
        "print(f\"The best alpha value found out to be: {lassoR.best_params_}\")\n",
        "print(f\"Negative mean square error is: {lassoR.best_score_}\")"
      ],
      "metadata": {
        "id": "iI4_Pz8yshlh"
      },
      "execution_count": null,
      "outputs": []
    },
    {
      "cell_type": "code",
      "source": [
        "# Calculating regression metrics for Lasso\n",
        "regression_metrics(y_train,y_train_lasso_pred,y_test,y_test_lasso_pred)"
      ],
      "metadata": {
        "id": "GFQavPDhso4w"
      },
      "execution_count": null,
      "outputs": []
    },
    {
      "cell_type": "code",
      "source": [],
      "metadata": {
        "id": "k9oAw5JDsogi"
      },
      "execution_count": null,
      "outputs": []
    },
    {
      "cell_type": "markdown",
      "source": [
        "##### Which hyperparameter optimization technique have you used and why?"
      ],
      "metadata": {
        "id": "PiV4Ypx8fxKe"
      }
    },
    {
      "cell_type": "markdown",
      "source": [
        "We have used GridSearchCV as the hyperparameter optimization technique as it uses all possible combinations of hyperparameters and their values, also it calculates the performance for each combination and selects the best value for the hyperparameters. This offers the most accurate tuning method."
      ],
      "metadata": {
        "id": "negyGRa7fxKf"
      }
    },
    {
      "cell_type": "markdown",
      "source": [
        "##### Have you seen any improvement? Note down the improvement with updates Evaluation metric Score Chart."
      ],
      "metadata": {
        "id": "TfvqoZmBfxKf"
      }
    },
    {
      "cell_type": "markdown",
      "source": [
        "Despite using Lasso, Ridge models, we couldn't see any significant improvement in the r2 score, MSE and on MAPE as well"
      ],
      "metadata": {
        "id": "OaLui8CcfxKf"
      }
    },
    {
      "cell_type": "markdown",
      "source": [
        "### ML Model - 2: Random Forest Regression"
      ],
      "metadata": {
        "id": "dJ2tPlVmpsJ0"
      }
    },
    {
      "cell_type": "markdown",
      "source": [
        "#### 1. Explain the ML Model used and it's performance using Evaluation metric Score Chart."
      ],
      "metadata": {
        "id": "JWYfwnehpsJ1"
      }
    },
    {
      "cell_type": "code",
      "source": [
        "from sklearn.ensemble import RandomForestRegressor"
      ],
      "metadata": {
        "id": "DBOOa5iUZ3YO"
      },
      "execution_count": null,
      "outputs": []
    },
    {
      "cell_type": "code",
      "source": [
        "# create a regressor object\n",
        "RandomForest_TreeR = RandomForestRegressor(n_estimators=100, max_depth=18)"
      ],
      "metadata": {
        "id": "5QUoJ8mYB78b"
      },
      "execution_count": null,
      "outputs": []
    },
    {
      "cell_type": "code",
      "source": [
        "# fit the regressor with X and Y data\n",
        "RandomForest_TreeR.fit(x_train, y_train)"
      ],
      "metadata": {
        "id": "_60xkFvUB7n6"
      },
      "execution_count": null,
      "outputs": []
    },
    {
      "cell_type": "code",
      "source": [
        "# predicting  the model\n",
        "y_train_RFtree_pred= RandomForest_TreeR.predict(x_train)\n",
        "y_test_RFtree_pred= RandomForest_TreeR.predict(x_test)"
      ],
      "metadata": {
        "id": "7iIrsNT8CMl8"
      },
      "execution_count": null,
      "outputs": []
    },
    {
      "cell_type": "code",
      "source": [
        "# Calculating Regression Metrics using RandomForestRegressor\n",
        "regression_metrics(y_train,y_train_RFtree_pred,y_test,y_test_RFtree_pred)"
      ],
      "metadata": {
        "id": "qwnZNPBYYhYi"
      },
      "execution_count": null,
      "outputs": []
    },
    {
      "cell_type": "code",
      "source": [
        "plt.figure(figsize=(15,8))\n",
        "plt.scatter(y_test,y_test_RFtree_pred, c=\"blue\")"
      ],
      "metadata": {
        "id": "lnfDdHdoYhDn"
      },
      "execution_count": null,
      "outputs": []
    },
    {
      "cell_type": "code",
      "source": [
        "# Visualizing evaluation Metric Score chart\n",
        "# Calculating residuals\n",
        "y_test_RFtree_pred= y_test_RFtree_pred.reshape(-1,1)\n",
        "residuals_RandomForest = y_test - y_test_RFtree_pred\n",
        "Mean= round(np.mean(residuals_RandomForest),2)\n",
        "Median= round(np.median(residuals_RandomForest),2)\n",
        "\n",
        "# Plot residuals\n",
        "plt.figure(figsize=(15,8))\n",
        "plt.scatter(y_test, residuals_RandomForest, c=\"green\")\n",
        "plt.title(\"Residual Plot for Metric Evaluation\")\n",
        "plt.xlabel('Predicted Sales')\n",
        "plt.ylabel('Residual Error')\n",
        "\n",
        "# Add horizontal line at mean value of y\n",
        "plt.axhline(y=np.nanmean(residuals_RandomForest), color='red', linestyle='--', label=Mean[0])\n",
        "plt.axhline(y=np.nanmedian(residuals_RandomForest), color='black', linestyle='--', label=Median)\n",
        "plt.legend()\n",
        "\n",
        "plt.show()"
      ],
      "metadata": {
        "id": "BySecLsuHUEa"
      },
      "execution_count": null,
      "outputs": []
    },
    {
      "cell_type": "markdown",
      "source": [
        "From our secomd model i.e Random Forest we have achieved the r2 score of 0.97 on training and 0.95 on test dataset and and that means our model is moving towards optimal model.\n",
        "\n",
        "We got the Mean=0.06 and Median=0.0 this shows that as our accuracy increases, our mean and median are nearly at 0 that means residual error are less.\n",
        "In order to get the higher accuracy let's perform hyperparameter tuning for the same model and see if we are getting significant results."
      ],
      "metadata": {
        "id": "egCjUyiyJISG"
      }
    },
    {
      "cell_type": "markdown",
      "source": [
        "#### 2. Cross- Validation & Hyperparameter Tuning"
      ],
      "metadata": {
        "id": "-jK_YjpMpsJ2"
      }
    },
    {
      "cell_type": "markdown",
      "source": [
        " ML Model - 2 Implementing with hyperparameter optimization techniques (i.e., GridSearch CV, RandomSearch CV, Bayesian Optimization etc.)"
      ],
      "metadata": {
        "id": "tFxmFWAiLd9t"
      }
    },
    {
      "cell_type": "code",
      "source": [
        "# import ridge regression from sklearn library\n",
        "from sklearn.ensemble import RandomForestRegressor\n",
        "from sklearn.model_selection import RandomizedSearchCV\n",
        "\n",
        "# Creating Ridge instance\n",
        "RandomForest_tree= RandomForestRegressor()\n",
        "\n",
        "# Defining parameters\n",
        "parameters= {'n_estimators':[100], 'max_depth': [17,19,20], 'min_samples_leaf': [1, 2]}\n",
        "\n",
        "# Train the model\n",
        "RandomForest_treeR = RandomizedSearchCV(RandomForest_tree, parameters, n_iter=5, n_jobs=-1, scoring='neg_mean_squared_error', cv=3,  verbose=3)\n",
        "RandomForest_treeR.fit(x_train,y_train)\n",
        "\n",
        "# Predict the output\n",
        "y_train_grid_RFtree_pred = RandomForest_treeR.predict(x_train)\n",
        "y_test_grid_RFtree_pred = RandomForest_treeR.predict(x_test)\n",
        "\n",
        "# Printing the best parameters obtained by GridSearchCV\n",
        "print(f\"The best alpha value found out to be: {RandomForest_treeR.best_params_}\")\n",
        "print(f\"Negative mean square error is: {RandomForest_treeR.best_score_}\")"
      ],
      "metadata": {
        "id": "GyVB1r-4CaYB"
      },
      "execution_count": null,
      "outputs": []
    },
    {
      "cell_type": "code",
      "source": [
        "regression_metrics(y_train,y_train_grid_RFtree_pred,y_test,y_test_grid_RFtree_pred)"
      ],
      "metadata": {
        "id": "86Q3iDLmCZ6E"
      },
      "execution_count": null,
      "outputs": []
    },
    {
      "cell_type": "markdown",
      "source": [
        "##### Which hyperparameter optimization technique have you used and why?"
      ],
      "metadata": {
        "id": "HAih1iBOpsJ2"
      }
    },
    {
      "cell_type": "markdown",
      "source": [
        "We have used RandomizedSearchCV in Random Forest since we have huge dataset and it is good for huge and complex models where we just want to select random parameters from the bag of parameters. It reduces the processing and training time by taking the random subsets of the provided parameters wihout compromising the accuracy of the model."
      ],
      "metadata": {
        "id": "9kBgjYcdpsJ2"
      }
    },
    {
      "cell_type": "markdown",
      "source": [
        "### 1. Which Evaluation metrics did you consider for a positive business impact and why?"
      ],
      "metadata": {
        "id": "h_CCil-SKHpo"
      }
    },
    {
      "cell_type": "markdown",
      "source": [
        "Since predicting sales over a period of time falls under the category of \"Time series data\" and there are following regression metrics that are required as per our goal of analysis (Predicting future Sales):\n",
        "\n",
        "MAE(Mean Absolute Error): This metric calculates the average magnitude of the errors in the predictions, without considering their direction. It has the inverse relation with the accuracy of the model. In regression analysis our aim is to minimise the MAE and ultimately this will create positive business impact.\n",
        "\n",
        "RMSE(Root Mean Squared Error): It is the square root of MSE and this is the most widely use regression metric since it has the same units as the original data so it is easy to interpret the magnitude of error.\n",
        "\n",
        "R2_Score: R2 score(coefficient of determination) is a metric that is widely used in regression analysis because it measures the proportion of the variance in the dependent variable that is explained by the independent variables. R2 score allows analysts to quickly and easily evaluate the goodness of fit of a model and compare different models. It also provides a clear measure of how well the model is explaining the variance in the dependent variable, which can aid in making decisions about model selection and further analysis.\n",
        "\n",
        "MAPE(Mean Absolute Percentage Error): It is calculated by taking the average of the absolute percentage differences between the predicted values and the actual values. This metric is particularly useful when working with time series data(as in our case), as it allows for easy comparison of forecast accuracy across different scales. With the help of MAPE an analyst can easily explain the percentage error to the stakeholders. This metric is considered as one of the most important regression metric in time series data for a positive business impact.\n",
        "\n"
      ],
      "metadata": {
        "id": "jHVz9hHDKFms"
      }
    },
    {
      "cell_type": "markdown",
      "source": [
        "# **Conclusion**"
      ],
      "metadata": {
        "id": "gCX9965dhzqZ"
      }
    },
    {
      "cell_type": "markdown",
      "source": [
        "Exploratory Data Analysis (EDA) is an important step because it allows for the initial investigation of a dataset. It helps to identify patterns, anomalies, and relationships in the data, as well as to detect any potential issues such as missing values or outliers. EDA also helps to provide a deeper understanding of the data and helps to guide the direction of further analysis. After performing EDA we have drawn the following conclusions:\n",
        "\n",
        "\n",
        "1.   We saw from Sales vs Frequency density distribution graph that many stores are located in perfectly and also the sales are average and yes to sustain in the market we should be competitive.\n",
        "\n",
        "1.   From Customer vs frequency distribution graph on customer we found that there is postive response from customer as the data showinng average customers are 1000. so we understand to be more profit we have to take some hard decision to improve our customer.\n",
        "\n",
        "1.   From this plot between Sales and dayofweek,we understand that sales are high on opening days but gradually decreasing and shows that maximum sales is on Monday and sales gradually decreasing to 6th day of week i.e. on saturday and sales on Sunday is almost near to Zero as on sunday maximum stores are closed\n",
        "2.   From this bar plot between open Vs sales,we understands when stores are closed there is no sales but when store's are open it's high in sales.\n",
        "\n",
        "\n",
        "2.   From this bar plot between Assortment vs Sales, we understands: Store type a has a and c type assortment, Store type b has a and b type assortment, Store type c has a and c type assortment, Store type d has a and c type assortment. Assortment type a is sold more which means their demand is high followed by type c, b has the least sales which might mean they are high quality product and also they are available only in store type b.\n",
        "\n",
        "\n",
        "2.   This scatter plot between Customers vs Sales shows a positive correlation between 'Sales' and 'Customers'. As the number of customers increases, the sales also tend to increase. We understood from the above trend that our data shows in a linearly trend between customers and sales.\n",
        "\n",
        "\n",
        "1.   From this barplot between promo vs sales gives us there is promotion occurs for sales to be incresing but in promo2 vs sales there is no promotion occurs\n",
        "\n",
        "1.  From this point plot between CompetitionOpenSinceYear vs Sales, we can tell that Sales are high during the year 1900, as there are very few store were operated, so there is less competition and sales are high. But as year passes, number of stores increased that means competition also increased and this leads to decrease in the sales\n",
        "2.   From this bar plot between SchoolHoliday vs Sales, we can see there is no diffrece in sales,but sales are more on school holidays . It is possible that school holidays are more likely to be associated with families going on vacation or parents taking time off work to spend with their children, which could lead to increase in consumer spendings.\n",
        "\n",
        "\n",
        "2.   As we found from this pie plot there is maximum promotion occurs on jan,apr,jul,oct in this month and there is average 50% stores are not participating for promotion and lowest promotion occurs in mar,jun,sept,dec.\n",
        "\n",
        "\n",
        "###   From this heatmap we can say:\n",
        "\n",
        "1.  **Store and Sales are almost negligible correlated**\n",
        "2.   **DayofWeek and Sales are negatively(-0.46) correlated**\n",
        "\n",
        "\n",
        "1.   Customers and Sales are positively (0.89) correlated.\n",
        "2.  Promo and Sales are positively (0.45) correlated.\n",
        "\n",
        "\n",
        "1.  Open and Sales are positively(0.68) correlated\n",
        "2.   All the other features are negligibly correlated with Sales\n",
        "\n",
        "We have implemented various regression model started with Linear Regression and then we have tried other non linear models too. For each of the model we have tried to tune the hyperparameters  and crossvalidations also in  order to minimize the errors and drawn following conclusions:\n",
        "\n",
        "\n",
        "*   In Linear Regression we got the accuracy of 85% and  even after using regularization techniques that means our data has same accuracy of 85% and it is not perfectly linearly dependent with target variable(Sales).\n",
        "*  Despite using Lasso, Ridge models, we couldn't see any significant improvement in the r2 score, MSE and on MAPE as well.\n",
        "\n",
        "\n",
        "\n",
        "*   In Random Forest Regression we got the accuracy of 95% and  even after using regularization techniques that means our data has same accuracy of 95% and it is perfectly linearly dependent with target variable(Sales).\n",
        "*  by using crossvalidation techniques also we got same accuracy that means our data is perfectly linearly indepent in this model.\n",
        "\n",
        "\n",
        "\n",
        "\n",
        "\n",
        "\n",
        "\n",
        "\n",
        "\n",
        "\n",
        "\n",
        "\n",
        "\n",
        "\n",
        "\n",
        "\n",
        "\n",
        "\n"
      ],
      "metadata": {
        "id": "bOpcnG4VFYSS"
      }
    },
    {
      "cell_type": "markdown",
      "source": [
        "### ***Hurrah! You have successfully completed your Machine Learning Capstone Project !!!***"
      ],
      "metadata": {
        "id": "gIfDvo9L0UH2"
      }
    }
  ]
}